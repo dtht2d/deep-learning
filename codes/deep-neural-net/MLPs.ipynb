{
  "nbformat": 4,
  "nbformat_minor": 0,
  "metadata": {
    "colab": {
      "provenance": [],
      "authorship_tag": "ABX9TyNJqp+CrwvLnUd23o3hwmsi",
      "include_colab_link": true
    },
    "kernelspec": {
      "name": "python3",
      "display_name": "Python 3"
    },
    "language_info": {
      "name": "python"
    }
  },
  "cells": [
    {
      "cell_type": "markdown",
      "metadata": {
        "id": "view-in-github",
        "colab_type": "text"
      },
      "source": [
        "<a href=\"https://colab.research.google.com/github/dtht2d/deep-learning/blob/main/codes/deep-neural-net/MLPs.ipynb\" target=\"_parent\"><img src=\"https://colab.research.google.com/assets/colab-badge.svg\" alt=\"Open In Colab\"/></a>"
      ]
    },
    {
      "cell_type": "code",
      "source": [
        "%autosave 30"
      ],
      "metadata": {
        "colab": {
          "base_uri": "https://localhost:8080/",
          "height": 35
        },
        "id": "kfiqWesDJp0v",
        "outputId": "aadf89b1-8e24-443f-8a79-3c78c6597dba"
      },
      "execution_count": 1,
      "outputs": [
        {
          "output_type": "display_data",
          "data": {
            "application/javascript": [
              "IPython.notebook.set_autosave_interval(30000)"
            ]
          },
          "metadata": {}
        },
        {
          "output_type": "stream",
          "name": "stdout",
          "text": [
            "Autosaving every 30 seconds\n"
          ]
        }
      ]
    },
    {
      "cell_type": "markdown",
      "source": [
        "# **Objective**\n",
        "- Perform Correlation Analysis and Linear Regression on a Dataset\n",
        "- Compare the performance of different types of MLP neural networks\n",
        "---\n",
        "\n"
      ],
      "metadata": {
        "id": "34VqEBFnJz50"
      }
    },
    {
      "cell_type": "markdown",
      "source": [
        "# **1. Background:**\n",
        "### **a. Intuiety understanding of correlation analysis in machine learning:**\n",
        "\n",
        " **Definition:** a statistical technique used to measure the strength of the association between two or more variables. It helps to identify the nature and extent of the relationship between the variables. \n",
        "\n",
        " **Methods**: The most commonly used method for correlation analysis is the Pearson correlation coefficient, which measures the linear relationship between two variables. Other methods include the Spearman and Kendall correlation coefficients, which measure the association between variables without assuming a linear relationship.\n",
        "\n",
        "**Pros:**\n",
        "  \t- Identifies relationships between variables. \n",
        "    - Useful for feature selection and dimensionality reduction.\n",
        "    - Easy to implement.\n",
        "\n",
        " **Cons:**\n",
        "  \t- Assumes linearity (in the case of Pearson correlation coefficient). \n",
        "    - Cannot determine causality.\n",
        "    - May be influenced by outliers."
      ],
      "metadata": {
        "id": "hMBV391-PQuC"
      }
    },
    {
      "cell_type": "markdown",
      "source": [
        "### **b. Multi-Layer Perceptron (MLP) neural network:**\n",
        "\n",
        "**Definition**"
      ],
      "metadata": {
        "id": "5fZC0cIdSUtK"
      }
    },
    {
      "cell_type": "markdown",
      "source": [
        "\n",
        "# **2. Methods:**"
      ],
      "metadata": {
        "id": "lXePevWqPHTT"
      }
    },
    {
      "cell_type": "markdown",
      "source": [
        "##**A- Correlation Analysis and Linear Regression on a Dataset**\n",
        "1. Calculate the correlation coefficient of each input feature with the output using the corrcoef function: corrcoef(X(i,:),T), i=1,2,…13.(\n",
        "2. Identify the input features that have a higher correlation with the output and select them for linear regression.\n",
        "3. Build a linear regression model using the selected input features and report the model coefficients.\n",
        "4. Split the dataset into training and testing sets, using the first half of the samples for training and the second half for testing.\n",
        "5. Train the linear regression model on the training set and evaluate its performance on the testing set by calculating the mean squared error (MSE).\n",
        "6. Report the MSE as the goodness of fit (loss function) measure to evaluate the performance of the linear regression model.\n"
      ],
      "metadata": {
        "id": "8EvZscDKOhav"
      }
    },
    {
      "cell_type": "markdown",
      "source": [
        "## **B- Compare the Performance of Different Types of MLP Neural Networks**\n",
        "Use different types of MLP neural nets on all the input features dimensionalities. For each requested task, reset (using the comment ‘init’) and retrain the neural network model at hand 10 times and report on both mean and variance on training and validation MSEs as follows:For each requested task, reset (using the comment ‘init’) and retrain the neural network model at hand 10 times and report on both mean and variance on training and validation MSEs as follows:\n",
        "1. Create a simple 10-node one hidden layer regression MLP using the command ‘fitnet’. Use the network with its default settings except for training/validation/test data partitioning ratios, which you shall set to 80%, 20%, and 0 % respectively. Find the mean and variance of MSEs for training and validation portions of the dataset from the 10 training repetitions (with random initializations using init(net) ).\n",
        "2. Change the network’s hidden layer size to 2 nodes and then to 50 nodes, with training and validation ratios set to 30% and 70%, and then find the mean and variance of MSEs for training and validation portions of the dataset from the 10 training repetitions (again with random model initializations).\n",
        "3. For the 50-node model, have regularization (weight decay) set at 0.1 and 0.5 and the find mean and variance of MSEs for training and validation portions of the dataset from the 10 repetitions for each case."
      ],
      "metadata": {
        "id": "Mr_9C6vcOzfP"
      }
    },
    {
      "cell_type": "code",
      "source": [],
      "metadata": {
        "id": "897WeJABJy83"
      },
      "execution_count": null,
      "outputs": []
    },
    {
      "cell_type": "code",
      "source": [],
      "metadata": {
        "id": "Bc_eQKinMc-R"
      },
      "execution_count": null,
      "outputs": []
    },
    {
      "cell_type": "code",
      "execution_count": null,
      "metadata": {
        "id": "RegUjmdrJOcs"
      },
      "outputs": [],
      "source": []
    }
  ]
}