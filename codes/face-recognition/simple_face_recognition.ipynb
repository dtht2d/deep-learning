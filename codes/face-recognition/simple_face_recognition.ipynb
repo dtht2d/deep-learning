{
  "nbformat": 4,
  "nbformat_minor": 0,
  "metadata": {
    "colab": {
      "provenance": [],
      "authorship_tag": "ABX9TyPeLiqIQ+zTogisLOhj5qHb",
      "include_colab_link": true
    },
    "kernelspec": {
      "name": "python3",
      "display_name": "Python 3"
    },
    "language_info": {
      "name": "python"
    }
  },
  "cells": [
    {
      "cell_type": "markdown",
      "metadata": {
        "id": "view-in-github",
        "colab_type": "text"
      },
      "source": [
        "<a href=\"https://colab.research.google.com/github/dtht2d/deep-learning/blob/main/codes/face-recognition/simple_face_recognition.ipynb\" target=\"_parent\"><img src=\"https://colab.research.google.com/assets/colab-badge.svg\" alt=\"Open In Colab\"/></a>"
      ]
    },
    {
      "cell_type": "markdown",
      "source": [
        "### Install libraries\n"
      ],
      "metadata": {
        "id": "fPi1Yko5CLd-"
      }
    },
    {
      "cell_type": "markdown",
      "source": [
        "# **Python- Simple Face Recognition**\n",
        "## Objective\n",
        "Create a network that identifies each subject as a class (instead of the aforesaid example’s objects and their labels, here we have face images assigned to their unique identities). Use the same parameters as MATLAB’s example but also try to tune them for better results. Report on resulting validation accuracies similar to the aforesaid MATLAB example. \n",
        "Read MATLAB help files on “imageDatastore” and its various options. Repeat the above with a VGG 19 and compare results with AlexNet's. \n",
        "\n",
        "## Dataset\n",
        "*   [the AT&T face recognition dataset](https://www.kaggle.com/datasets/kasikrit/att-database-of-faces)\n",
        "  (40 subjects with 10 different mugshots for each).\n",
        "\n",
        "  Follow MATLAB’s transfer learning example https://www.mathworks.com/help/deeplearning/examples/transfer-learning-using-alexnet.html"
      ],
      "metadata": {
        "id": "-mL81kf91nX3"
      }
    },
    {
      "cell_type": "markdown",
      "source": [
        "### Install libraries"
      ],
      "metadata": {
        "id": "NgxjNChOC2RW"
      }
    },
    {
      "cell_type": "code",
      "source": [
        "!pip install opencv-python"
      ],
      "metadata": {
        "colab": {
          "base_uri": "https://localhost:8080/"
        },
        "id": "pa0xQoLvCOnz",
        "outputId": "e0f9c253-f73d-4618-c804-45f1262a72a9"
      },
      "execution_count": 13,
      "outputs": [
        {
          "output_type": "stream",
          "name": "stdout",
          "text": [
            "Looking in indexes: https://pypi.org/simple, https://us-python.pkg.dev/colab-wheels/public/simple/\n",
            "Requirement already satisfied: opencv-python in /usr/local/lib/python3.9/dist-packages (4.7.0.72)\n",
            "Requirement already satisfied: numpy>=1.19.3 in /usr/local/lib/python3.9/dist-packages (from opencv-python) (1.22.4)\n"
          ]
        }
      ]
    },
    {
      "cell_type": "code",
      "source": [
        "!pip install sklearn"
      ],
      "metadata": {
        "colab": {
          "base_uri": "https://localhost:8080/"
        },
        "id": "BGA0j2BmGm7_",
        "outputId": "a0f7a660-12a6-49bb-e87f-979c77252a1c"
      },
      "execution_count": 33,
      "outputs": [
        {
          "output_type": "stream",
          "name": "stdout",
          "text": [
            "Looking in indexes: https://pypi.org/simple, https://us-python.pkg.dev/colab-wheels/public/simple/\n",
            "Collecting sklearn\n",
            "  Downloading sklearn-0.0.post4.tar.gz (3.6 kB)\n",
            "  Preparing metadata (setup.py) ... \u001b[?25l\u001b[?25hdone\n",
            "Building wheels for collected packages: sklearn\n",
            "  Building wheel for sklearn (setup.py) ... \u001b[?25l\u001b[?25hdone\n",
            "  Created wheel for sklearn: filename=sklearn-0.0.post4-py3-none-any.whl size=2973 sha256=cbf163ac6668e8e58a738a46a96d9edd2fc4b7961b38c2d2f0abb75432c40397\n",
            "  Stored in directory: /root/.cache/pip/wheels/d5/b2/a9/590d15767d34955f20a9a033e8db973b79cb5672d95790c0a9\n",
            "Successfully built sklearn\n",
            "Installing collected packages: sklearn\n",
            "Successfully installed sklearn-0.0.post4\n"
          ]
        }
      ]
    },
    {
      "cell_type": "markdown",
      "source": [
        "## Load Data"
      ],
      "metadata": {
        "id": "Sz-OeMa2j4rW"
      }
    },
    {
      "cell_type": "code",
      "source": [
        "from google.colab import drive\n",
        "drive.mount('/content/drive')"
      ],
      "metadata": {
        "id": "e6I2v7sXkEqD",
        "colab": {
          "base_uri": "https://localhost:8080/"
        },
        "outputId": "548ff520-b1fb-491c-e180-c2e7ce4c97eb"
      },
      "execution_count": 4,
      "outputs": [
        {
          "output_type": "stream",
          "name": "stdout",
          "text": [
            "Mounted at /content/drive\n"
          ]
        }
      ]
    },
    {
      "cell_type": "code",
      "source": [
        "!unzip /content/drive/MyDrive/deep-learning/ATT/archive.zip -d /content/drive/MyDrive/deep-learning/ATT"
      ],
      "metadata": {
        "colab": {
          "base_uri": "https://localhost:8080/"
        },
        "id": "ggYdceJEnuNL",
        "outputId": "ea2fcedc-5600-46d8-c31b-655e4cc583e0"
      },
      "execution_count": 20,
      "outputs": [
        {
          "output_type": "stream",
          "name": "stdout",
          "text": [
            "Archive:  /content/drive/MyDrive/deep-learning/ATT/archive.zip\n",
            "  inflating: /content/drive/MyDrive/deep-learning/ATT/README  \n",
            "  inflating: /content/drive/MyDrive/deep-learning/ATT/s1/1.pgm  \n",
            "  inflating: /content/drive/MyDrive/deep-learning/ATT/s1/10.pgm  \n",
            "  inflating: /content/drive/MyDrive/deep-learning/ATT/s1/2.pgm  \n",
            "  inflating: /content/drive/MyDrive/deep-learning/ATT/s1/3.pgm  \n",
            "  inflating: /content/drive/MyDrive/deep-learning/ATT/s1/4.pgm  \n",
            "  inflating: /content/drive/MyDrive/deep-learning/ATT/s1/5.pgm  \n",
            "  inflating: /content/drive/MyDrive/deep-learning/ATT/s1/6.pgm  \n",
            "  inflating: /content/drive/MyDrive/deep-learning/ATT/s1/7.pgm  \n",
            "  inflating: /content/drive/MyDrive/deep-learning/ATT/s1/8.pgm  \n",
            "  inflating: /content/drive/MyDrive/deep-learning/ATT/s1/9.pgm  \n",
            "  inflating: /content/drive/MyDrive/deep-learning/ATT/s10/1.pgm  \n",
            "  inflating: /content/drive/MyDrive/deep-learning/ATT/s10/10.pgm  \n",
            "  inflating: /content/drive/MyDrive/deep-learning/ATT/s10/2.pgm  \n",
            "  inflating: /content/drive/MyDrive/deep-learning/ATT/s10/3.pgm  \n",
            "  inflating: /content/drive/MyDrive/deep-learning/ATT/s10/4.pgm  \n",
            "  inflating: /content/drive/MyDrive/deep-learning/ATT/s10/5.pgm  \n",
            "  inflating: /content/drive/MyDrive/deep-learning/ATT/s10/6.pgm  \n",
            "  inflating: /content/drive/MyDrive/deep-learning/ATT/s10/7.pgm  \n",
            "  inflating: /content/drive/MyDrive/deep-learning/ATT/s10/8.pgm  \n",
            "  inflating: /content/drive/MyDrive/deep-learning/ATT/s10/9.pgm  \n",
            "  inflating: /content/drive/MyDrive/deep-learning/ATT/s11/1.pgm  \n",
            "  inflating: /content/drive/MyDrive/deep-learning/ATT/s11/10.pgm  \n",
            "  inflating: /content/drive/MyDrive/deep-learning/ATT/s11/2.pgm  \n",
            "  inflating: /content/drive/MyDrive/deep-learning/ATT/s11/3.pgm  \n",
            "  inflating: /content/drive/MyDrive/deep-learning/ATT/s11/4.pgm  \n",
            "  inflating: /content/drive/MyDrive/deep-learning/ATT/s11/5.pgm  \n",
            "  inflating: /content/drive/MyDrive/deep-learning/ATT/s11/6.pgm  \n",
            "  inflating: /content/drive/MyDrive/deep-learning/ATT/s11/7.pgm  \n",
            "  inflating: /content/drive/MyDrive/deep-learning/ATT/s11/8.pgm  \n",
            "  inflating: /content/drive/MyDrive/deep-learning/ATT/s11/9.pgm  \n",
            "  inflating: /content/drive/MyDrive/deep-learning/ATT/s12/1.pgm  \n",
            "  inflating: /content/drive/MyDrive/deep-learning/ATT/s12/10.pgm  \n",
            "  inflating: /content/drive/MyDrive/deep-learning/ATT/s12/2.pgm  \n",
            "  inflating: /content/drive/MyDrive/deep-learning/ATT/s12/3.pgm  \n",
            "  inflating: /content/drive/MyDrive/deep-learning/ATT/s12/4.pgm  \n",
            "  inflating: /content/drive/MyDrive/deep-learning/ATT/s12/5.pgm  \n",
            "  inflating: /content/drive/MyDrive/deep-learning/ATT/s12/6.pgm  \n",
            "  inflating: /content/drive/MyDrive/deep-learning/ATT/s12/7.pgm  \n",
            "  inflating: /content/drive/MyDrive/deep-learning/ATT/s12/8.pgm  \n",
            "  inflating: /content/drive/MyDrive/deep-learning/ATT/s12/9.pgm  \n",
            "  inflating: /content/drive/MyDrive/deep-learning/ATT/s13/1.pgm  \n",
            "  inflating: /content/drive/MyDrive/deep-learning/ATT/s13/10.pgm  \n",
            "  inflating: /content/drive/MyDrive/deep-learning/ATT/s13/2.pgm  \n",
            "  inflating: /content/drive/MyDrive/deep-learning/ATT/s13/3.pgm  \n",
            "  inflating: /content/drive/MyDrive/deep-learning/ATT/s13/4.pgm  \n",
            "  inflating: /content/drive/MyDrive/deep-learning/ATT/s13/5.pgm  \n",
            "  inflating: /content/drive/MyDrive/deep-learning/ATT/s13/6.pgm  \n",
            "  inflating: /content/drive/MyDrive/deep-learning/ATT/s13/7.pgm  \n",
            "  inflating: /content/drive/MyDrive/deep-learning/ATT/s13/8.pgm  \n",
            "  inflating: /content/drive/MyDrive/deep-learning/ATT/s13/9.pgm  \n",
            "  inflating: /content/drive/MyDrive/deep-learning/ATT/s14/1.pgm  \n",
            "  inflating: /content/drive/MyDrive/deep-learning/ATT/s14/10.pgm  \n",
            "  inflating: /content/drive/MyDrive/deep-learning/ATT/s14/2.pgm  \n",
            "  inflating: /content/drive/MyDrive/deep-learning/ATT/s14/3.pgm  \n",
            "  inflating: /content/drive/MyDrive/deep-learning/ATT/s14/4.pgm  \n",
            "  inflating: /content/drive/MyDrive/deep-learning/ATT/s14/5.pgm  \n",
            "  inflating: /content/drive/MyDrive/deep-learning/ATT/s14/6.pgm  \n",
            "  inflating: /content/drive/MyDrive/deep-learning/ATT/s14/7.pgm  \n",
            "  inflating: /content/drive/MyDrive/deep-learning/ATT/s14/8.pgm  \n",
            "  inflating: /content/drive/MyDrive/deep-learning/ATT/s14/9.pgm  \n",
            "  inflating: /content/drive/MyDrive/deep-learning/ATT/s15/1.pgm  \n",
            "  inflating: /content/drive/MyDrive/deep-learning/ATT/s15/10.pgm  \n",
            "  inflating: /content/drive/MyDrive/deep-learning/ATT/s15/2.pgm  \n",
            "  inflating: /content/drive/MyDrive/deep-learning/ATT/s15/3.pgm  \n",
            "  inflating: /content/drive/MyDrive/deep-learning/ATT/s15/4.pgm  \n",
            "  inflating: /content/drive/MyDrive/deep-learning/ATT/s15/5.pgm  \n",
            "  inflating: /content/drive/MyDrive/deep-learning/ATT/s15/6.pgm  \n",
            "  inflating: /content/drive/MyDrive/deep-learning/ATT/s15/7.pgm  \n",
            "  inflating: /content/drive/MyDrive/deep-learning/ATT/s15/8.pgm  \n",
            "  inflating: /content/drive/MyDrive/deep-learning/ATT/s15/9.pgm  \n",
            "  inflating: /content/drive/MyDrive/deep-learning/ATT/s16/1.pgm  \n",
            "  inflating: /content/drive/MyDrive/deep-learning/ATT/s16/10.pgm  \n",
            "  inflating: /content/drive/MyDrive/deep-learning/ATT/s16/2.pgm  \n",
            "  inflating: /content/drive/MyDrive/deep-learning/ATT/s16/3.pgm  \n",
            "  inflating: /content/drive/MyDrive/deep-learning/ATT/s16/4.pgm  \n",
            "  inflating: /content/drive/MyDrive/deep-learning/ATT/s16/5.pgm  \n",
            "  inflating: /content/drive/MyDrive/deep-learning/ATT/s16/6.pgm  \n",
            "  inflating: /content/drive/MyDrive/deep-learning/ATT/s16/7.pgm  \n",
            "  inflating: /content/drive/MyDrive/deep-learning/ATT/s16/8.pgm  \n",
            "  inflating: /content/drive/MyDrive/deep-learning/ATT/s16/9.pgm  \n",
            "  inflating: /content/drive/MyDrive/deep-learning/ATT/s17/1.pgm  \n",
            "  inflating: /content/drive/MyDrive/deep-learning/ATT/s17/10.pgm  \n",
            "  inflating: /content/drive/MyDrive/deep-learning/ATT/s17/2.pgm  \n",
            "  inflating: /content/drive/MyDrive/deep-learning/ATT/s17/3.pgm  \n",
            "  inflating: /content/drive/MyDrive/deep-learning/ATT/s17/4.pgm  \n",
            "  inflating: /content/drive/MyDrive/deep-learning/ATT/s17/5.pgm  \n",
            "  inflating: /content/drive/MyDrive/deep-learning/ATT/s17/6.pgm  \n",
            "  inflating: /content/drive/MyDrive/deep-learning/ATT/s17/7.pgm  \n",
            "  inflating: /content/drive/MyDrive/deep-learning/ATT/s17/8.pgm  \n",
            "  inflating: /content/drive/MyDrive/deep-learning/ATT/s17/9.pgm  \n",
            "  inflating: /content/drive/MyDrive/deep-learning/ATT/s18/1.pgm  \n",
            "  inflating: /content/drive/MyDrive/deep-learning/ATT/s18/10.pgm  \n",
            "  inflating: /content/drive/MyDrive/deep-learning/ATT/s18/2.pgm  \n",
            "  inflating: /content/drive/MyDrive/deep-learning/ATT/s18/3.pgm  \n",
            "  inflating: /content/drive/MyDrive/deep-learning/ATT/s18/4.pgm  \n",
            "  inflating: /content/drive/MyDrive/deep-learning/ATT/s18/5.pgm  \n",
            "  inflating: /content/drive/MyDrive/deep-learning/ATT/s18/6.pgm  \n",
            "  inflating: /content/drive/MyDrive/deep-learning/ATT/s18/7.pgm  \n",
            "  inflating: /content/drive/MyDrive/deep-learning/ATT/s18/8.pgm  \n",
            "  inflating: /content/drive/MyDrive/deep-learning/ATT/s18/9.pgm  \n",
            "  inflating: /content/drive/MyDrive/deep-learning/ATT/s19/1.pgm  \n",
            "  inflating: /content/drive/MyDrive/deep-learning/ATT/s19/10.pgm  \n",
            "  inflating: /content/drive/MyDrive/deep-learning/ATT/s19/2.pgm  \n",
            "  inflating: /content/drive/MyDrive/deep-learning/ATT/s19/3.pgm  \n",
            "  inflating: /content/drive/MyDrive/deep-learning/ATT/s19/4.pgm  \n",
            "  inflating: /content/drive/MyDrive/deep-learning/ATT/s19/5.pgm  \n",
            "  inflating: /content/drive/MyDrive/deep-learning/ATT/s19/6.pgm  \n",
            "  inflating: /content/drive/MyDrive/deep-learning/ATT/s19/7.pgm  \n",
            "  inflating: /content/drive/MyDrive/deep-learning/ATT/s19/8.pgm  \n",
            "  inflating: /content/drive/MyDrive/deep-learning/ATT/s19/9.pgm  \n",
            "  inflating: /content/drive/MyDrive/deep-learning/ATT/s2/1.pgm  \n",
            "  inflating: /content/drive/MyDrive/deep-learning/ATT/s2/10.pgm  \n",
            "  inflating: /content/drive/MyDrive/deep-learning/ATT/s2/2.pgm  \n",
            "  inflating: /content/drive/MyDrive/deep-learning/ATT/s2/3.pgm  \n",
            "  inflating: /content/drive/MyDrive/deep-learning/ATT/s2/4.pgm  \n",
            "  inflating: /content/drive/MyDrive/deep-learning/ATT/s2/5.pgm  \n",
            "  inflating: /content/drive/MyDrive/deep-learning/ATT/s2/6.pgm  \n",
            "  inflating: /content/drive/MyDrive/deep-learning/ATT/s2/7.pgm  \n",
            "  inflating: /content/drive/MyDrive/deep-learning/ATT/s2/8.pgm  \n",
            "  inflating: /content/drive/MyDrive/deep-learning/ATT/s2/9.pgm  \n",
            "  inflating: /content/drive/MyDrive/deep-learning/ATT/s20/1.pgm  \n",
            "  inflating: /content/drive/MyDrive/deep-learning/ATT/s20/10.pgm  \n",
            "  inflating: /content/drive/MyDrive/deep-learning/ATT/s20/2.pgm  \n",
            "  inflating: /content/drive/MyDrive/deep-learning/ATT/s20/3.pgm  \n",
            "  inflating: /content/drive/MyDrive/deep-learning/ATT/s20/4.pgm  \n",
            "  inflating: /content/drive/MyDrive/deep-learning/ATT/s20/5.pgm  \n",
            "  inflating: /content/drive/MyDrive/deep-learning/ATT/s20/6.pgm  \n",
            "  inflating: /content/drive/MyDrive/deep-learning/ATT/s20/7.pgm  \n",
            "  inflating: /content/drive/MyDrive/deep-learning/ATT/s20/8.pgm  \n",
            "  inflating: /content/drive/MyDrive/deep-learning/ATT/s20/9.pgm  \n",
            "  inflating: /content/drive/MyDrive/deep-learning/ATT/s21/1.pgm  \n",
            "  inflating: /content/drive/MyDrive/deep-learning/ATT/s21/10.pgm  \n",
            "  inflating: /content/drive/MyDrive/deep-learning/ATT/s21/2.pgm  \n",
            "  inflating: /content/drive/MyDrive/deep-learning/ATT/s21/3.pgm  \n",
            "  inflating: /content/drive/MyDrive/deep-learning/ATT/s21/4.pgm  \n",
            "  inflating: /content/drive/MyDrive/deep-learning/ATT/s21/5.pgm  \n",
            "  inflating: /content/drive/MyDrive/deep-learning/ATT/s21/6.pgm  \n",
            "  inflating: /content/drive/MyDrive/deep-learning/ATT/s21/7.pgm  \n",
            "  inflating: /content/drive/MyDrive/deep-learning/ATT/s21/8.pgm  \n",
            "  inflating: /content/drive/MyDrive/deep-learning/ATT/s21/9.pgm  \n",
            "  inflating: /content/drive/MyDrive/deep-learning/ATT/s22/1.pgm  \n",
            "  inflating: /content/drive/MyDrive/deep-learning/ATT/s22/10.pgm  \n",
            "  inflating: /content/drive/MyDrive/deep-learning/ATT/s22/2.pgm  \n",
            "  inflating: /content/drive/MyDrive/deep-learning/ATT/s22/3.pgm  \n",
            "  inflating: /content/drive/MyDrive/deep-learning/ATT/s22/4.pgm  \n",
            "  inflating: /content/drive/MyDrive/deep-learning/ATT/s22/5.pgm  \n",
            "  inflating: /content/drive/MyDrive/deep-learning/ATT/s22/6.pgm  \n",
            "  inflating: /content/drive/MyDrive/deep-learning/ATT/s22/7.pgm  \n",
            "  inflating: /content/drive/MyDrive/deep-learning/ATT/s22/8.pgm  \n",
            "  inflating: /content/drive/MyDrive/deep-learning/ATT/s22/9.pgm  \n",
            "  inflating: /content/drive/MyDrive/deep-learning/ATT/s23/1.pgm  \n",
            "  inflating: /content/drive/MyDrive/deep-learning/ATT/s23/10.pgm  \n",
            "  inflating: /content/drive/MyDrive/deep-learning/ATT/s23/2.pgm  \n",
            "  inflating: /content/drive/MyDrive/deep-learning/ATT/s23/3.pgm  \n",
            "  inflating: /content/drive/MyDrive/deep-learning/ATT/s23/4.pgm  \n",
            "  inflating: /content/drive/MyDrive/deep-learning/ATT/s23/5.pgm  \n",
            "  inflating: /content/drive/MyDrive/deep-learning/ATT/s23/6.pgm  \n",
            "  inflating: /content/drive/MyDrive/deep-learning/ATT/s23/7.pgm  \n",
            "  inflating: /content/drive/MyDrive/deep-learning/ATT/s23/8.pgm  \n",
            "  inflating: /content/drive/MyDrive/deep-learning/ATT/s23/9.pgm  \n",
            "  inflating: /content/drive/MyDrive/deep-learning/ATT/s24/1.pgm  \n",
            "  inflating: /content/drive/MyDrive/deep-learning/ATT/s24/10.pgm  \n",
            "  inflating: /content/drive/MyDrive/deep-learning/ATT/s24/2.pgm  \n",
            "  inflating: /content/drive/MyDrive/deep-learning/ATT/s24/3.pgm  \n",
            "  inflating: /content/drive/MyDrive/deep-learning/ATT/s24/4.pgm  \n",
            "  inflating: /content/drive/MyDrive/deep-learning/ATT/s24/5.pgm  \n",
            "  inflating: /content/drive/MyDrive/deep-learning/ATT/s24/6.pgm  \n",
            "  inflating: /content/drive/MyDrive/deep-learning/ATT/s24/7.pgm  \n",
            "  inflating: /content/drive/MyDrive/deep-learning/ATT/s24/8.pgm  \n",
            "  inflating: /content/drive/MyDrive/deep-learning/ATT/s24/9.pgm  \n",
            "  inflating: /content/drive/MyDrive/deep-learning/ATT/s25/1.pgm  \n",
            "  inflating: /content/drive/MyDrive/deep-learning/ATT/s25/10.pgm  \n",
            "  inflating: /content/drive/MyDrive/deep-learning/ATT/s25/2.pgm  \n",
            "  inflating: /content/drive/MyDrive/deep-learning/ATT/s25/3.pgm  \n",
            "  inflating: /content/drive/MyDrive/deep-learning/ATT/s25/4.pgm  \n",
            "  inflating: /content/drive/MyDrive/deep-learning/ATT/s25/5.pgm  \n",
            "  inflating: /content/drive/MyDrive/deep-learning/ATT/s25/6.pgm  \n",
            "  inflating: /content/drive/MyDrive/deep-learning/ATT/s25/7.pgm  \n",
            "  inflating: /content/drive/MyDrive/deep-learning/ATT/s25/8.pgm  \n",
            "  inflating: /content/drive/MyDrive/deep-learning/ATT/s25/9.pgm  \n",
            "  inflating: /content/drive/MyDrive/deep-learning/ATT/s26/1.pgm  \n",
            "  inflating: /content/drive/MyDrive/deep-learning/ATT/s26/10.pgm  \n",
            "  inflating: /content/drive/MyDrive/deep-learning/ATT/s26/2.pgm  \n",
            "  inflating: /content/drive/MyDrive/deep-learning/ATT/s26/3.pgm  \n",
            "  inflating: /content/drive/MyDrive/deep-learning/ATT/s26/4.pgm  \n",
            "  inflating: /content/drive/MyDrive/deep-learning/ATT/s26/5.pgm  \n",
            "  inflating: /content/drive/MyDrive/deep-learning/ATT/s26/6.pgm  \n",
            "  inflating: /content/drive/MyDrive/deep-learning/ATT/s26/7.pgm  \n",
            "  inflating: /content/drive/MyDrive/deep-learning/ATT/s26/8.pgm  \n",
            "  inflating: /content/drive/MyDrive/deep-learning/ATT/s26/9.pgm  \n",
            "  inflating: /content/drive/MyDrive/deep-learning/ATT/s27/1.pgm  \n",
            "  inflating: /content/drive/MyDrive/deep-learning/ATT/s27/10.pgm  \n",
            "  inflating: /content/drive/MyDrive/deep-learning/ATT/s27/2.pgm  \n",
            "  inflating: /content/drive/MyDrive/deep-learning/ATT/s27/3.pgm  \n",
            "  inflating: /content/drive/MyDrive/deep-learning/ATT/s27/4.pgm  \n",
            "  inflating: /content/drive/MyDrive/deep-learning/ATT/s27/5.pgm  \n",
            "  inflating: /content/drive/MyDrive/deep-learning/ATT/s27/6.pgm  \n",
            "  inflating: /content/drive/MyDrive/deep-learning/ATT/s27/7.pgm  \n",
            "  inflating: /content/drive/MyDrive/deep-learning/ATT/s27/8.pgm  \n",
            "  inflating: /content/drive/MyDrive/deep-learning/ATT/s27/9.pgm  \n",
            "  inflating: /content/drive/MyDrive/deep-learning/ATT/s28/1.pgm  \n",
            "  inflating: /content/drive/MyDrive/deep-learning/ATT/s28/10.pgm  \n",
            "  inflating: /content/drive/MyDrive/deep-learning/ATT/s28/2.pgm  \n",
            "  inflating: /content/drive/MyDrive/deep-learning/ATT/s28/3.pgm  \n",
            "  inflating: /content/drive/MyDrive/deep-learning/ATT/s28/4.pgm  \n",
            "  inflating: /content/drive/MyDrive/deep-learning/ATT/s28/5.pgm  \n",
            "  inflating: /content/drive/MyDrive/deep-learning/ATT/s28/6.pgm  \n",
            "  inflating: /content/drive/MyDrive/deep-learning/ATT/s28/7.pgm  \n",
            "  inflating: /content/drive/MyDrive/deep-learning/ATT/s28/8.pgm  \n",
            "  inflating: /content/drive/MyDrive/deep-learning/ATT/s28/9.pgm  \n",
            "  inflating: /content/drive/MyDrive/deep-learning/ATT/s29/1.pgm  \n",
            "  inflating: /content/drive/MyDrive/deep-learning/ATT/s29/10.pgm  \n",
            "  inflating: /content/drive/MyDrive/deep-learning/ATT/s29/2.pgm  \n",
            "  inflating: /content/drive/MyDrive/deep-learning/ATT/s29/3.pgm  \n",
            "  inflating: /content/drive/MyDrive/deep-learning/ATT/s29/4.pgm  \n",
            "  inflating: /content/drive/MyDrive/deep-learning/ATT/s29/5.pgm  \n",
            "  inflating: /content/drive/MyDrive/deep-learning/ATT/s29/6.pgm  \n",
            "  inflating: /content/drive/MyDrive/deep-learning/ATT/s29/7.pgm  \n",
            "  inflating: /content/drive/MyDrive/deep-learning/ATT/s29/8.pgm  \n",
            "  inflating: /content/drive/MyDrive/deep-learning/ATT/s29/9.pgm  \n",
            "  inflating: /content/drive/MyDrive/deep-learning/ATT/s3/1.pgm  \n",
            "  inflating: /content/drive/MyDrive/deep-learning/ATT/s3/10.pgm  \n",
            "  inflating: /content/drive/MyDrive/deep-learning/ATT/s3/2.pgm  \n",
            "  inflating: /content/drive/MyDrive/deep-learning/ATT/s3/3.pgm  \n",
            "  inflating: /content/drive/MyDrive/deep-learning/ATT/s3/4.pgm  \n",
            "  inflating: /content/drive/MyDrive/deep-learning/ATT/s3/5.pgm  \n",
            "  inflating: /content/drive/MyDrive/deep-learning/ATT/s3/6.pgm  \n",
            "  inflating: /content/drive/MyDrive/deep-learning/ATT/s3/7.pgm  \n",
            "  inflating: /content/drive/MyDrive/deep-learning/ATT/s3/8.pgm  \n",
            "  inflating: /content/drive/MyDrive/deep-learning/ATT/s3/9.pgm  \n",
            "  inflating: /content/drive/MyDrive/deep-learning/ATT/s30/1.pgm  \n",
            "  inflating: /content/drive/MyDrive/deep-learning/ATT/s30/10.pgm  \n",
            "  inflating: /content/drive/MyDrive/deep-learning/ATT/s30/2.pgm  \n",
            "  inflating: /content/drive/MyDrive/deep-learning/ATT/s30/3.pgm  \n",
            "  inflating: /content/drive/MyDrive/deep-learning/ATT/s30/4.pgm  \n",
            "  inflating: /content/drive/MyDrive/deep-learning/ATT/s30/5.pgm  \n",
            "  inflating: /content/drive/MyDrive/deep-learning/ATT/s30/6.pgm  \n",
            "  inflating: /content/drive/MyDrive/deep-learning/ATT/s30/7.pgm  \n",
            "  inflating: /content/drive/MyDrive/deep-learning/ATT/s30/8.pgm  \n",
            "  inflating: /content/drive/MyDrive/deep-learning/ATT/s30/9.pgm  \n",
            "  inflating: /content/drive/MyDrive/deep-learning/ATT/s31/1.pgm  \n",
            "  inflating: /content/drive/MyDrive/deep-learning/ATT/s31/10.pgm  \n",
            "  inflating: /content/drive/MyDrive/deep-learning/ATT/s31/2.pgm  \n",
            "  inflating: /content/drive/MyDrive/deep-learning/ATT/s31/3.pgm  \n",
            "  inflating: /content/drive/MyDrive/deep-learning/ATT/s31/4.pgm  \n",
            "  inflating: /content/drive/MyDrive/deep-learning/ATT/s31/5.pgm  \n",
            "  inflating: /content/drive/MyDrive/deep-learning/ATT/s31/6.pgm  \n",
            "  inflating: /content/drive/MyDrive/deep-learning/ATT/s31/7.pgm  \n",
            "  inflating: /content/drive/MyDrive/deep-learning/ATT/s31/8.pgm  \n",
            "  inflating: /content/drive/MyDrive/deep-learning/ATT/s31/9.pgm  \n",
            "  inflating: /content/drive/MyDrive/deep-learning/ATT/s32/1.pgm  \n",
            "  inflating: /content/drive/MyDrive/deep-learning/ATT/s32/10.pgm  \n",
            "  inflating: /content/drive/MyDrive/deep-learning/ATT/s32/2.pgm  \n",
            "  inflating: /content/drive/MyDrive/deep-learning/ATT/s32/3.pgm  \n",
            "  inflating: /content/drive/MyDrive/deep-learning/ATT/s32/4.pgm  \n",
            "  inflating: /content/drive/MyDrive/deep-learning/ATT/s32/5.pgm  \n",
            "  inflating: /content/drive/MyDrive/deep-learning/ATT/s32/6.pgm  \n",
            "  inflating: /content/drive/MyDrive/deep-learning/ATT/s32/7.pgm  \n",
            "  inflating: /content/drive/MyDrive/deep-learning/ATT/s32/8.pgm  \n",
            "  inflating: /content/drive/MyDrive/deep-learning/ATT/s32/9.pgm  \n",
            "  inflating: /content/drive/MyDrive/deep-learning/ATT/s33/1.pgm  \n",
            "  inflating: /content/drive/MyDrive/deep-learning/ATT/s33/10.pgm  \n",
            "  inflating: /content/drive/MyDrive/deep-learning/ATT/s33/2.pgm  \n",
            "  inflating: /content/drive/MyDrive/deep-learning/ATT/s33/3.pgm  \n",
            "  inflating: /content/drive/MyDrive/deep-learning/ATT/s33/4.pgm  \n",
            "  inflating: /content/drive/MyDrive/deep-learning/ATT/s33/5.pgm  \n",
            "  inflating: /content/drive/MyDrive/deep-learning/ATT/s33/6.pgm  \n",
            "  inflating: /content/drive/MyDrive/deep-learning/ATT/s33/7.pgm  \n",
            "  inflating: /content/drive/MyDrive/deep-learning/ATT/s33/8.pgm  \n",
            "  inflating: /content/drive/MyDrive/deep-learning/ATT/s33/9.pgm  \n",
            "  inflating: /content/drive/MyDrive/deep-learning/ATT/s34/1.pgm  \n",
            "  inflating: /content/drive/MyDrive/deep-learning/ATT/s34/10.pgm  \n",
            "  inflating: /content/drive/MyDrive/deep-learning/ATT/s34/2.pgm  \n",
            "  inflating: /content/drive/MyDrive/deep-learning/ATT/s34/3.pgm  \n",
            "  inflating: /content/drive/MyDrive/deep-learning/ATT/s34/4.pgm  \n",
            "  inflating: /content/drive/MyDrive/deep-learning/ATT/s34/5.pgm  \n",
            "  inflating: /content/drive/MyDrive/deep-learning/ATT/s34/6.pgm  \n",
            "  inflating: /content/drive/MyDrive/deep-learning/ATT/s34/7.pgm  \n",
            "  inflating: /content/drive/MyDrive/deep-learning/ATT/s34/8.pgm  \n",
            "  inflating: /content/drive/MyDrive/deep-learning/ATT/s34/9.pgm  \n",
            "  inflating: /content/drive/MyDrive/deep-learning/ATT/s35/1.pgm  \n",
            "  inflating: /content/drive/MyDrive/deep-learning/ATT/s35/10.pgm  \n",
            "  inflating: /content/drive/MyDrive/deep-learning/ATT/s35/2.pgm  \n",
            "  inflating: /content/drive/MyDrive/deep-learning/ATT/s35/3.pgm  \n",
            "  inflating: /content/drive/MyDrive/deep-learning/ATT/s35/4.pgm  \n",
            "  inflating: /content/drive/MyDrive/deep-learning/ATT/s35/5.pgm  \n",
            "  inflating: /content/drive/MyDrive/deep-learning/ATT/s35/6.pgm  \n",
            "  inflating: /content/drive/MyDrive/deep-learning/ATT/s35/7.pgm  \n",
            "  inflating: /content/drive/MyDrive/deep-learning/ATT/s35/8.pgm  \n",
            "  inflating: /content/drive/MyDrive/deep-learning/ATT/s35/9.pgm  \n",
            "  inflating: /content/drive/MyDrive/deep-learning/ATT/s36/1.pgm  \n",
            "  inflating: /content/drive/MyDrive/deep-learning/ATT/s36/10.pgm  \n",
            "  inflating: /content/drive/MyDrive/deep-learning/ATT/s36/2.pgm  \n",
            "  inflating: /content/drive/MyDrive/deep-learning/ATT/s36/3.pgm  \n",
            "  inflating: /content/drive/MyDrive/deep-learning/ATT/s36/4.pgm  \n",
            "  inflating: /content/drive/MyDrive/deep-learning/ATT/s36/5.pgm  \n",
            "  inflating: /content/drive/MyDrive/deep-learning/ATT/s36/6.pgm  \n",
            "  inflating: /content/drive/MyDrive/deep-learning/ATT/s36/7.pgm  \n",
            "  inflating: /content/drive/MyDrive/deep-learning/ATT/s36/8.pgm  \n",
            "  inflating: /content/drive/MyDrive/deep-learning/ATT/s36/9.pgm  \n",
            "  inflating: /content/drive/MyDrive/deep-learning/ATT/s37/1.pgm  \n",
            "  inflating: /content/drive/MyDrive/deep-learning/ATT/s37/10.pgm  \n",
            "  inflating: /content/drive/MyDrive/deep-learning/ATT/s37/2.pgm  \n",
            "  inflating: /content/drive/MyDrive/deep-learning/ATT/s37/3.pgm  \n",
            "  inflating: /content/drive/MyDrive/deep-learning/ATT/s37/4.pgm  \n",
            "  inflating: /content/drive/MyDrive/deep-learning/ATT/s37/5.pgm  \n",
            "  inflating: /content/drive/MyDrive/deep-learning/ATT/s37/6.pgm  \n",
            "  inflating: /content/drive/MyDrive/deep-learning/ATT/s37/7.pgm  \n",
            "  inflating: /content/drive/MyDrive/deep-learning/ATT/s37/8.pgm  \n",
            "  inflating: /content/drive/MyDrive/deep-learning/ATT/s37/9.pgm  \n",
            "  inflating: /content/drive/MyDrive/deep-learning/ATT/s38/1.pgm  \n",
            "  inflating: /content/drive/MyDrive/deep-learning/ATT/s38/10.pgm  \n",
            "  inflating: /content/drive/MyDrive/deep-learning/ATT/s38/2.pgm  \n",
            "  inflating: /content/drive/MyDrive/deep-learning/ATT/s38/3.pgm  \n",
            "  inflating: /content/drive/MyDrive/deep-learning/ATT/s38/4.pgm  \n",
            "  inflating: /content/drive/MyDrive/deep-learning/ATT/s38/5.pgm  \n",
            "  inflating: /content/drive/MyDrive/deep-learning/ATT/s38/6.pgm  \n",
            "  inflating: /content/drive/MyDrive/deep-learning/ATT/s38/7.pgm  \n",
            "  inflating: /content/drive/MyDrive/deep-learning/ATT/s38/8.pgm  \n",
            "  inflating: /content/drive/MyDrive/deep-learning/ATT/s38/9.pgm  \n",
            "  inflating: /content/drive/MyDrive/deep-learning/ATT/s39/1.pgm  \n",
            "  inflating: /content/drive/MyDrive/deep-learning/ATT/s39/10.pgm  \n",
            "  inflating: /content/drive/MyDrive/deep-learning/ATT/s39/2.pgm  \n",
            "  inflating: /content/drive/MyDrive/deep-learning/ATT/s39/3.pgm  \n",
            "  inflating: /content/drive/MyDrive/deep-learning/ATT/s39/4.pgm  \n",
            "  inflating: /content/drive/MyDrive/deep-learning/ATT/s39/5.pgm  \n",
            "  inflating: /content/drive/MyDrive/deep-learning/ATT/s39/6.pgm  \n",
            "  inflating: /content/drive/MyDrive/deep-learning/ATT/s39/7.pgm  \n",
            "  inflating: /content/drive/MyDrive/deep-learning/ATT/s39/8.pgm  \n",
            "  inflating: /content/drive/MyDrive/deep-learning/ATT/s39/9.pgm  \n",
            "  inflating: /content/drive/MyDrive/deep-learning/ATT/s4/1.pgm  \n",
            "  inflating: /content/drive/MyDrive/deep-learning/ATT/s4/10.pgm  \n",
            "  inflating: /content/drive/MyDrive/deep-learning/ATT/s4/2.pgm  \n",
            "  inflating: /content/drive/MyDrive/deep-learning/ATT/s4/3.pgm  \n",
            "  inflating: /content/drive/MyDrive/deep-learning/ATT/s4/4.pgm  \n",
            "  inflating: /content/drive/MyDrive/deep-learning/ATT/s4/5.pgm  \n",
            "  inflating: /content/drive/MyDrive/deep-learning/ATT/s4/6.pgm  \n",
            "  inflating: /content/drive/MyDrive/deep-learning/ATT/s4/7.pgm  \n",
            "  inflating: /content/drive/MyDrive/deep-learning/ATT/s4/8.pgm  \n",
            "  inflating: /content/drive/MyDrive/deep-learning/ATT/s4/9.pgm  \n",
            "  inflating: /content/drive/MyDrive/deep-learning/ATT/s40/1.pgm  \n",
            "  inflating: /content/drive/MyDrive/deep-learning/ATT/s40/10.pgm  \n",
            "  inflating: /content/drive/MyDrive/deep-learning/ATT/s40/2.pgm  \n",
            "  inflating: /content/drive/MyDrive/deep-learning/ATT/s40/3.pgm  \n",
            "  inflating: /content/drive/MyDrive/deep-learning/ATT/s40/4.pgm  \n",
            "  inflating: /content/drive/MyDrive/deep-learning/ATT/s40/5.pgm  \n",
            "  inflating: /content/drive/MyDrive/deep-learning/ATT/s40/6.pgm  \n",
            "  inflating: /content/drive/MyDrive/deep-learning/ATT/s40/7.pgm  \n",
            "  inflating: /content/drive/MyDrive/deep-learning/ATT/s40/8.pgm  \n",
            "  inflating: /content/drive/MyDrive/deep-learning/ATT/s40/9.pgm  \n",
            "  inflating: /content/drive/MyDrive/deep-learning/ATT/s5/1.pgm  \n",
            "  inflating: /content/drive/MyDrive/deep-learning/ATT/s5/10.pgm  \n",
            "  inflating: /content/drive/MyDrive/deep-learning/ATT/s5/2.pgm  \n",
            "  inflating: /content/drive/MyDrive/deep-learning/ATT/s5/3.pgm  \n",
            "  inflating: /content/drive/MyDrive/deep-learning/ATT/s5/4.pgm  \n",
            "  inflating: /content/drive/MyDrive/deep-learning/ATT/s5/5.pgm  \n",
            "  inflating: /content/drive/MyDrive/deep-learning/ATT/s5/6.pgm  \n",
            "  inflating: /content/drive/MyDrive/deep-learning/ATT/s5/7.pgm  \n",
            "  inflating: /content/drive/MyDrive/deep-learning/ATT/s5/8.pgm  \n",
            "  inflating: /content/drive/MyDrive/deep-learning/ATT/s5/9.pgm  \n",
            "  inflating: /content/drive/MyDrive/deep-learning/ATT/s6/1.pgm  \n",
            "  inflating: /content/drive/MyDrive/deep-learning/ATT/s6/10.pgm  \n",
            "  inflating: /content/drive/MyDrive/deep-learning/ATT/s6/2.pgm  \n",
            "  inflating: /content/drive/MyDrive/deep-learning/ATT/s6/3.pgm  \n",
            "  inflating: /content/drive/MyDrive/deep-learning/ATT/s6/4.pgm  \n",
            "  inflating: /content/drive/MyDrive/deep-learning/ATT/s6/5.pgm  \n",
            "  inflating: /content/drive/MyDrive/deep-learning/ATT/s6/6.pgm  \n",
            "  inflating: /content/drive/MyDrive/deep-learning/ATT/s6/7.pgm  \n",
            "  inflating: /content/drive/MyDrive/deep-learning/ATT/s6/8.pgm  \n",
            "  inflating: /content/drive/MyDrive/deep-learning/ATT/s6/9.pgm  \n",
            "  inflating: /content/drive/MyDrive/deep-learning/ATT/s7/1.pgm  \n",
            "  inflating: /content/drive/MyDrive/deep-learning/ATT/s7/10.pgm  \n",
            "  inflating: /content/drive/MyDrive/deep-learning/ATT/s7/2.pgm  \n",
            "  inflating: /content/drive/MyDrive/deep-learning/ATT/s7/3.pgm  \n",
            "  inflating: /content/drive/MyDrive/deep-learning/ATT/s7/4.pgm  \n",
            "  inflating: /content/drive/MyDrive/deep-learning/ATT/s7/5.pgm  \n",
            "  inflating: /content/drive/MyDrive/deep-learning/ATT/s7/6.pgm  \n",
            "  inflating: /content/drive/MyDrive/deep-learning/ATT/s7/7.pgm  \n",
            "  inflating: /content/drive/MyDrive/deep-learning/ATT/s7/8.pgm  \n",
            "  inflating: /content/drive/MyDrive/deep-learning/ATT/s7/9.pgm  \n",
            "  inflating: /content/drive/MyDrive/deep-learning/ATT/s8/1.pgm  \n",
            "  inflating: /content/drive/MyDrive/deep-learning/ATT/s8/10.pgm  \n",
            "  inflating: /content/drive/MyDrive/deep-learning/ATT/s8/2.pgm  \n",
            "  inflating: /content/drive/MyDrive/deep-learning/ATT/s8/3.pgm  \n",
            "  inflating: /content/drive/MyDrive/deep-learning/ATT/s8/4.pgm  \n",
            "  inflating: /content/drive/MyDrive/deep-learning/ATT/s8/5.pgm  \n",
            "  inflating: /content/drive/MyDrive/deep-learning/ATT/s8/6.pgm  \n",
            "  inflating: /content/drive/MyDrive/deep-learning/ATT/s8/7.pgm  \n",
            "  inflating: /content/drive/MyDrive/deep-learning/ATT/s8/8.pgm  \n",
            "  inflating: /content/drive/MyDrive/deep-learning/ATT/s8/9.pgm  \n",
            "  inflating: /content/drive/MyDrive/deep-learning/ATT/s9/1.pgm  \n",
            "  inflating: /content/drive/MyDrive/deep-learning/ATT/s9/10.pgm  \n",
            "  inflating: /content/drive/MyDrive/deep-learning/ATT/s9/2.pgm  \n",
            "  inflating: /content/drive/MyDrive/deep-learning/ATT/s9/3.pgm  \n",
            "  inflating: /content/drive/MyDrive/deep-learning/ATT/s9/4.pgm  \n",
            "  inflating: /content/drive/MyDrive/deep-learning/ATT/s9/5.pgm  \n",
            "  inflating: /content/drive/MyDrive/deep-learning/ATT/s9/6.pgm  \n",
            "  inflating: /content/drive/MyDrive/deep-learning/ATT/s9/7.pgm  \n",
            "  inflating: /content/drive/MyDrive/deep-learning/ATT/s9/8.pgm  \n",
            "  inflating: /content/drive/MyDrive/deep-learning/ATT/s9/9.pgm  \n"
          ]
        }
      ]
    },
    {
      "cell_type": "code",
      "source": [
        "path = \"/content/drive/MyDrive/deep-learning/ATT\""
      ],
      "metadata": {
        "id": "QVBfYV9volwA"
      },
      "execution_count": 21,
      "outputs": []
    },
    {
      "cell_type": "markdown",
      "source": [
        "**Function to get images with its class name**"
      ],
      "metadata": {
        "id": "ODg7aPAQMP5W"
      }
    },
    {
      "cell_type": "code",
      "source": [
        "import os\n",
        "import itertools\n",
        "\n",
        "def getIMAGElist(data_folder, n_class, n_image):\n",
        "    \"\"\"\n",
        "    This function gets a list of images.\n",
        "    data_folder: contains different class folders.\n",
        "    n_class: number of class folders to include.\n",
        "    n_image: number of images to include in each class folder.\n",
        "    Returns:\n",
        "        Image list, target name.\n",
        "    \"\"\"\n",
        "    image_list = []\n",
        "    target_name = []\n",
        "    with os.scandir(data_folder) as entries:\n",
        "        for entry in itertools.islice(entries, n_class):\n",
        "            if not entry.name.startswith('.'):\n",
        "                with os.scandir(entry.path) as files:\n",
        "                    for file in itertools.islice(files, n_image):\n",
        "                        if not file.name.startswith('.'):\n",
        "                            image_path = os.path.join(data_folder, entry.name, file.name)\n",
        "                            image_list.append(image_path)\n",
        "                            target_name.append(entry.name)\n",
        "    return image_list, target_name\n"
      ],
      "metadata": {
        "id": "zde1Hj-tA3ST"
      },
      "execution_count": 48,
      "outputs": []
    },
    {
      "cell_type": "code",
      "source": [
        "data_folder = path\n",
        "n_class = 40\n",
        "n_image = 10\n",
        "image_list, target_name = getIMAGElist(data_folder,n_class,n_image) \n",
        "print (len(image_list))\n",
        "print (len(target_name))"
      ],
      "metadata": {
        "colab": {
          "base_uri": "https://localhost:8080/"
        },
        "id": "X70aN2L5Fl0G",
        "outputId": "b72c2f1e-629a-4b79-c784-0b6c250b5131"
      },
      "execution_count": 50,
      "outputs": [
        {
          "output_type": "stream",
          "name": "stdout",
          "text": [
            "400\n",
            "400\n"
          ]
        }
      ]
    },
    {
      "cell_type": "code",
      "source": [
        "import cv2\n",
        "import numpy as np \n",
        "data_folder = path\n",
        "n_class = 40\n",
        "n_image = 10\n",
        "image_list, class_name= getIMAGElist(data_folder,n_class,n_image)\n",
        "image_data=[]\n",
        "for i in range(len(image_list)):\n",
        "    image = cv2.imread(image_list[i])\n",
        "    image = cv2.cvtColor(image, cv2.COLOR_BGR2RGB)\n",
        "    # Resize image: INTER_AREA-resampling using pixel area relation\n",
        "    image = cv2.resize(image, (224, 224), interpolation=cv2.INTER_AREA)\n",
        "    image = np.array(image)\n",
        "    image = image.astype('float32')\n",
        "    image /= 255\n",
        "    image_data.append(image)\n",
        "class_dict={k:v for v,k in enumerate(np.unique(class_name))}\n",
        "class_val= [class_dict[class_name[i]] for i in range(len(class_name))]\n",
        "print (len(image_data))\n",
        "print (class_dict)\n",
        "print (len(class_val))"
      ],
      "metadata": {
        "colab": {
          "base_uri": "https://localhost:8080/"
        },
        "id": "ENmZqKHKAQwM",
        "outputId": "59e73171-f69d-407b-8808-2081b7d31e75"
      },
      "execution_count": 52,
      "outputs": [
        {
          "output_type": "stream",
          "name": "stdout",
          "text": [
            "400\n",
            "{'s1': 0, 's10': 1, 's11': 2, 's12': 3, 's13': 4, 's14': 5, 's15': 6, 's16': 7, 's17': 8, 's18': 9, 's19': 10, 's2': 11, 's20': 12, 's21': 13, 's22': 14, 's23': 15, 's24': 16, 's25': 17, 's26': 18, 's27': 19, 's28': 20, 's29': 21, 's3': 22, 's30': 23, 's31': 24, 's32': 25, 's33': 26, 's34': 27, 's35': 28, 's36': 29, 's37': 30, 's38': 31, 's39': 32, 's4': 33, 's40': 34, 's5': 35, 's6': 36, 's7': 37, 's8': 38, 's9': 39}\n",
            "400\n"
          ]
        }
      ]
    },
    {
      "cell_type": "markdown",
      "source": [
        "## Split dataset \n",
        "Train:Test:Val = 60:20:20 so test and validation set have same ratio"
      ],
      "metadata": {
        "id": "7VtXLFupGRqj"
      }
    },
    {
      "cell_type": "code",
      "source": [
        "from sklearn.model_selection import train_test_split\n",
        "x = np.array(image_data)\n",
        "y = np.array(class_val)\n",
        "x_train, x_test, y_train, y_test = train_test_split(x, y, test_size=0.2, random_state=40, stratify=y)\n",
        "#0.2/0.8=0.25\n",
        "x_train, x_val, y_train, y_val = train_test_split(x_train, y_train, test_size=0.25, random_state=40,  stratify=y_train)\n",
        "print(x_train.shape, y_train.shape)\n",
        "print(x_test.shape, y_test.shape)\n",
        "print(x_val.shape, y_val.shape)"
      ],
      "metadata": {
        "colab": {
          "base_uri": "https://localhost:8080/"
        },
        "id": "srH7yi7YGhi9",
        "outputId": "f472ffeb-9dea-4bba-9885-5624b4441d01"
      },
      "execution_count": 53,
      "outputs": [
        {
          "output_type": "stream",
          "name": "stdout",
          "text": [
            "(240, 224, 224, 3) (240,)\n",
            "(80, 224, 224, 3) (80,)\n",
            "(80, 224, 224, 3) (80,)\n"
          ]
        }
      ]
    },
    {
      "cell_type": "markdown",
      "source": [
        "**Comment:**\n",
        "\n",
        "`random_state `: set to a fixed value, we can ensure that the same split is obtained every time we run the code, which can be useful for reproducibility and debugging purposes.\n",
        "\n",
        "` stratify `: set to y (or y_train), which means that the split is made in a way that preserves the proportion of each class in y ( or y\n",
        "_train."
      ],
      "metadata": {
        "id": "CCwQpd-hK2zE"
      }
    }
  ]
}