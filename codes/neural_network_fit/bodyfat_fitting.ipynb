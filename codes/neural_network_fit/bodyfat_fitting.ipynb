{
  "nbformat": 4,
  "nbformat_minor": 0,
  "metadata": {
    "colab": {
      "provenance": [],
      "authorship_tag": "ABX9TyP9aPdhttBsYVmNXS7k9lUn",
      "include_colab_link": true
    },
    "kernelspec": {
      "name": "python3",
      "display_name": "Python 3"
    },
    "language_info": {
      "name": "python"
    }
  },
  "cells": [
    {
      "cell_type": "markdown",
      "metadata": {
        "id": "view-in-github",
        "colab_type": "text"
      },
      "source": [
        "<a href=\"https://colab.research.google.com/github/dtht2d/deep-learning/blob/main/codes/neural_network_fit/bodyfat_fitting.ipynb\" target=\"_parent\"><img src=\"https://colab.research.google.com/assets/colab-badge.svg\" alt=\"Open In Colab\"/></a>"
      ]
    },
    {
      "cell_type": "code",
      "source": [
        "%autosave 30"
      ],
      "metadata": {
        "id": "Q4x5QI4PlvVA",
        "outputId": "3d8784ed-c882-4219-ed59-e13825331fd0",
        "colab": {
          "base_uri": "https://localhost:8080/",
          "height": 35
        }
      },
      "execution_count": 1,
      "outputs": [
        {
          "output_type": "display_data",
          "data": {
            "application/javascript": [
              "IPython.notebook.set_autosave_interval(30000)"
            ]
          },
          "metadata": {}
        },
        {
          "output_type": "stream",
          "name": "stdout",
          "text": [
            "Autosaving every 30 seconds\n"
          ]
        }
      ]
    },
    {
      "cell_type": "markdown",
      "source": [
        "# **Objective**\n",
        "---\n",
        "- Create similarity **nftool** (MATLAB's Neural Network Toolbox) function in Python\n",
        "- We have data from a health clinic and our goal is to design a neural network that can predict the percentage of body fat of a person, based on 13 anatomical measurements. The dataset contains information from 252 individuals, with measurements for each of the 13 variables, as well as their corresponding percentage of body fat. The objective is to train a neural network to predict body fat percentage based on the input variables.\n",
        "- Observe the output by changing the training/validation/testing percentages and the number of neurons. "
      ],
      "metadata": {
        "id": "WriLcXvXcpF2"
      }
    },
    {
      "cell_type": "markdown",
      "source": [
        "## **1. Background**\n"
      ],
      "metadata": {
        "id": "40qXcIn_dl3n"
      }
    },
    {
      "cell_type": "markdown",
      "source": [
        "### **Neural Network Fitting Algorithm**\n",
        "A two-layer feed-forward network trained with Levenberg-Marquardt is a neural network architecture commonly used for solving regression problems. \n",
        "\n",
        "**Two-layer feed-forward neural network architecture:**\n",
        "  - The information flows in a single direction from the input layer to the output layer.\n",
        "  - There is one input layer, one output layer, and at least one hidden layer in between. The hidden layer(s) contain nodes that apply transformations to the input data, which are then fed forward to the output layer.\n",
        "\n",
        "- **Levenberg-Marquardt algorithm:**\n",
        "  - A popular optimization algorithm used to train neural networks by optimizing the weights and biases of the network.\n",
        "  - It is a combination of two other optimization algorithms: the Gauss-Newton algorithm and the Gradient Descent algorithm\n",
        "  - Particularly effective for training feed-forward neural networks with one or more hidden layers.\n",
        "  - For mathemtical equations reference: http://web.eecs.utk.edu/~mjr/ECE505/Miscellaneous/levmar.pdf\n"
      ],
      "metadata": {
        "id": "VdJfvfTogCsR"
      }
    },
    {
      "cell_type": "markdown",
      "source": [
        "## **2. Methods**\n"
      ],
      "metadata": {
        "id": "yT5pUWEKk7at"
      }
    },
    {
      "cell_type": "markdown",
      "source": [
        "### **Import libraries**"
      ],
      "metadata": {
        "id": "Jw2gEkNclIhq"
      }
    },
    {
      "cell_type": "code",
      "execution_count": null,
      "metadata": {
        "id": "P_j9vbhjcFU4"
      },
      "outputs": [],
      "source": []
    }
  ]
}