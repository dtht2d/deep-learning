{
  "nbformat": 4,
  "nbformat_minor": 0,
  "metadata": {
    "colab": {
      "provenance": [],
      "mount_file_id": "https://github.com/dtht2d/deep-learning/blob/main/codes/neural_network_fit/bodyfat__fitting.ipynb",
      "authorship_tag": "ABX9TyNBPrX49g0bNZsrK6FgCaw3",
      "include_colab_link": true
    },
    "kernelspec": {
      "name": "python3",
      "display_name": "Python 3"
    },
    "language_info": {
      "name": "python"
    }
  },
  "cells": [
    {
      "cell_type": "markdown",
      "metadata": {
        "id": "view-in-github",
        "colab_type": "text"
      },
      "source": [
        "<a href=\"https://colab.research.google.com/github/dtht2d/deep-learning/blob/main/codes/neural_network_fit/bodyfat__fitting.ipynb\" target=\"_parent\"><img src=\"https://colab.research.google.com/assets/colab-badge.svg\" alt=\"Open In Colab\"/></a>"
      ]
    },
    {
      "cell_type": "code",
      "source": [
        "%autosave 30"
      ],
      "metadata": {
        "colab": {
          "base_uri": "https://localhost:8080/",
          "height": 35
        },
        "id": "Q4x5QI4PlvVA",
        "outputId": "3d8784ed-c882-4219-ed59-e13825331fd0"
      },
      "execution_count": 1,
      "outputs": [
        {
          "output_type": "display_data",
          "data": {
            "application/javascript": [
              "IPython.notebook.set_autosave_interval(30000)"
            ]
          },
          "metadata": {}
        },
        {
          "output_type": "stream",
          "name": "stdout",
          "text": [
            "Autosaving every 30 seconds\n"
          ]
        }
      ]
    },
    {
      "cell_type": "markdown",
      "source": [
        "# **Objective**\n",
        "---\n",
        "- Create similarity **nftool** (MATLAB's Neural Network Toolbox) function in Python\n",
        "- We have data from a health clinic and our goal is to design a neural network that can predict the percentage of body fat of a person, based on 13 anatomical measurements. The dataset contains information from 252 individuals, with measurements for each of the 13 variables, as well as their corresponding percentage of body fat. The objective is to train a neural network to predict body fat percentage based on the input variables.\n",
        "- Observe the output by changing the training/validation/testing percentages and the number of neurons. "
      ],
      "metadata": {
        "id": "WriLcXvXcpF2"
      }
    },
    {
      "cell_type": "markdown",
      "source": [
        "## **1. Background**\n"
      ],
      "metadata": {
        "id": "40qXcIn_dl3n"
      }
    },
    {
      "cell_type": "markdown",
      "source": [
        "### **Neural Network Fitting Algorithm**\n",
        "A two-layer feed-forward network trained with Levenberg-Marquardt is a neural network architecture commonly used for solving regression problems. \n",
        "\n",
        "**Two-layer feed-forward neural network architecture:**\n",
        "  - The information flows in a single direction from the input layer to the output layer.\n",
        "  - There is one input layer, one output layer, and at least one hidden layer in between. The hidden layer(s) contain nodes that apply transformations to the input data, which are then fed forward to the output layer.\n",
        "\n",
        "- **Levenberg-Marquardt algorithm:**\n",
        "  - A popular optimization algorithm used to train neural networks by optimizing the weights and biases of the network.\n",
        "  - It is a combination of two other optimization algorithms: the Gauss-Newton algorithm and the Gradient Descent algorithm\n",
        "  - Particularly effective for training feed-forward neural networks with one or more hidden layers.\n",
        "  - For mathemtical equations reference: http://web.eecs.utk.edu/~mjr/ECE505/Miscellaneous/levmar.pdf\n"
      ],
      "metadata": {
        "id": "VdJfvfTogCsR"
      }
    },
    {
      "cell_type": "markdown",
      "source": [
        "## **2. Methods**\n"
      ],
      "metadata": {
        "id": "yT5pUWEKk7at"
      }
    },
    {
      "cell_type": "markdown",
      "source": [
        "### Install packages\n"
      ],
      "metadata": {
        "id": "a44Mm0dUmno0"
      }
    },
    {
      "cell_type": "code",
      "source": [
        "!pip install numpy"
      ],
      "metadata": {
        "id": "y-XWfxfVoMni",
        "outputId": "60e42caa-d262-4ba8-b518-079a777719c3",
        "colab": {
          "base_uri": "https://localhost:8080/"
        }
      },
      "execution_count": 10,
      "outputs": [
        {
          "output_type": "stream",
          "name": "stdout",
          "text": [
            "Looking in indexes: https://pypi.org/simple, https://us-python.pkg.dev/colab-wheels/public/simple/\n",
            "Requirement already satisfied: numpy in /usr/local/lib/python3.8/dist-packages (1.22.4)\n"
          ]
        }
      ]
    },
    {
      "cell_type": "code",
      "execution_count": 7,
      "metadata": {
        "id": "P_j9vbhjcFU4",
        "colab": {
          "base_uri": "https://localhost:8080/"
        },
        "outputId": "366f990f-2d55-4a6c-cd1e-0be7424e7c9f"
      },
      "outputs": [
        {
          "output_type": "stream",
          "name": "stdout",
          "text": [
            "Looking in indexes: https://pypi.org/simple, https://us-python.pkg.dev/colab-wheels/public/simple/\n",
            "Requirement already satisfied: pandas in /usr/local/lib/python3.8/dist-packages (1.3.5)\n",
            "Requirement already satisfied: python-dateutil>=2.7.3 in /usr/local/lib/python3.8/dist-packages (from pandas) (2.8.2)\n",
            "Requirement already satisfied: pytz>=2017.3 in /usr/local/lib/python3.8/dist-packages (from pandas) (2022.7.1)\n",
            "Requirement already satisfied: numpy>=1.17.3 in /usr/local/lib/python3.8/dist-packages (from pandas) (1.22.4)\n",
            "Requirement already satisfied: six>=1.5 in /usr/local/lib/python3.8/dist-packages (from python-dateutil>=2.7.3->pandas) (1.15.0)\n"
          ]
        }
      ],
      "source": [
        "!pip install pandas"
      ]
    },
    {
      "cell_type": "code",
      "source": [
        "!pip install matplotlib"
      ],
      "metadata": {
        "id": "o6ZQaClDoGdo",
        "outputId": "d4b3f0b2-d569-4ac2-965f-aa10fe6986be",
        "colab": {
          "base_uri": "https://localhost:8080/"
        }
      },
      "execution_count": 9,
      "outputs": [
        {
          "output_type": "stream",
          "name": "stdout",
          "text": [
            "Looking in indexes: https://pypi.org/simple, https://us-python.pkg.dev/colab-wheels/public/simple/\n",
            "Requirement already satisfied: matplotlib in /usr/local/lib/python3.8/dist-packages (3.5.3)\n",
            "Requirement already satisfied: fonttools>=4.22.0 in /usr/local/lib/python3.8/dist-packages (from matplotlib) (4.38.0)\n",
            "Requirement already satisfied: kiwisolver>=1.0.1 in /usr/local/lib/python3.8/dist-packages (from matplotlib) (1.4.4)\n",
            "Requirement already satisfied: pillow>=6.2.0 in /usr/local/lib/python3.8/dist-packages (from matplotlib) (8.4.0)\n",
            "Requirement already satisfied: packaging>=20.0 in /usr/local/lib/python3.8/dist-packages (from matplotlib) (23.0)\n",
            "Requirement already satisfied: cycler>=0.10 in /usr/local/lib/python3.8/dist-packages (from matplotlib) (0.11.0)\n",
            "Requirement already satisfied: numpy>=1.17 in /usr/local/lib/python3.8/dist-packages (from matplotlib) (1.22.4)\n",
            "Requirement already satisfied: python-dateutil>=2.7 in /usr/local/lib/python3.8/dist-packages (from matplotlib) (2.8.2)\n",
            "Requirement already satisfied: pyparsing>=2.2.1 in /usr/local/lib/python3.8/dist-packages (from matplotlib) (3.0.9)\n",
            "Requirement already satisfied: six>=1.5 in /usr/local/lib/python3.8/dist-packages (from python-dateutil>=2.7->matplotlib) (1.15.0)\n"
          ]
        }
      ]
    },
    {
      "cell_type": "code",
      "source": [
        "!pip install tensorflow"
      ],
      "metadata": {
        "id": "lPKpt3SQn8S9",
        "outputId": "072c5f94-0d09-4432-8bf3-d6b8c635e3a7",
        "colab": {
          "base_uri": "https://localhost:8080/"
        }
      },
      "execution_count": 8,
      "outputs": [
        {
          "output_type": "stream",
          "name": "stdout",
          "text": [
            "Looking in indexes: https://pypi.org/simple, https://us-python.pkg.dev/colab-wheels/public/simple/\n",
            "Requirement already satisfied: tensorflow in /usr/local/lib/python3.8/dist-packages (2.11.0)\n",
            "Requirement already satisfied: absl-py>=1.0.0 in /usr/local/lib/python3.8/dist-packages (from tensorflow) (1.4.0)\n",
            "Requirement already satisfied: setuptools in /usr/local/lib/python3.8/dist-packages (from tensorflow) (57.4.0)\n",
            "Requirement already satisfied: astunparse>=1.6.0 in /usr/local/lib/python3.8/dist-packages (from tensorflow) (1.6.3)\n",
            "Requirement already satisfied: keras<2.12,>=2.11.0 in /usr/local/lib/python3.8/dist-packages (from tensorflow) (2.11.0)\n",
            "Requirement already satisfied: tensorboard<2.12,>=2.11 in /usr/local/lib/python3.8/dist-packages (from tensorflow) (2.11.2)\n",
            "Requirement already satisfied: wrapt>=1.11.0 in /usr/local/lib/python3.8/dist-packages (from tensorflow) (1.14.1)\n",
            "Requirement already satisfied: six>=1.12.0 in /usr/local/lib/python3.8/dist-packages (from tensorflow) (1.15.0)\n",
            "Requirement already satisfied: flatbuffers>=2.0 in /usr/local/lib/python3.8/dist-packages (from tensorflow) (23.1.21)\n",
            "Requirement already satisfied: libclang>=13.0.0 in /usr/local/lib/python3.8/dist-packages (from tensorflow) (15.0.6.1)\n",
            "Requirement already satisfied: tensorflow-estimator<2.12,>=2.11.0 in /usr/local/lib/python3.8/dist-packages (from tensorflow) (2.11.0)\n",
            "Requirement already satisfied: tensorflow-io-gcs-filesystem>=0.23.1 in /usr/local/lib/python3.8/dist-packages (from tensorflow) (0.30.0)\n",
            "Requirement already satisfied: h5py>=2.9.0 in /usr/local/lib/python3.8/dist-packages (from tensorflow) (3.1.0)\n",
            "Requirement already satisfied: grpcio<2.0,>=1.24.3 in /usr/local/lib/python3.8/dist-packages (from tensorflow) (1.51.3)\n",
            "Requirement already satisfied: gast<=0.4.0,>=0.2.1 in /usr/local/lib/python3.8/dist-packages (from tensorflow) (0.4.0)\n",
            "Requirement already satisfied: termcolor>=1.1.0 in /usr/local/lib/python3.8/dist-packages (from tensorflow) (2.2.0)\n",
            "Requirement already satisfied: typing-extensions>=3.6.6 in /usr/local/lib/python3.8/dist-packages (from tensorflow) (4.5.0)\n",
            "Requirement already satisfied: google-pasta>=0.1.1 in /usr/local/lib/python3.8/dist-packages (from tensorflow) (0.2.0)\n",
            "Requirement already satisfied: numpy>=1.20 in /usr/local/lib/python3.8/dist-packages (from tensorflow) (1.22.4)\n",
            "Requirement already satisfied: packaging in /usr/local/lib/python3.8/dist-packages (from tensorflow) (23.0)\n",
            "Requirement already satisfied: opt-einsum>=2.3.2 in /usr/local/lib/python3.8/dist-packages (from tensorflow) (3.3.0)\n",
            "Requirement already satisfied: protobuf<3.20,>=3.9.2 in /usr/local/lib/python3.8/dist-packages (from tensorflow) (3.19.6)\n",
            "Requirement already satisfied: wheel<1.0,>=0.23.0 in /usr/local/lib/python3.8/dist-packages (from astunparse>=1.6.0->tensorflow) (0.38.4)\n",
            "Requirement already satisfied: markdown>=2.6.8 in /usr/local/lib/python3.8/dist-packages (from tensorboard<2.12,>=2.11->tensorflow) (3.4.1)\n",
            "Requirement already satisfied: tensorboard-plugin-wit>=1.6.0 in /usr/local/lib/python3.8/dist-packages (from tensorboard<2.12,>=2.11->tensorflow) (1.8.1)\n",
            "Requirement already satisfied: werkzeug>=1.0.1 in /usr/local/lib/python3.8/dist-packages (from tensorboard<2.12,>=2.11->tensorflow) (1.0.1)\n",
            "Requirement already satisfied: google-auth<3,>=1.6.3 in /usr/local/lib/python3.8/dist-packages (from tensorboard<2.12,>=2.11->tensorflow) (2.16.1)\n",
            "Requirement already satisfied: requests<3,>=2.21.0 in /usr/local/lib/python3.8/dist-packages (from tensorboard<2.12,>=2.11->tensorflow) (2.25.1)\n",
            "Requirement already satisfied: google-auth-oauthlib<0.5,>=0.4.1 in /usr/local/lib/python3.8/dist-packages (from tensorboard<2.12,>=2.11->tensorflow) (0.4.6)\n",
            "Requirement already satisfied: tensorboard-data-server<0.7.0,>=0.6.0 in /usr/local/lib/python3.8/dist-packages (from tensorboard<2.12,>=2.11->tensorflow) (0.6.1)\n",
            "Requirement already satisfied: cachetools<6.0,>=2.0.0 in /usr/local/lib/python3.8/dist-packages (from google-auth<3,>=1.6.3->tensorboard<2.12,>=2.11->tensorflow) (5.3.0)\n",
            "Requirement already satisfied: pyasn1-modules>=0.2.1 in /usr/local/lib/python3.8/dist-packages (from google-auth<3,>=1.6.3->tensorboard<2.12,>=2.11->tensorflow) (0.2.8)\n",
            "Requirement already satisfied: rsa<5,>=3.1.4 in /usr/local/lib/python3.8/dist-packages (from google-auth<3,>=1.6.3->tensorboard<2.12,>=2.11->tensorflow) (4.9)\n",
            "Requirement already satisfied: requests-oauthlib>=0.7.0 in /usr/local/lib/python3.8/dist-packages (from google-auth-oauthlib<0.5,>=0.4.1->tensorboard<2.12,>=2.11->tensorflow) (1.3.1)\n",
            "Requirement already satisfied: importlib-metadata>=4.4 in /usr/local/lib/python3.8/dist-packages (from markdown>=2.6.8->tensorboard<2.12,>=2.11->tensorflow) (6.0.0)\n",
            "Requirement already satisfied: chardet<5,>=3.0.2 in /usr/local/lib/python3.8/dist-packages (from requests<3,>=2.21.0->tensorboard<2.12,>=2.11->tensorflow) (4.0.0)\n",
            "Requirement already satisfied: urllib3<1.27,>=1.21.1 in /usr/local/lib/python3.8/dist-packages (from requests<3,>=2.21.0->tensorboard<2.12,>=2.11->tensorflow) (1.24.3)\n",
            "Requirement already satisfied: idna<3,>=2.5 in /usr/local/lib/python3.8/dist-packages (from requests<3,>=2.21.0->tensorboard<2.12,>=2.11->tensorflow) (2.10)\n",
            "Requirement already satisfied: certifi>=2017.4.17 in /usr/local/lib/python3.8/dist-packages (from requests<3,>=2.21.0->tensorboard<2.12,>=2.11->tensorflow) (2022.12.7)\n",
            "Requirement already satisfied: zipp>=0.5 in /usr/local/lib/python3.8/dist-packages (from importlib-metadata>=4.4->markdown>=2.6.8->tensorboard<2.12,>=2.11->tensorflow) (3.14.0)\n",
            "Requirement already satisfied: pyasn1<0.5.0,>=0.4.6 in /usr/local/lib/python3.8/dist-packages (from pyasn1-modules>=0.2.1->google-auth<3,>=1.6.3->tensorboard<2.12,>=2.11->tensorflow) (0.4.8)\n",
            "Requirement already satisfied: oauthlib>=3.0.0 in /usr/local/lib/python3.8/dist-packages (from requests-oauthlib>=0.7.0->google-auth-oauthlib<0.5,>=0.4.1->tensorboard<2.12,>=2.11->tensorflow) (3.2.2)\n"
          ]
        }
      ]
    },
    {
      "cell_type": "markdown",
      "source": [
        "### Import libraries"
      ],
      "metadata": {
        "id": "Jw2gEkNclIhq"
      }
    },
    {
      "cell_type": "code",
      "source": [
        "import pandas as pd\n",
        "import numpy as np\n",
        "import tensorflow as tf\n",
        "import matplotlib.pyplot as plt"
      ],
      "metadata": {
        "id": "aTv4NsVUoB4Y"
      },
      "execution_count": 13,
      "outputs": []
    },
    {
      "cell_type": "code",
      "source": [
        "from google.colab import drive\n",
        "drive.mount('/content/drive')"
      ],
      "metadata": {
        "id": "EFXmzbVtmra4",
        "outputId": "ae979087-edcf-434b-e193-cbf8bde1246c",
        "colab": {
          "base_uri": "https://localhost:8080/"
        }
      },
      "execution_count": 6,
      "outputs": [
        {
          "output_type": "stream",
          "name": "stdout",
          "text": [
            "Mounted at /content/drive\n"
          ]
        }
      ]
    },
    {
      "cell_type": "code",
      "source": [
        "path = \"/content/bodyfat.csv\""
      ],
      "metadata": {
        "id": "-zJM3pxemnA5"
      },
      "execution_count": 11,
      "outputs": []
    },
    {
      "cell_type": "code",
      "source": [
        "df = pd.read_csv(path)\n",
        "print (df)"
      ],
      "metadata": {
        "id": "vHsczgubosVG",
        "outputId": "14292b0d-cfd1-40c3-d3c8-ff9ebc6983fe",
        "colab": {
          "base_uri": "https://localhost:8080/"
        }
      },
      "execution_count": 14,
      "outputs": [
        {
          "output_type": "stream",
          "name": "stdout",
          "text": [
            "     Density  BodyFat  Age  Weight  Height  Neck  Chest  Abdomen    Hip  \\\n",
            "0     1.0708     12.3   23  154.25   67.75  36.2   93.1     85.2   94.5   \n",
            "1     1.0853      6.1   22  173.25   72.25  38.5   93.6     83.0   98.7   \n",
            "2     1.0414     25.3   22  154.00   66.25  34.0   95.8     87.9   99.2   \n",
            "3     1.0751     10.4   26  184.75   72.25  37.4  101.8     86.4  101.2   \n",
            "4     1.0340     28.7   24  184.25   71.25  34.4   97.3    100.0  101.9   \n",
            "..       ...      ...  ...     ...     ...   ...    ...      ...    ...   \n",
            "247   1.0736     11.0   70  134.25   67.00  34.9   89.2     83.6   88.8   \n",
            "248   1.0236     33.6   72  201.00   69.75  40.9  108.5    105.0  104.5   \n",
            "249   1.0328     29.3   72  186.75   66.00  38.9  111.1    111.5  101.7   \n",
            "250   1.0399     26.0   72  190.75   70.50  38.9  108.3    101.3   97.8   \n",
            "251   1.0271     31.9   74  207.50   70.00  40.8  112.4    108.5  107.1   \n",
            "\n",
            "     Thigh  Knee  Ankle  Biceps  Forearm  Wrist  \n",
            "0     59.0  37.3   21.9    32.0     27.4   17.1  \n",
            "1     58.7  37.3   23.4    30.5     28.9   18.2  \n",
            "2     59.6  38.9   24.0    28.8     25.2   16.6  \n",
            "3     60.1  37.3   22.8    32.4     29.4   18.2  \n",
            "4     63.2  42.2   24.0    32.2     27.7   17.7  \n",
            "..     ...   ...    ...     ...      ...    ...  \n",
            "247   49.6  34.8   21.5    25.6     25.7   18.5  \n",
            "248   59.6  40.8   23.2    35.2     28.6   20.1  \n",
            "249   60.3  37.3   21.5    31.3     27.2   18.0  \n",
            "250   56.0  41.6   22.7    30.5     29.4   19.8  \n",
            "251   59.3  42.2   24.6    33.7     30.0   20.9  \n",
            "\n",
            "[252 rows x 15 columns]\n"
          ]
        }
      ]
    },
    {
      "cell_type": "markdown",
      "source": [
        "BodyFat\" is located in the third column of the dataset, with an index of [2]. To prepare the data for training a neural network to predict body fat percentage, we need to select the input features (denoted as \"X\") that will be used to make the predictions. To do this, we should choose all the features in the dataset except for the \"BodyFat\" column. "
      ],
      "metadata": {
        "id": "iLLWiFldqLj1"
      }
    },
    {
      "cell_type": "code",
      "source": [
        "X = df.iloc[:, 2:].to_numpy()\n",
        "y = df['BodyFat'].to_numpy()\n",
        "print(X)\n",
        "print(X.shape)\n",
        "print(y)\n",
        "print(y.shape)"
      ],
      "metadata": {
        "id": "6ZVobOsZpxRY",
        "outputId": "09e86d3a-0ec3-4e1a-9901-627e785261e7",
        "colab": {
          "base_uri": "https://localhost:8080/"
        }
      },
      "execution_count": 19,
      "outputs": [
        {
          "output_type": "stream",
          "name": "stdout",
          "text": [
            "[[ 23.   154.25  67.75 ...  32.    27.4   17.1 ]\n",
            " [ 22.   173.25  72.25 ...  30.5   28.9   18.2 ]\n",
            " [ 22.   154.    66.25 ...  28.8   25.2   16.6 ]\n",
            " ...\n",
            " [ 72.   186.75  66.   ...  31.3   27.2   18.  ]\n",
            " [ 72.   190.75  70.5  ...  30.5   29.4   19.8 ]\n",
            " [ 74.   207.5   70.   ...  33.7   30.    20.9 ]]\n",
            "(252, 13)\n",
            "[12.3  6.1 25.3 10.4 28.7 20.9 19.2 12.4  4.1 11.7  7.1  7.8 20.8 21.2\n",
            " 22.1 20.9 29.  22.9 16.  16.5 19.1 15.2 15.6 17.7 14.   3.7  7.9 22.9\n",
            "  3.7  8.8 11.9  5.7 11.8 21.3 32.3 40.1 24.2 28.4 35.2 32.6 34.5 32.9\n",
            " 31.6 32.   7.7 13.9 10.8  5.6 13.6  4.  10.2  6.6  8.   6.3  3.9 22.6\n",
            " 20.4 28.  31.5 24.6 26.1 29.8 30.7 25.8 32.3 30.  21.5 13.8  6.3 12.9\n",
            " 24.3  8.8  8.5 13.5 11.8 18.5  8.8 22.2 21.5 18.8 31.4 26.8 18.4 27.\n",
            " 27.  26.6 14.9 23.1  8.3 14.1 20.5 18.2  8.5 24.9  9.  17.4  9.6 11.3\n",
            " 17.8 22.2 21.2 20.4 20.1 22.3 25.4 18.  19.3 18.3 17.3 21.4 19.7 28.\n",
            " 22.1 21.3 26.7 16.7 20.1 13.9 25.8 18.1 27.9 25.3 14.7 16.  13.8 17.5\n",
            " 27.2 17.4 20.8 14.9 18.1 22.7 23.6 26.1 24.4 27.1 21.8 29.4 22.4 20.4\n",
            " 24.9 18.3 23.3  9.4 10.3 14.2 19.2 29.6  5.3 25.2  9.4 19.6 10.1 16.5\n",
            " 21.  17.3 31.2 10.  12.5 22.5  9.4 14.6 13.  15.1 27.3 19.2 21.8 20.3\n",
            " 34.3 16.5  3.   0.7 20.5 16.9 25.3  9.9 13.1 29.9 22.5 16.9 26.6  0.\n",
            " 11.5 12.1 17.5  8.6 23.6 20.4 20.5 24.4 11.4 38.1 15.9 24.7 22.8 25.5\n",
            " 22.  17.7  6.6 23.6 12.2 22.1 28.7  6.  34.8 16.6 32.9 32.8  9.6 10.8\n",
            "  7.1 27.2 19.5 18.7 19.5 47.5 13.6  7.5 24.5 15.  12.4 26.  11.5  5.2\n",
            " 10.9 12.5 14.8 25.2 14.9 17.  10.6 16.1 15.4 26.7 25.8 18.6 24.8 27.3\n",
            " 12.4 29.9 17.  35.  30.4 32.6 29.  15.2 30.2 11.  33.6 29.3 26.  31.9]\n",
            "(252,)\n"
          ]
        }
      ]
    }
  ]
}