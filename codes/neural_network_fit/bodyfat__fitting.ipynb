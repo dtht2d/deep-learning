{
  "nbformat": 4,
  "nbformat_minor": 0,
  "metadata": {
    "colab": {
      "provenance": [],
      "mount_file_id": "https://github.com/dtht2d/deep-learning/blob/main/codes/neural_network_fit/bodyfat__fitting.ipynb",
      "authorship_tag": "ABX9TyM9p8N1OZEMd8mCuiIy3W2P",
      "include_colab_link": true
    },
    "kernelspec": {
      "name": "python3",
      "display_name": "Python 3"
    },
    "language_info": {
      "name": "python"
    }
  },
  "cells": [
    {
      "cell_type": "markdown",
      "metadata": {
        "id": "view-in-github",
        "colab_type": "text"
      },
      "source": [
        "<a href=\"https://colab.research.google.com/github/dtht2d/deep-learning/blob/main/codes/neural_network_fit/bodyfat__fitting.ipynb\" target=\"_parent\"><img src=\"https://colab.research.google.com/assets/colab-badge.svg\" alt=\"Open In Colab\"/></a>"
      ]
    },
    {
      "cell_type": "code",
      "source": [
        "%autosave 30"
      ],
      "metadata": {
        "colab": {
          "base_uri": "https://localhost:8080/",
          "height": 35
        },
        "id": "Q4x5QI4PlvVA",
        "outputId": "3d8784ed-c882-4219-ed59-e13825331fd0"
      },
      "execution_count": 1,
      "outputs": [
        {
          "output_type": "display_data",
          "data": {
            "application/javascript": [
              "IPython.notebook.set_autosave_interval(30000)"
            ]
          },
          "metadata": {}
        },
        {
          "output_type": "stream",
          "name": "stdout",
          "text": [
            "Autosaving every 30 seconds\n"
          ]
        }
      ]
    },
    {
      "cell_type": "markdown",
      "source": [
        "# **Objective**\n",
        "---\n",
        "- Create similarity **nftool** (MATLAB's Neural Network Toolbox) function in Python\n",
        "- We have data from a health clinic and our goal is to design a neural network that can predict the percentage of body fat of a person, based on 13 anatomical measurements. The dataset contains information from 252 individuals, with measurements for each of the 13 variables, as well as their corresponding percentage of body fat. The objective is to train a neural network to predict body fat percentage based on the input variables.\n",
        "- Observe the output by changing the training/validation/testing percentages and the number of neurons. "
      ],
      "metadata": {
        "id": "WriLcXvXcpF2"
      }
    },
    {
      "cell_type": "markdown",
      "source": [
        "## **1. Background**\n"
      ],
      "metadata": {
        "id": "40qXcIn_dl3n"
      }
    },
    {
      "cell_type": "markdown",
      "source": [
        "### **Neural Network Fitting Algorithm**\n",
        "A two-layer feed-forward network trained with Levenberg-Marquardt is a neural network architecture commonly used for solving regression problems. \n",
        "\n",
        "**Two-layer feed-forward neural network architecture:**\n",
        "  - The information flows in a single direction from the input layer to the output layer.\n",
        "  - There is one input layer, one output layer, and at least one hidden layer in between. The hidden layer(s) contain nodes that apply transformations to the input data, which are then fed forward to the output layer.\n",
        "\n",
        "- **Levenberg-Marquardt algorithm:**\n",
        "  - A popular optimization algorithm used to train neural networks by optimizing the weights and biases of the network.\n",
        "  - It is a combination of two other optimization algorithms: the Gauss-Newton algorithm and the Gradient Descent algorithm\n",
        "  - Particularly effective for training feed-forward neural networks with one or more hidden layers.\n",
        "  - For mathemtical equations reference: http://web.eecs.utk.edu/~mjr/ECE505/Miscellaneous/levmar.pdf\n"
      ],
      "metadata": {
        "id": "VdJfvfTogCsR"
      }
    },
    {
      "cell_type": "markdown",
      "source": [
        "## **2. Methods**\n"
      ],
      "metadata": {
        "id": "yT5pUWEKk7at"
      }
    },
    {
      "cell_type": "markdown",
      "source": [
        "### Install packages\n"
      ],
      "metadata": {
        "id": "a44Mm0dUmno0"
      }
    },
    {
      "cell_type": "code",
      "source": [
        "!pip install numpy"
      ],
      "metadata": {
        "colab": {
          "base_uri": "https://localhost:8080/"
        },
        "id": "y-XWfxfVoMni",
        "outputId": "60e42caa-d262-4ba8-b518-079a777719c3"
      },
      "execution_count": 10,
      "outputs": [
        {
          "output_type": "stream",
          "name": "stdout",
          "text": [
            "Looking in indexes: https://pypi.org/simple, https://us-python.pkg.dev/colab-wheels/public/simple/\n",
            "Requirement already satisfied: numpy in /usr/local/lib/python3.8/dist-packages (1.22.4)\n"
          ]
        }
      ]
    },
    {
      "cell_type": "code",
      "execution_count": 7,
      "metadata": {
        "id": "P_j9vbhjcFU4",
        "colab": {
          "base_uri": "https://localhost:8080/"
        },
        "outputId": "366f990f-2d55-4a6c-cd1e-0be7424e7c9f"
      },
      "outputs": [
        {
          "output_type": "stream",
          "name": "stdout",
          "text": [
            "Looking in indexes: https://pypi.org/simple, https://us-python.pkg.dev/colab-wheels/public/simple/\n",
            "Requirement already satisfied: pandas in /usr/local/lib/python3.8/dist-packages (1.3.5)\n",
            "Requirement already satisfied: python-dateutil>=2.7.3 in /usr/local/lib/python3.8/dist-packages (from pandas) (2.8.2)\n",
            "Requirement already satisfied: pytz>=2017.3 in /usr/local/lib/python3.8/dist-packages (from pandas) (2022.7.1)\n",
            "Requirement already satisfied: numpy>=1.17.3 in /usr/local/lib/python3.8/dist-packages (from pandas) (1.22.4)\n",
            "Requirement already satisfied: six>=1.5 in /usr/local/lib/python3.8/dist-packages (from python-dateutil>=2.7.3->pandas) (1.15.0)\n"
          ]
        }
      ],
      "source": [
        "!pip install pandas"
      ]
    },
    {
      "cell_type": "code",
      "source": [
        "!pip install matplotlib"
      ],
      "metadata": {
        "colab": {
          "base_uri": "https://localhost:8080/"
        },
        "id": "o6ZQaClDoGdo",
        "outputId": "d4b3f0b2-d569-4ac2-965f-aa10fe6986be"
      },
      "execution_count": 9,
      "outputs": [
        {
          "output_type": "stream",
          "name": "stdout",
          "text": [
            "Looking in indexes: https://pypi.org/simple, https://us-python.pkg.dev/colab-wheels/public/simple/\n",
            "Requirement already satisfied: matplotlib in /usr/local/lib/python3.8/dist-packages (3.5.3)\n",
            "Requirement already satisfied: fonttools>=4.22.0 in /usr/local/lib/python3.8/dist-packages (from matplotlib) (4.38.0)\n",
            "Requirement already satisfied: kiwisolver>=1.0.1 in /usr/local/lib/python3.8/dist-packages (from matplotlib) (1.4.4)\n",
            "Requirement already satisfied: pillow>=6.2.0 in /usr/local/lib/python3.8/dist-packages (from matplotlib) (8.4.0)\n",
            "Requirement already satisfied: packaging>=20.0 in /usr/local/lib/python3.8/dist-packages (from matplotlib) (23.0)\n",
            "Requirement already satisfied: cycler>=0.10 in /usr/local/lib/python3.8/dist-packages (from matplotlib) (0.11.0)\n",
            "Requirement already satisfied: numpy>=1.17 in /usr/local/lib/python3.8/dist-packages (from matplotlib) (1.22.4)\n",
            "Requirement already satisfied: python-dateutil>=2.7 in /usr/local/lib/python3.8/dist-packages (from matplotlib) (2.8.2)\n",
            "Requirement already satisfied: pyparsing>=2.2.1 in /usr/local/lib/python3.8/dist-packages (from matplotlib) (3.0.9)\n",
            "Requirement already satisfied: six>=1.5 in /usr/local/lib/python3.8/dist-packages (from python-dateutil>=2.7->matplotlib) (1.15.0)\n"
          ]
        }
      ]
    },
    {
      "cell_type": "code",
      "source": [
        "!pip install tensorflow"
      ],
      "metadata": {
        "colab": {
          "base_uri": "https://localhost:8080/"
        },
        "id": "lPKpt3SQn8S9",
        "outputId": "072c5f94-0d09-4432-8bf3-d6b8c635e3a7"
      },
      "execution_count": 8,
      "outputs": [
        {
          "output_type": "stream",
          "name": "stdout",
          "text": [
            "Looking in indexes: https://pypi.org/simple, https://us-python.pkg.dev/colab-wheels/public/simple/\n",
            "Requirement already satisfied: tensorflow in /usr/local/lib/python3.8/dist-packages (2.11.0)\n",
            "Requirement already satisfied: absl-py>=1.0.0 in /usr/local/lib/python3.8/dist-packages (from tensorflow) (1.4.0)\n",
            "Requirement already satisfied: setuptools in /usr/local/lib/python3.8/dist-packages (from tensorflow) (57.4.0)\n",
            "Requirement already satisfied: astunparse>=1.6.0 in /usr/local/lib/python3.8/dist-packages (from tensorflow) (1.6.3)\n",
            "Requirement already satisfied: keras<2.12,>=2.11.0 in /usr/local/lib/python3.8/dist-packages (from tensorflow) (2.11.0)\n",
            "Requirement already satisfied: tensorboard<2.12,>=2.11 in /usr/local/lib/python3.8/dist-packages (from tensorflow) (2.11.2)\n",
            "Requirement already satisfied: wrapt>=1.11.0 in /usr/local/lib/python3.8/dist-packages (from tensorflow) (1.14.1)\n",
            "Requirement already satisfied: six>=1.12.0 in /usr/local/lib/python3.8/dist-packages (from tensorflow) (1.15.0)\n",
            "Requirement already satisfied: flatbuffers>=2.0 in /usr/local/lib/python3.8/dist-packages (from tensorflow) (23.1.21)\n",
            "Requirement already satisfied: libclang>=13.0.0 in /usr/local/lib/python3.8/dist-packages (from tensorflow) (15.0.6.1)\n",
            "Requirement already satisfied: tensorflow-estimator<2.12,>=2.11.0 in /usr/local/lib/python3.8/dist-packages (from tensorflow) (2.11.0)\n",
            "Requirement already satisfied: tensorflow-io-gcs-filesystem>=0.23.1 in /usr/local/lib/python3.8/dist-packages (from tensorflow) (0.30.0)\n",
            "Requirement already satisfied: h5py>=2.9.0 in /usr/local/lib/python3.8/dist-packages (from tensorflow) (3.1.0)\n",
            "Requirement already satisfied: grpcio<2.0,>=1.24.3 in /usr/local/lib/python3.8/dist-packages (from tensorflow) (1.51.3)\n",
            "Requirement already satisfied: gast<=0.4.0,>=0.2.1 in /usr/local/lib/python3.8/dist-packages (from tensorflow) (0.4.0)\n",
            "Requirement already satisfied: termcolor>=1.1.0 in /usr/local/lib/python3.8/dist-packages (from tensorflow) (2.2.0)\n",
            "Requirement already satisfied: typing-extensions>=3.6.6 in /usr/local/lib/python3.8/dist-packages (from tensorflow) (4.5.0)\n",
            "Requirement already satisfied: google-pasta>=0.1.1 in /usr/local/lib/python3.8/dist-packages (from tensorflow) (0.2.0)\n",
            "Requirement already satisfied: numpy>=1.20 in /usr/local/lib/python3.8/dist-packages (from tensorflow) (1.22.4)\n",
            "Requirement already satisfied: packaging in /usr/local/lib/python3.8/dist-packages (from tensorflow) (23.0)\n",
            "Requirement already satisfied: opt-einsum>=2.3.2 in /usr/local/lib/python3.8/dist-packages (from tensorflow) (3.3.0)\n",
            "Requirement already satisfied: protobuf<3.20,>=3.9.2 in /usr/local/lib/python3.8/dist-packages (from tensorflow) (3.19.6)\n",
            "Requirement already satisfied: wheel<1.0,>=0.23.0 in /usr/local/lib/python3.8/dist-packages (from astunparse>=1.6.0->tensorflow) (0.38.4)\n",
            "Requirement already satisfied: markdown>=2.6.8 in /usr/local/lib/python3.8/dist-packages (from tensorboard<2.12,>=2.11->tensorflow) (3.4.1)\n",
            "Requirement already satisfied: tensorboard-plugin-wit>=1.6.0 in /usr/local/lib/python3.8/dist-packages (from tensorboard<2.12,>=2.11->tensorflow) (1.8.1)\n",
            "Requirement already satisfied: werkzeug>=1.0.1 in /usr/local/lib/python3.8/dist-packages (from tensorboard<2.12,>=2.11->tensorflow) (1.0.1)\n",
            "Requirement already satisfied: google-auth<3,>=1.6.3 in /usr/local/lib/python3.8/dist-packages (from tensorboard<2.12,>=2.11->tensorflow) (2.16.1)\n",
            "Requirement already satisfied: requests<3,>=2.21.0 in /usr/local/lib/python3.8/dist-packages (from tensorboard<2.12,>=2.11->tensorflow) (2.25.1)\n",
            "Requirement already satisfied: google-auth-oauthlib<0.5,>=0.4.1 in /usr/local/lib/python3.8/dist-packages (from tensorboard<2.12,>=2.11->tensorflow) (0.4.6)\n",
            "Requirement already satisfied: tensorboard-data-server<0.7.0,>=0.6.0 in /usr/local/lib/python3.8/dist-packages (from tensorboard<2.12,>=2.11->tensorflow) (0.6.1)\n",
            "Requirement already satisfied: cachetools<6.0,>=2.0.0 in /usr/local/lib/python3.8/dist-packages (from google-auth<3,>=1.6.3->tensorboard<2.12,>=2.11->tensorflow) (5.3.0)\n",
            "Requirement already satisfied: pyasn1-modules>=0.2.1 in /usr/local/lib/python3.8/dist-packages (from google-auth<3,>=1.6.3->tensorboard<2.12,>=2.11->tensorflow) (0.2.8)\n",
            "Requirement already satisfied: rsa<5,>=3.1.4 in /usr/local/lib/python3.8/dist-packages (from google-auth<3,>=1.6.3->tensorboard<2.12,>=2.11->tensorflow) (4.9)\n",
            "Requirement already satisfied: requests-oauthlib>=0.7.0 in /usr/local/lib/python3.8/dist-packages (from google-auth-oauthlib<0.5,>=0.4.1->tensorboard<2.12,>=2.11->tensorflow) (1.3.1)\n",
            "Requirement already satisfied: importlib-metadata>=4.4 in /usr/local/lib/python3.8/dist-packages (from markdown>=2.6.8->tensorboard<2.12,>=2.11->tensorflow) (6.0.0)\n",
            "Requirement already satisfied: chardet<5,>=3.0.2 in /usr/local/lib/python3.8/dist-packages (from requests<3,>=2.21.0->tensorboard<2.12,>=2.11->tensorflow) (4.0.0)\n",
            "Requirement already satisfied: urllib3<1.27,>=1.21.1 in /usr/local/lib/python3.8/dist-packages (from requests<3,>=2.21.0->tensorboard<2.12,>=2.11->tensorflow) (1.24.3)\n",
            "Requirement already satisfied: idna<3,>=2.5 in /usr/local/lib/python3.8/dist-packages (from requests<3,>=2.21.0->tensorboard<2.12,>=2.11->tensorflow) (2.10)\n",
            "Requirement already satisfied: certifi>=2017.4.17 in /usr/local/lib/python3.8/dist-packages (from requests<3,>=2.21.0->tensorboard<2.12,>=2.11->tensorflow) (2022.12.7)\n",
            "Requirement already satisfied: zipp>=0.5 in /usr/local/lib/python3.8/dist-packages (from importlib-metadata>=4.4->markdown>=2.6.8->tensorboard<2.12,>=2.11->tensorflow) (3.14.0)\n",
            "Requirement already satisfied: pyasn1<0.5.0,>=0.4.6 in /usr/local/lib/python3.8/dist-packages (from pyasn1-modules>=0.2.1->google-auth<3,>=1.6.3->tensorboard<2.12,>=2.11->tensorflow) (0.4.8)\n",
            "Requirement already satisfied: oauthlib>=3.0.0 in /usr/local/lib/python3.8/dist-packages (from requests-oauthlib>=0.7.0->google-auth-oauthlib<0.5,>=0.4.1->tensorboard<2.12,>=2.11->tensorflow) (3.2.2)\n"
          ]
        }
      ]
    },
    {
      "cell_type": "code",
      "source": [
        "!pip install sklearn"
      ],
      "metadata": {
        "id": "vzbseTS9Gdu_",
        "outputId": "91a44c45-ef79-464b-e3df-29bdda9ba44d",
        "colab": {
          "base_uri": "https://localhost:8080/"
        }
      },
      "execution_count": 134,
      "outputs": [
        {
          "output_type": "stream",
          "name": "stdout",
          "text": [
            "Looking in indexes: https://pypi.org/simple, https://us-python.pkg.dev/colab-wheels/public/simple/\n",
            "Collecting sklearn\n",
            "  Downloading sklearn-0.0.post1.tar.gz (3.6 kB)\n",
            "  Preparing metadata (setup.py) ... \u001b[?25l\u001b[?25hdone\n",
            "Building wheels for collected packages: sklearn\n",
            "  Building wheel for sklearn (setup.py) ... \u001b[?25l\u001b[?25hdone\n",
            "  Created wheel for sklearn: filename=sklearn-0.0.post1-py3-none-any.whl size=2344 sha256=d575510ca3242951b30c0f906771f12c7e8ae93d73a8a80894acc32a216fe318\n",
            "  Stored in directory: /root/.cache/pip/wheels/14/25/f7/1cc0956978ae479e75140219088deb7a36f60459df242b1a72\n",
            "Successfully built sklearn\n",
            "Installing collected packages: sklearn\n",
            "Successfully installed sklearn-0.0.post1\n"
          ]
        }
      ]
    },
    {
      "cell_type": "markdown",
      "source": [
        "### Import libraries"
      ],
      "metadata": {
        "id": "Jw2gEkNclIhq"
      }
    },
    {
      "cell_type": "code",
      "source": [
        "import pandas as pd\n",
        "import numpy as np\n",
        "import tensorflow as tf\n",
        "from tensorflow import keras\n",
        "import matplotlib.pyplot as plt"
      ],
      "metadata": {
        "id": "aTv4NsVUoB4Y"
      },
      "execution_count": 42,
      "outputs": []
    },
    {
      "cell_type": "code",
      "source": [
        "from google.colab import drive\n",
        "drive.mount('/content/drive')"
      ],
      "metadata": {
        "colab": {
          "base_uri": "https://localhost:8080/"
        },
        "id": "EFXmzbVtmra4",
        "outputId": "ae979087-edcf-434b-e193-cbf8bde1246c"
      },
      "execution_count": 6,
      "outputs": [
        {
          "output_type": "stream",
          "name": "stdout",
          "text": [
            "Mounted at /content/drive\n"
          ]
        }
      ]
    },
    {
      "cell_type": "code",
      "source": [
        "path = \"/content/bodyfat.csv\""
      ],
      "metadata": {
        "id": "-zJM3pxemnA5"
      },
      "execution_count": 11,
      "outputs": []
    },
    {
      "cell_type": "code",
      "source": [
        "df = pd.read_csv(path)\n",
        "print (df)"
      ],
      "metadata": {
        "colab": {
          "base_uri": "https://localhost:8080/"
        },
        "id": "vHsczgubosVG",
        "outputId": "14292b0d-cfd1-40c3-d3c8-ff9ebc6983fe"
      },
      "execution_count": 14,
      "outputs": [
        {
          "output_type": "stream",
          "name": "stdout",
          "text": [
            "     Density  BodyFat  Age  Weight  Height  Neck  Chest  Abdomen    Hip  \\\n",
            "0     1.0708     12.3   23  154.25   67.75  36.2   93.1     85.2   94.5   \n",
            "1     1.0853      6.1   22  173.25   72.25  38.5   93.6     83.0   98.7   \n",
            "2     1.0414     25.3   22  154.00   66.25  34.0   95.8     87.9   99.2   \n",
            "3     1.0751     10.4   26  184.75   72.25  37.4  101.8     86.4  101.2   \n",
            "4     1.0340     28.7   24  184.25   71.25  34.4   97.3    100.0  101.9   \n",
            "..       ...      ...  ...     ...     ...   ...    ...      ...    ...   \n",
            "247   1.0736     11.0   70  134.25   67.00  34.9   89.2     83.6   88.8   \n",
            "248   1.0236     33.6   72  201.00   69.75  40.9  108.5    105.0  104.5   \n",
            "249   1.0328     29.3   72  186.75   66.00  38.9  111.1    111.5  101.7   \n",
            "250   1.0399     26.0   72  190.75   70.50  38.9  108.3    101.3   97.8   \n",
            "251   1.0271     31.9   74  207.50   70.00  40.8  112.4    108.5  107.1   \n",
            "\n",
            "     Thigh  Knee  Ankle  Biceps  Forearm  Wrist  \n",
            "0     59.0  37.3   21.9    32.0     27.4   17.1  \n",
            "1     58.7  37.3   23.4    30.5     28.9   18.2  \n",
            "2     59.6  38.9   24.0    28.8     25.2   16.6  \n",
            "3     60.1  37.3   22.8    32.4     29.4   18.2  \n",
            "4     63.2  42.2   24.0    32.2     27.7   17.7  \n",
            "..     ...   ...    ...     ...      ...    ...  \n",
            "247   49.6  34.8   21.5    25.6     25.7   18.5  \n",
            "248   59.6  40.8   23.2    35.2     28.6   20.1  \n",
            "249   60.3  37.3   21.5    31.3     27.2   18.0  \n",
            "250   56.0  41.6   22.7    30.5     29.4   19.8  \n",
            "251   59.3  42.2   24.6    33.7     30.0   20.9  \n",
            "\n",
            "[252 rows x 15 columns]\n"
          ]
        }
      ]
    },
    {
      "cell_type": "markdown",
      "source": [
        "BodyFat\" is located in the third column of the dataset, with an index of [2]. To prepare the data for training a neural network to predict body fat percentage, we need to select the input features (denoted as \"X\") that will be used to make the predictions. To do this, we should choose all the features in the dataset except for the \"BodyFat\" column. "
      ],
      "metadata": {
        "id": "iLLWiFldqLj1"
      }
    },
    {
      "cell_type": "code",
      "source": [
        "X = df.iloc[:, 2:].to_numpy()\n",
        "y = df['BodyFat'].to_numpy()\n",
        "y = np.reshape(y, (-1, 1)) \n",
        "#print X to check features number and y length\n",
        "print(X.shape)\n",
        "print(y.shape)"
      ],
      "metadata": {
        "colab": {
          "base_uri": "https://localhost:8080/"
        },
        "id": "6ZVobOsZpxRY",
        "outputId": "912788df-0af0-4a4b-8c5f-78fee2821791"
      },
      "execution_count": 48,
      "outputs": [
        {
          "output_type": "stream",
          "name": "stdout",
          "text": [
            "(252, 13)\n",
            "(252, 1)\n"
          ]
        }
      ]
    },
    {
      "cell_type": "markdown",
      "source": [
        "### **Create Levenberg-Marquardt class function - Python**"
      ],
      "metadata": {
        "id": "VpxE4Jgl2Ck9"
      }
    },
    {
      "cell_type": "markdown",
      "source": [
        "Keras does not have built in support for for the Levenberg-Marquardt algorithm so we have to rewrite Levenberg-Marquardt optimizer class function"
      ],
      "metadata": {
        "id": "pywMoZz92R4F"
      }
    },
    {
      "cell_type": "code",
      "source": [
        "from tensorflow.keras.optimizers import Optimizer\n",
        "import tensorflow.keras.backend as K\n",
        "\n",
        "class LevenbergMarquardt(Optimizer):\n",
        "    def __init__(self, learning_rate=0.01, mu=0.1, eps=1e-8,name=\"LevenbergMarquardt\", **kwargs):\n",
        "        super().__init__(name=name,**kwargs)\n",
        "        self._learning_rate = K.constant(learning_rate)\n",
        "        self.mu = K.constant(mu)\n",
        "        self.eps = K.constant(eps)\n",
        "\n",
        "    def get_updates(self, loss, params):\n",
        "        grads = self.get_gradients(loss, params)\n",
        "        shapes = [K.int_shape(p) for p in params]\n",
        "        ms = [K.zeros(shape) for shape in shapes]\n",
        "        vs = [K.zeros(shape) for shape in shapes]\n",
        "\n",
        "        def lm_update(p, g, m, v):\n",
        "            m_new = (1 - self.mu) * m + self.mu * g\n",
        "            v_new = (1 - self.mu) * v + self.mu * K.square(g)\n",
        "            d = m_new / (K.sqrt(v_new) + self.eps)\n",
        "            return p - self.learning_rate * d, m_new, v_new\n",
        "\n",
        "        updates = []\n",
        "        for p, g, m, v in zip(params, grads, ms, vs):\n",
        "            p_new, m_new, v_new = lm_update(p, g, m, v)\n",
        "            updates.append((p, p_new))\n",
        "            updates.append((m, m_new))\n",
        "            updates.append((v, v_new))\n",
        "        return updates\n",
        "\n",
        "    def get_config(self):\n",
        "        config = super().get_config()\n",
        "        config.update({\n",
        "            'learning_rate': self.learning_rate.numpy(),\n",
        "            'mu': self.mu.numpy(),\n",
        "            'eps': self.eps.numpy(),\n",
        "        })\n",
        "        return config\n"
      ],
      "metadata": {
        "id": "qjSN8zLD2BBN"
      },
      "execution_count": 118,
      "outputs": []
    },
    {
      "cell_type": "markdown",
      "source": [
        "### **Define the neural network architecture**"
      ],
      "metadata": {
        "id": "m09Qwj9Xy4Tx"
      }
    },
    {
      "cell_type": "markdown",
      "source": [
        "- **First layer:** dense layer with 16 units, with input_shape set to (13,), which corresponds to the number of input features.\n",
        "- **Second layer:** dense layer with 8 units and a relu activation function.\n",
        "- **Third layer:** dense layer with 1 unit, which corresponds to the output of the neural network."
      ],
      "metadata": {
        "id": "Iw2Grymp1BTX"
      }
    },
    {
      "cell_type": "code",
      "source": [
        "from tensorflow.keras.models import Sequential\n",
        "from tensorflow.keras.layers import Dense\n",
        "\n",
        "model = Sequential()\n",
        "model.add(Dense(units=16, input_shape=(13,), activation='relu'))\n",
        "model.add(Dense(units=8, activation='relu'))\n",
        "model.add(Dense(units=1, activation='linear'))\n",
        "\n",
        "# compile the model with the Levenberg-Marquardt optimizer\n",
        "#lm_optimizer = LevenbergMarquardt(learning_rate=0.01, mu=0.1, eps=1e-8)\n",
        "#model.compile(optimizer=lm_optimizer, loss='mse')"
      ],
      "metadata": {
        "id": "ER1UHWCczkA0"
      },
      "execution_count": 212,
      "outputs": []
    },
    {
      "cell_type": "markdown",
      "source": [
        "- **keras.layers.Dense:** This specifies that we want to add a dense layer to the model.\n",
        "- **units=16:** This sets the number of neurons in the layer to 16.\n",
        "- **input_shape=(13,):** This specifies the shape of the input to the layer. In this case, the input X has shape (252, 13), then the input shape in the Dense layer should be (13,), which matches the number of features in the input data.\n",
        "- **activation='relu':**This sets the activation function of the neurons in the layer to the rectified linear unit (ReLU) function. ReLU is a common activation function used in neural networks that is defined as max(0, x). It is often used in hidden layers because it is computationally efficient and helps prevent the vanishing gradient problem. \n"
      ],
      "metadata": {
        "id": "o7t0TLHazX6O"
      }
    },
    {
      "cell_type": "markdown",
      "source": [
        "Since model.fit showed error when using Levenberg-Marquardt optimizer let try to use Adam optimizer instead"
      ],
      "metadata": {
        "id": "lgsgoVPBEHNa"
      }
    },
    {
      "cell_type": "markdown",
      "source": [
        "### **Train the model**\n"
      ],
      "metadata": {
        "id": "xgTokyq2Ddw1"
      }
    },
    {
      "cell_type": "markdown",
      "source": [
        "Split data for training and testing set\n",
        "\n",
        "**Training/Test/Validation =70/20/10**"
      ],
      "metadata": {
        "id": "ei6q7smWEiqc"
      }
    },
    {
      "cell_type": "code",
      "source": [
        "from sklearn.model_selection import train_test_split\n",
        "\n",
        "# Split the dataset into a training set (70%) and a testing set (30%)\n",
        "X_train, X_test, y_train, y_test = train_test_split(X, y, test_size=0.3, random_state=42)\n",
        "\n",
        "# Split the testing set into a validation set (20%) and a new testing set (10%)\n",
        "X_test, X_val, y_test, y_val = train_test_split(X_test, y_test, test_size=0.33, random_state=42)\n"
      ],
      "metadata": {
        "id": "x8GUmqCfRiRs"
      },
      "execution_count": 203,
      "outputs": []
    },
    {
      "cell_type": "code",
      "source": [
        "model.compile(optimizer=Adam(learning_rate=0.01), loss='mse', metrics=['accuracy'])\n",
        "history = model.fit(X_train, y_train, epochs=100, batch_size=32, validation_data=(X_val, y_val), verbose=1, shuffle=1)\n",
        "print(history.history.keys())\n"
      ],
      "metadata": {
        "colab": {
          "base_uri": "https://localhost:8080/"
        },
        "id": "lr0JSMC9tle8",
        "outputId": "fbbb5ec2-020a-4aef-a37d-793adf581977"
      },
      "execution_count": 213,
      "outputs": [
        {
          "output_type": "stream",
          "name": "stdout",
          "text": [
            "Epoch 1/100\n",
            "6/6 [==============================] - 1s 54ms/step - loss: 268.2850 - accuracy: 0.0000e+00 - val_loss: 116.8076 - val_accuracy: 0.0000e+00\n",
            "Epoch 2/100\n",
            "6/6 [==============================] - 0s 17ms/step - loss: 67.2405 - accuracy: 0.0000e+00 - val_loss: 50.0040 - val_accuracy: 0.0000e+00\n",
            "Epoch 3/100\n",
            "6/6 [==============================] - 0s 15ms/step - loss: 71.2336 - accuracy: 0.0000e+00 - val_loss: 87.7643 - val_accuracy: 0.0000e+00\n",
            "Epoch 4/100\n",
            "6/6 [==============================] - 0s 15ms/step - loss: 55.0725 - accuracy: 0.0000e+00 - val_loss: 37.3578 - val_accuracy: 0.0000e+00\n",
            "Epoch 5/100\n",
            "6/6 [==============================] - 0s 17ms/step - loss: 58.3053 - accuracy: 0.0000e+00 - val_loss: 44.7994 - val_accuracy: 0.0000e+00\n",
            "Epoch 6/100\n",
            "6/6 [==============================] - 0s 13ms/step - loss: 49.2134 - accuracy: 0.0000e+00 - val_loss: 54.4644 - val_accuracy: 0.0000e+00\n",
            "Epoch 7/100\n",
            "6/6 [==============================] - 0s 13ms/step - loss: 49.2196 - accuracy: 0.0000e+00 - val_loss: 40.4435 - val_accuracy: 0.0000e+00\n",
            "Epoch 8/100\n",
            "6/6 [==============================] - 0s 12ms/step - loss: 48.4453 - accuracy: 0.0000e+00 - val_loss: 44.6816 - val_accuracy: 0.0000e+00\n",
            "Epoch 9/100\n",
            "6/6 [==============================] - 0s 14ms/step - loss: 47.7960 - accuracy: 0.0000e+00 - val_loss: 34.9173 - val_accuracy: 0.0000e+00\n",
            "Epoch 10/100\n",
            "6/6 [==============================] - 0s 13ms/step - loss: 49.2459 - accuracy: 0.0000e+00 - val_loss: 44.0049 - val_accuracy: 0.0000e+00\n",
            "Epoch 11/100\n",
            "6/6 [==============================] - 0s 12ms/step - loss: 43.7043 - accuracy: 0.0000e+00 - val_loss: 34.2684 - val_accuracy: 0.0000e+00\n",
            "Epoch 12/100\n",
            "6/6 [==============================] - 0s 20ms/step - loss: 43.6844 - accuracy: 0.0000e+00 - val_loss: 43.2638 - val_accuracy: 0.0000e+00\n",
            "Epoch 13/100\n",
            "6/6 [==============================] - 0s 13ms/step - loss: 43.7457 - accuracy: 0.0000e+00 - val_loss: 36.4378 - val_accuracy: 0.0000e+00\n",
            "Epoch 14/100\n",
            "6/6 [==============================] - 0s 16ms/step - loss: 41.8871 - accuracy: 0.0000e+00 - val_loss: 35.6853 - val_accuracy: 0.0000e+00\n",
            "Epoch 15/100\n",
            "6/6 [==============================] - 0s 12ms/step - loss: 41.6229 - accuracy: 0.0000e+00 - val_loss: 38.3165 - val_accuracy: 0.0000e+00\n",
            "Epoch 16/100\n",
            "6/6 [==============================] - 0s 18ms/step - loss: 40.7924 - accuracy: 0.0000e+00 - val_loss: 31.2595 - val_accuracy: 0.0000e+00\n",
            "Epoch 17/100\n",
            "6/6 [==============================] - 0s 14ms/step - loss: 39.1488 - accuracy: 0.0000e+00 - val_loss: 42.6393 - val_accuracy: 0.0000e+00\n",
            "Epoch 18/100\n",
            "6/6 [==============================] - 0s 12ms/step - loss: 40.5704 - accuracy: 0.0000e+00 - val_loss: 34.6739 - val_accuracy: 0.0000e+00\n",
            "Epoch 19/100\n",
            "6/6 [==============================] - 0s 18ms/step - loss: 39.3423 - accuracy: 0.0000e+00 - val_loss: 29.6879 - val_accuracy: 0.0000e+00\n",
            "Epoch 20/100\n",
            "6/6 [==============================] - 0s 13ms/step - loss: 41.4957 - accuracy: 0.0000e+00 - val_loss: 49.6573 - val_accuracy: 0.0000e+00\n",
            "Epoch 21/100\n",
            "6/6 [==============================] - 0s 17ms/step - loss: 37.3248 - accuracy: 0.0000e+00 - val_loss: 27.0552 - val_accuracy: 0.0000e+00\n",
            "Epoch 22/100\n",
            "6/6 [==============================] - 0s 16ms/step - loss: 36.0145 - accuracy: 0.0000e+00 - val_loss: 80.3418 - val_accuracy: 0.0000e+00\n",
            "Epoch 23/100\n",
            "6/6 [==============================] - 0s 17ms/step - loss: 48.2246 - accuracy: 0.0000e+00 - val_loss: 29.5576 - val_accuracy: 0.0000e+00\n",
            "Epoch 24/100\n",
            "6/6 [==============================] - 0s 15ms/step - loss: 44.9171 - accuracy: 0.0000e+00 - val_loss: 64.7490 - val_accuracy: 0.0000e+00\n",
            "Epoch 25/100\n",
            "6/6 [==============================] - 0s 13ms/step - loss: 38.6861 - accuracy: 0.0000e+00 - val_loss: 25.4423 - val_accuracy: 0.0000e+00\n",
            "Epoch 26/100\n",
            "6/6 [==============================] - 0s 15ms/step - loss: 36.9238 - accuracy: 0.0000e+00 - val_loss: 48.2378 - val_accuracy: 0.0000e+00\n",
            "Epoch 27/100\n",
            "6/6 [==============================] - 0s 16ms/step - loss: 36.6974 - accuracy: 0.0000e+00 - val_loss: 26.0067 - val_accuracy: 0.0000e+00\n",
            "Epoch 28/100\n",
            "6/6 [==============================] - 0s 17ms/step - loss: 36.7094 - accuracy: 0.0000e+00 - val_loss: 29.2698 - val_accuracy: 0.0000e+00\n",
            "Epoch 29/100\n",
            "6/6 [==============================] - 0s 14ms/step - loss: 35.2343 - accuracy: 0.0000e+00 - val_loss: 33.7218 - val_accuracy: 0.0000e+00\n",
            "Epoch 30/100\n",
            "6/6 [==============================] - 0s 13ms/step - loss: 33.1582 - accuracy: 0.0000e+00 - val_loss: 26.6276 - val_accuracy: 0.0000e+00\n",
            "Epoch 31/100\n",
            "6/6 [==============================] - 0s 14ms/step - loss: 35.1162 - accuracy: 0.0000e+00 - val_loss: 38.5332 - val_accuracy: 0.0000e+00\n",
            "Epoch 32/100\n",
            "6/6 [==============================] - 0s 19ms/step - loss: 34.0386 - accuracy: 0.0000e+00 - val_loss: 38.7158 - val_accuracy: 0.0000e+00\n",
            "Epoch 33/100\n",
            "6/6 [==============================] - 0s 15ms/step - loss: 33.2294 - accuracy: 0.0000e+00 - val_loss: 27.7540 - val_accuracy: 0.0000e+00\n",
            "Epoch 34/100\n",
            "6/6 [==============================] - 0s 20ms/step - loss: 32.9519 - accuracy: 0.0000e+00 - val_loss: 38.1237 - val_accuracy: 0.0000e+00\n",
            "Epoch 35/100\n",
            "6/6 [==============================] - 0s 16ms/step - loss: 31.1818 - accuracy: 0.0000e+00 - val_loss: 31.2066 - val_accuracy: 0.0000e+00\n",
            "Epoch 36/100\n",
            "6/6 [==============================] - 0s 14ms/step - loss: 31.2833 - accuracy: 0.0000e+00 - val_loss: 30.3108 - val_accuracy: 0.0000e+00\n",
            "Epoch 37/100\n",
            "6/6 [==============================] - 0s 14ms/step - loss: 31.5130 - accuracy: 0.0000e+00 - val_loss: 37.1386 - val_accuracy: 0.0000e+00\n",
            "Epoch 38/100\n",
            "6/6 [==============================] - 0s 18ms/step - loss: 32.8714 - accuracy: 0.0000e+00 - val_loss: 45.9531 - val_accuracy: 0.0000e+00\n",
            "Epoch 39/100\n",
            "6/6 [==============================] - 0s 13ms/step - loss: 31.3745 - accuracy: 0.0000e+00 - val_loss: 30.1535 - val_accuracy: 0.0000e+00\n",
            "Epoch 40/100\n",
            "6/6 [==============================] - 0s 14ms/step - loss: 30.8401 - accuracy: 0.0000e+00 - val_loss: 35.1248 - val_accuracy: 0.0000e+00\n",
            "Epoch 41/100\n",
            "6/6 [==============================] - 0s 15ms/step - loss: 29.6650 - accuracy: 0.0000e+00 - val_loss: 32.6330 - val_accuracy: 0.0000e+00\n",
            "Epoch 42/100\n",
            "6/6 [==============================] - 0s 14ms/step - loss: 29.6277 - accuracy: 0.0000e+00 - val_loss: 33.8053 - val_accuracy: 0.0000e+00\n",
            "Epoch 43/100\n",
            "6/6 [==============================] - 0s 17ms/step - loss: 29.7914 - accuracy: 0.0000e+00 - val_loss: 33.9332 - val_accuracy: 0.0000e+00\n",
            "Epoch 44/100\n",
            "6/6 [==============================] - 0s 19ms/step - loss: 29.4244 - accuracy: 0.0000e+00 - val_loss: 35.7302 - val_accuracy: 0.0000e+00\n",
            "Epoch 45/100\n",
            "6/6 [==============================] - 0s 15ms/step - loss: 29.8177 - accuracy: 0.0000e+00 - val_loss: 59.0102 - val_accuracy: 0.0000e+00\n",
            "Epoch 46/100\n",
            "6/6 [==============================] - 0s 18ms/step - loss: 31.1482 - accuracy: 0.0000e+00 - val_loss: 28.7708 - val_accuracy: 0.0000e+00\n",
            "Epoch 47/100\n",
            "6/6 [==============================] - 0s 17ms/step - loss: 32.5895 - accuracy: 0.0000e+00 - val_loss: 27.9592 - val_accuracy: 0.0000e+00\n",
            "Epoch 48/100\n",
            "6/6 [==============================] - 0s 15ms/step - loss: 34.1636 - accuracy: 0.0000e+00 - val_loss: 34.4678 - val_accuracy: 0.0000e+00\n",
            "Epoch 49/100\n",
            "6/6 [==============================] - 0s 18ms/step - loss: 30.8933 - accuracy: 0.0000e+00 - val_loss: 42.1210 - val_accuracy: 0.0000e+00\n",
            "Epoch 50/100\n",
            "6/6 [==============================] - 0s 20ms/step - loss: 29.4218 - accuracy: 0.0000e+00 - val_loss: 40.8212 - val_accuracy: 0.0000e+00\n",
            "Epoch 51/100\n",
            "6/6 [==============================] - 0s 17ms/step - loss: 30.0381 - accuracy: 0.0000e+00 - val_loss: 29.9104 - val_accuracy: 0.0000e+00\n",
            "Epoch 52/100\n",
            "6/6 [==============================] - 0s 10ms/step - loss: 29.6776 - accuracy: 0.0000e+00 - val_loss: 27.1077 - val_accuracy: 0.0000e+00\n",
            "Epoch 53/100\n",
            "6/6 [==============================] - 0s 11ms/step - loss: 33.0766 - accuracy: 0.0000e+00 - val_loss: 46.3759 - val_accuracy: 0.0000e+00\n",
            "Epoch 54/100\n",
            "6/6 [==============================] - 0s 11ms/step - loss: 28.3491 - accuracy: 0.0000e+00 - val_loss: 30.7049 - val_accuracy: 0.0000e+00\n",
            "Epoch 55/100\n",
            "6/6 [==============================] - 0s 10ms/step - loss: 27.6397 - accuracy: 0.0000e+00 - val_loss: 30.7707 - val_accuracy: 0.0000e+00\n",
            "Epoch 56/100\n",
            "6/6 [==============================] - 0s 10ms/step - loss: 28.5044 - accuracy: 0.0000e+00 - val_loss: 31.3067 - val_accuracy: 0.0000e+00\n",
            "Epoch 57/100\n",
            "6/6 [==============================] - 0s 10ms/step - loss: 27.7675 - accuracy: 0.0000e+00 - val_loss: 31.1578 - val_accuracy: 0.0000e+00\n",
            "Epoch 58/100\n",
            "6/6 [==============================] - 0s 10ms/step - loss: 27.6369 - accuracy: 0.0000e+00 - val_loss: 42.3252 - val_accuracy: 0.0000e+00\n",
            "Epoch 59/100\n",
            "6/6 [==============================] - 0s 10ms/step - loss: 27.4208 - accuracy: 0.0000e+00 - val_loss: 25.5715 - val_accuracy: 0.0000e+00\n",
            "Epoch 60/100\n",
            "6/6 [==============================] - 0s 13ms/step - loss: 28.6566 - accuracy: 0.0000e+00 - val_loss: 42.9376 - val_accuracy: 0.0000e+00\n",
            "Epoch 61/100\n",
            "6/6 [==============================] - 0s 10ms/step - loss: 27.8044 - accuracy: 0.0000e+00 - val_loss: 29.0988 - val_accuracy: 0.0000e+00\n",
            "Epoch 62/100\n",
            "6/6 [==============================] - 0s 12ms/step - loss: 27.4263 - accuracy: 0.0000e+00 - val_loss: 26.8535 - val_accuracy: 0.0000e+00\n",
            "Epoch 63/100\n",
            "6/6 [==============================] - 0s 11ms/step - loss: 28.6119 - accuracy: 0.0000e+00 - val_loss: 39.0825 - val_accuracy: 0.0000e+00\n",
            "Epoch 64/100\n",
            "6/6 [==============================] - 0s 10ms/step - loss: 26.8933 - accuracy: 0.0000e+00 - val_loss: 26.6212 - val_accuracy: 0.0000e+00\n",
            "Epoch 65/100\n",
            "6/6 [==============================] - 0s 9ms/step - loss: 31.1106 - accuracy: 0.0000e+00 - val_loss: 37.7798 - val_accuracy: 0.0000e+00\n",
            "Epoch 66/100\n",
            "6/6 [==============================] - 0s 15ms/step - loss: 26.9276 - accuracy: 0.0000e+00 - val_loss: 37.4202 - val_accuracy: 0.0000e+00\n",
            "Epoch 67/100\n",
            "6/6 [==============================] - 0s 10ms/step - loss: 27.6664 - accuracy: 0.0000e+00 - val_loss: 35.5147 - val_accuracy: 0.0000e+00\n",
            "Epoch 68/100\n",
            "6/6 [==============================] - 0s 9ms/step - loss: 26.0322 - accuracy: 0.0000e+00 - val_loss: 36.2480 - val_accuracy: 0.0000e+00\n",
            "Epoch 69/100\n",
            "6/6 [==============================] - 0s 9ms/step - loss: 27.3139 - accuracy: 0.0000e+00 - val_loss: 26.2756 - val_accuracy: 0.0000e+00\n",
            "Epoch 70/100\n",
            "6/6 [==============================] - 0s 9ms/step - loss: 25.7998 - accuracy: 0.0000e+00 - val_loss: 28.9467 - val_accuracy: 0.0000e+00\n",
            "Epoch 71/100\n",
            "6/6 [==============================] - 0s 9ms/step - loss: 25.4305 - accuracy: 0.0000e+00 - val_loss: 39.9318 - val_accuracy: 0.0000e+00\n",
            "Epoch 72/100\n",
            "6/6 [==============================] - 0s 9ms/step - loss: 26.7439 - accuracy: 0.0000e+00 - val_loss: 25.9836 - val_accuracy: 0.0000e+00\n",
            "Epoch 73/100\n",
            "6/6 [==============================] - 0s 9ms/step - loss: 25.4040 - accuracy: 0.0000e+00 - val_loss: 31.2066 - val_accuracy: 0.0000e+00\n",
            "Epoch 74/100\n",
            "6/6 [==============================] - 0s 12ms/step - loss: 25.1280 - accuracy: 0.0000e+00 - val_loss: 33.2438 - val_accuracy: 0.0000e+00\n",
            "Epoch 75/100\n",
            "6/6 [==============================] - 0s 10ms/step - loss: 25.7942 - accuracy: 0.0000e+00 - val_loss: 33.8151 - val_accuracy: 0.0000e+00\n",
            "Epoch 76/100\n",
            "6/6 [==============================] - 0s 8ms/step - loss: 25.0184 - accuracy: 0.0000e+00 - val_loss: 26.0369 - val_accuracy: 0.0000e+00\n",
            "Epoch 77/100\n",
            "6/6 [==============================] - 0s 9ms/step - loss: 24.6556 - accuracy: 0.0000e+00 - val_loss: 27.7516 - val_accuracy: 0.0000e+00\n",
            "Epoch 78/100\n",
            "6/6 [==============================] - 0s 9ms/step - loss: 25.1737 - accuracy: 0.0000e+00 - val_loss: 28.8710 - val_accuracy: 0.0000e+00\n",
            "Epoch 79/100\n",
            "6/6 [==============================] - 0s 9ms/step - loss: 25.8301 - accuracy: 0.0000e+00 - val_loss: 24.1389 - val_accuracy: 0.0000e+00\n",
            "Epoch 80/100\n",
            "6/6 [==============================] - 0s 9ms/step - loss: 25.3407 - accuracy: 0.0000e+00 - val_loss: 33.9992 - val_accuracy: 0.0000e+00\n",
            "Epoch 81/100\n",
            "6/6 [==============================] - 0s 9ms/step - loss: 26.7797 - accuracy: 0.0000e+00 - val_loss: 48.9047 - val_accuracy: 0.0000e+00\n",
            "Epoch 82/100\n",
            "6/6 [==============================] - 0s 12ms/step - loss: 25.7771 - accuracy: 0.0000e+00 - val_loss: 21.8324 - val_accuracy: 0.0000e+00\n",
            "Epoch 83/100\n",
            "6/6 [==============================] - 0s 14ms/step - loss: 23.7451 - accuracy: 0.0000e+00 - val_loss: 31.1532 - val_accuracy: 0.0000e+00\n",
            "Epoch 84/100\n",
            "6/6 [==============================] - 0s 8ms/step - loss: 23.9201 - accuracy: 0.0000e+00 - val_loss: 24.1043 - val_accuracy: 0.0000e+00\n",
            "Epoch 85/100\n",
            "6/6 [==============================] - 0s 9ms/step - loss: 24.1119 - accuracy: 0.0000e+00 - val_loss: 25.5700 - val_accuracy: 0.0000e+00\n",
            "Epoch 86/100\n",
            "6/6 [==============================] - 0s 9ms/step - loss: 24.3387 - accuracy: 0.0000e+00 - val_loss: 23.2465 - val_accuracy: 0.0000e+00\n",
            "Epoch 87/100\n",
            "6/6 [==============================] - 0s 11ms/step - loss: 26.4945 - accuracy: 0.0000e+00 - val_loss: 35.3578 - val_accuracy: 0.0000e+00\n",
            "Epoch 88/100\n",
            "6/6 [==============================] - 0s 8ms/step - loss: 25.9729 - accuracy: 0.0000e+00 - val_loss: 57.8564 - val_accuracy: 0.0000e+00\n",
            "Epoch 89/100\n",
            "6/6 [==============================] - 0s 9ms/step - loss: 29.3834 - accuracy: 0.0000e+00 - val_loss: 23.5547 - val_accuracy: 0.0000e+00\n",
            "Epoch 90/100\n",
            "6/6 [==============================] - 0s 9ms/step - loss: 23.7174 - accuracy: 0.0000e+00 - val_loss: 23.0643 - val_accuracy: 0.0000e+00\n",
            "Epoch 91/100\n",
            "6/6 [==============================] - 0s 11ms/step - loss: 23.1743 - accuracy: 0.0000e+00 - val_loss: 24.3422 - val_accuracy: 0.0000e+00\n",
            "Epoch 92/100\n",
            "6/6 [==============================] - 0s 13ms/step - loss: 23.2171 - accuracy: 0.0000e+00 - val_loss: 22.8795 - val_accuracy: 0.0000e+00\n",
            "Epoch 93/100\n",
            "6/6 [==============================] - 0s 9ms/step - loss: 23.6520 - accuracy: 0.0000e+00 - val_loss: 41.5671 - val_accuracy: 0.0000e+00\n",
            "Epoch 94/100\n",
            "6/6 [==============================] - 0s 9ms/step - loss: 27.6685 - accuracy: 0.0000e+00 - val_loss: 34.5015 - val_accuracy: 0.0000e+00\n",
            "Epoch 95/100\n",
            "6/6 [==============================] - 0s 9ms/step - loss: 24.0621 - accuracy: 0.0000e+00 - val_loss: 30.0859 - val_accuracy: 0.0000e+00\n",
            "Epoch 96/100\n",
            "6/6 [==============================] - 0s 9ms/step - loss: 23.2461 - accuracy: 0.0000e+00 - val_loss: 20.4153 - val_accuracy: 0.0000e+00\n",
            "Epoch 97/100\n",
            "6/6 [==============================] - 0s 13ms/step - loss: 25.1287 - accuracy: 0.0000e+00 - val_loss: 20.8350 - val_accuracy: 0.0000e+00\n",
            "Epoch 98/100\n",
            "6/6 [==============================] - 0s 9ms/step - loss: 23.0258 - accuracy: 0.0000e+00 - val_loss: 26.6170 - val_accuracy: 0.0000e+00\n",
            "Epoch 99/100\n",
            "6/6 [==============================] - 0s 13ms/step - loss: 22.3860 - accuracy: 0.0000e+00 - val_loss: 22.1611 - val_accuracy: 0.0000e+00\n",
            "Epoch 100/100\n",
            "6/6 [==============================] - 0s 9ms/step - loss: 23.2756 - accuracy: 0.0000e+00 - val_loss: 24.3436 - val_accuracy: 0.0000e+00\n",
            "dict_keys(['loss', 'accuracy', 'val_loss', 'val_accuracy'])\n"
          ]
        }
      ]
    },
    {
      "cell_type": "code",
      "source": [
        "# Plot training & validation loss values\n",
        "plt.plot(history.history['loss'])\n",
        "plt.plot(history.history['val_loss'])\n",
        "plt.title('Model loss')\n",
        "plt.ylabel('Loss-MSE')\n",
        "plt.xlabel('Epoch')\n",
        "plt.legend(['Train', 'Validation'], loc='upper right')\n",
        "plt.show()\n"
      ],
      "metadata": {
        "id": "Kn8qXXvIUTco",
        "outputId": "63425432-2a71-41f5-8e86-fb3f22522c77",
        "colab": {
          "base_uri": "https://localhost:8080/",
          "height": 295
        }
      },
      "execution_count": 215,
      "outputs": [
        {
          "output_type": "display_data",
          "data": {
            "text/plain": [
              "<Figure size 432x288 with 1 Axes>"
            ],
            "image/png": "[encoded data removed]"
          },
          "metadata": {
            "needs_background": "light"
          }
        }
      ]
    },
    {
      "cell_type": "markdown",
      "source": [
        "### **Plot the predicted vs actual values for test/train/validation set**"
      ],
      "metadata": {
        "id": "rCgyqMQXSdu4"
      }
    },
    {
      "cell_type": "code",
      "source": [
        "import matplotlib.pyplot as plt\n",
        "from sklearn.metrics import r2_score\n",
        "# Plot validation set\n",
        "fig, (ax1, ax2, ax3) = plt.subplots(1, 3, figsize=(15, 5))\n",
        "y_pred =  model.predict(X_test)\n",
        "# Plot test set\n",
        "ax1.scatter(y_test, y_pred)\n",
        "ax1.plot([0,60], [0,60], 'r--')\n",
        "ax1.set_xlabel('Actual values')\n",
        "ax1.set_ylabel('Predicted values')\n",
        "ax1.set_title('Test: R-squared value: {:.2f}'.format(round(r2_score(y_test, y_pred), 2)))\n",
        "\n",
        "# Make predictions on the training set\n",
        "y_train_pred = model.predict(X_train)\n",
        "# Plot training set\n",
        "ax2.scatter(y_train, y_train_pred)\n",
        "ax2.plot([0,60], [0,60], 'r--')\n",
        "ax2.set_xlabel('Actual values')\n",
        "ax2.set_ylabel('Predicted values')\n",
        "ax2.set_title('Training: R-squared value: {:.2f}'.format(round(r2_score(y_train, y_train_pred), 2)))\n",
        "\n",
        "# Make predictions on the validation set\n",
        "y_val_pred = model.predict(X_val)\n",
        "# Plot validation set\n",
        "ax3.scatter(y_val, y_val_pred)\n",
        "ax3.plot([0,60], [0,60], 'r--')\n",
        "ax3.set_xlabel('Actual values')\n",
        "ax3.set_ylabel('Predicted values')\n",
        "ax3.set_title('Validation: R-squared value: {:.2f}'.format(round(r2_score(y_val, y_val_pred), 2)))\n",
        "\n",
        "plt.suptitle(\"Result for test/train/validation ratio = 70/20/10\", fontsize= 15, fontweight= \"bold\")\n",
        "plt.show()\n"
      ],
      "metadata": {
        "id": "81YJCwhXM1ZM",
        "outputId": "13992466-9f16-47da-dc6e-295ae465993e",
        "colab": {
          "base_uri": "https://localhost:8080/",
          "height": 425
        }
      },
      "execution_count": 176,
      "outputs": [
        {
          "output_type": "stream",
          "name": "stdout",
          "text": [
            "2/2 [==============================] - 0s 14ms/step\n",
            "6/6 [==============================] - 0s 3ms/step\n",
            "1/1 [==============================] - 0s 38ms/step\n"
          ]
        },
        {
          "output_type": "display_data",
          "data": {
            "text/plain": [
              "<Figure size 1080x360 with 3 Axes>"
            ],
            "image/png": "[encoded data removed]"
          },
          "metadata": {
            "needs_background": "light"
          }
        }
      ]
    },
    {
      "cell_type": "markdown",
      "source": [
        "**Training/Test/Validation =60/20/20**"
      ],
      "metadata": {
        "id": "fqcgtXKyQnav"
      }
    },
    {
      "cell_type": "code",
      "source": [
        "from sklearn.model_selection import train_test_split\n",
        "\n",
        "# Split the original data into training and test sets (80:20)\n",
        "X_train, X_test, y_train, y_test = train_test_split(X, y, test_size=0.2, random_state=42)\n",
        "\n",
        "# Split the training set into training and validation sets (75:25)\n",
        "X_train, X_val, y_train, y_val = train_test_split(X_train, y_train, test_size=0.25, random_state=42)\n"
      ],
      "metadata": {
        "id": "mP7_rNH8Qmsw"
      },
      "execution_count": null,
      "outputs": []
    },
    {
      "cell_type": "code",
      "source": [
        "model.compile(optimizer=Adam(learning_rate=0.01), loss='mse', metrics=['accuracy'])\n",
        "history = model.fit(X_train, y_train, epochs=100, batch_size=32, validation_data=(X_val, y_val), verbose=1, shuffle=1)\n",
        "print(history.history.keys())\n"
      ],
      "metadata": {
        "id": "bwBwrmYLYnBE",
        "outputId": "6130b656-56a0-40ab-9322-19240f8e74d9",
        "colab": {
          "base_uri": "https://localhost:8080/"
        }
      },
      "execution_count": 216,
      "outputs": [
        {
          "output_type": "stream",
          "name": "stdout",
          "text": [
            "Epoch 1/100\n",
            "6/6 [==============================] - 2s 65ms/step - loss: 60.8584 - accuracy: 0.0000e+00 - val_loss: 40.8630 - val_accuracy: 0.0000e+00\n",
            "Epoch 2/100\n",
            "6/6 [==============================] - 0s 14ms/step - loss: 41.5602 - accuracy: 0.0000e+00 - val_loss: 20.0752 - val_accuracy: 0.0000e+00\n",
            "Epoch 3/100\n",
            "6/6 [==============================] - 0s 14ms/step - loss: 29.8206 - accuracy: 0.0000e+00 - val_loss: 28.1977 - val_accuracy: 0.0000e+00\n",
            "Epoch 4/100\n",
            "6/6 [==============================] - 0s 14ms/step - loss: 26.6071 - accuracy: 0.0000e+00 - val_loss: 18.6079 - val_accuracy: 0.0000e+00\n",
            "Epoch 5/100\n",
            "6/6 [==============================] - 0s 23ms/step - loss: 24.7306 - accuracy: 0.0000e+00 - val_loss: 28.1289 - val_accuracy: 0.0000e+00\n",
            "Epoch 6/100\n",
            "6/6 [==============================] - 0s 19ms/step - loss: 23.8173 - accuracy: 0.0000e+00 - val_loss: 20.5847 - val_accuracy: 0.0000e+00\n",
            "Epoch 7/100\n",
            "6/6 [==============================] - 0s 14ms/step - loss: 24.1901 - accuracy: 0.0000e+00 - val_loss: 20.3349 - val_accuracy: 0.0000e+00\n",
            "Epoch 8/100\n",
            "6/6 [==============================] - 0s 13ms/step - loss: 28.3223 - accuracy: 0.0000e+00 - val_loss: 38.7664 - val_accuracy: 0.0000e+00\n",
            "Epoch 9/100\n",
            "6/6 [==============================] - 0s 18ms/step - loss: 31.4320 - accuracy: 0.0000e+00 - val_loss: 19.9784 - val_accuracy: 0.0000e+00\n",
            "Epoch 10/100\n",
            "6/6 [==============================] - 0s 20ms/step - loss: 29.0367 - accuracy: 0.0000e+00 - val_loss: 44.6637 - val_accuracy: 0.0000e+00\n",
            "Epoch 11/100\n",
            "6/6 [==============================] - 0s 14ms/step - loss: 28.8884 - accuracy: 0.0000e+00 - val_loss: 19.0570 - val_accuracy: 0.0000e+00\n",
            "Epoch 12/100\n",
            "6/6 [==============================] - 0s 10ms/step - loss: 29.1638 - accuracy: 0.0000e+00 - val_loss: 32.1681 - val_accuracy: 0.0000e+00\n",
            "Epoch 13/100\n",
            "6/6 [==============================] - 0s 11ms/step - loss: 24.0042 - accuracy: 0.0000e+00 - val_loss: 18.5487 - val_accuracy: 0.0000e+00\n",
            "Epoch 14/100\n",
            "6/6 [==============================] - 0s 13ms/step - loss: 23.3244 - accuracy: 0.0000e+00 - val_loss: 25.5666 - val_accuracy: 0.0000e+00\n",
            "Epoch 15/100\n",
            "6/6 [==============================] - 0s 9ms/step - loss: 22.2252 - accuracy: 0.0000e+00 - val_loss: 21.3998 - val_accuracy: 0.0000e+00\n",
            "Epoch 16/100\n",
            "6/6 [==============================] - 0s 10ms/step - loss: 21.8636 - accuracy: 0.0000e+00 - val_loss: 24.0802 - val_accuracy: 0.0000e+00\n",
            "Epoch 17/100\n",
            "6/6 [==============================] - 0s 11ms/step - loss: 21.7623 - accuracy: 0.0000e+00 - val_loss: 22.4016 - val_accuracy: 0.0000e+00\n",
            "Epoch 18/100\n",
            "6/6 [==============================] - 0s 12ms/step - loss: 21.7914 - accuracy: 0.0000e+00 - val_loss: 20.8997 - val_accuracy: 0.0000e+00\n",
            "Epoch 19/100\n",
            "6/6 [==============================] - 0s 9ms/step - loss: 22.8423 - accuracy: 0.0000e+00 - val_loss: 18.6486 - val_accuracy: 0.0000e+00\n",
            "Epoch 20/100\n",
            "6/6 [==============================] - 0s 8ms/step - loss: 23.9903 - accuracy: 0.0000e+00 - val_loss: 47.1469 - val_accuracy: 0.0000e+00\n",
            "Epoch 21/100\n",
            "6/6 [==============================] - 0s 8ms/step - loss: 26.7010 - accuracy: 0.0000e+00 - val_loss: 18.1672 - val_accuracy: 0.0000e+00\n",
            "Epoch 22/100\n",
            "6/6 [==============================] - 0s 8ms/step - loss: 21.9789 - accuracy: 0.0000e+00 - val_loss: 26.7507 - val_accuracy: 0.0000e+00\n",
            "Epoch 23/100\n",
            "6/6 [==============================] - 0s 12ms/step - loss: 22.5837 - accuracy: 0.0000e+00 - val_loss: 22.8481 - val_accuracy: 0.0000e+00\n",
            "Epoch 24/100\n",
            "6/6 [==============================] - 0s 18ms/step - loss: 21.3076 - accuracy: 0.0000e+00 - val_loss: 21.6661 - val_accuracy: 0.0000e+00\n",
            "Epoch 25/100\n",
            "6/6 [==============================] - 0s 14ms/step - loss: 22.3687 - accuracy: 0.0000e+00 - val_loss: 30.5053 - val_accuracy: 0.0000e+00\n",
            "Epoch 26/100\n",
            "6/6 [==============================] - 0s 16ms/step - loss: 25.3683 - accuracy: 0.0000e+00 - val_loss: 20.7688 - val_accuracy: 0.0000e+00\n",
            "Epoch 27/100\n",
            "6/6 [==============================] - 0s 16ms/step - loss: 22.1776 - accuracy: 0.0000e+00 - val_loss: 17.3293 - val_accuracy: 0.0000e+00\n",
            "Epoch 28/100\n",
            "6/6 [==============================] - 0s 23ms/step - loss: 23.0292 - accuracy: 0.0000e+00 - val_loss: 37.9150 - val_accuracy: 0.0000e+00\n",
            "Epoch 29/100\n",
            "6/6 [==============================] - 0s 17ms/step - loss: 23.6123 - accuracy: 0.0000e+00 - val_loss: 18.6344 - val_accuracy: 0.0000e+00\n",
            "Epoch 30/100\n",
            "6/6 [==============================] - 0s 19ms/step - loss: 25.4025 - accuracy: 0.0000e+00 - val_loss: 18.1702 - val_accuracy: 0.0000e+00\n",
            "Epoch 31/100\n",
            "6/6 [==============================] - 0s 19ms/step - loss: 24.7216 - accuracy: 0.0000e+00 - val_loss: 37.3895 - val_accuracy: 0.0000e+00\n",
            "Epoch 32/100\n",
            "6/6 [==============================] - 0s 23ms/step - loss: 25.1575 - accuracy: 0.0000e+00 - val_loss: 20.0490 - val_accuracy: 0.0000e+00\n",
            "Epoch 33/100\n",
            "6/6 [==============================] - 0s 18ms/step - loss: 22.1388 - accuracy: 0.0000e+00 - val_loss: 17.8448 - val_accuracy: 0.0000e+00\n",
            "Epoch 34/100\n",
            "6/6 [==============================] - 0s 18ms/step - loss: 21.7421 - accuracy: 0.0000e+00 - val_loss: 18.5673 - val_accuracy: 0.0000e+00\n",
            "Epoch 35/100\n",
            "6/6 [==============================] - 0s 23ms/step - loss: 21.3642 - accuracy: 0.0000e+00 - val_loss: 21.2044 - val_accuracy: 0.0000e+00\n",
            "Epoch 36/100\n",
            "6/6 [==============================] - 0s 17ms/step - loss: 20.8526 - accuracy: 0.0000e+00 - val_loss: 19.9199 - val_accuracy: 0.0000e+00\n",
            "Epoch 37/100\n",
            "6/6 [==============================] - 0s 18ms/step - loss: 20.5184 - accuracy: 0.0000e+00 - val_loss: 22.2758 - val_accuracy: 0.0000e+00\n",
            "Epoch 38/100\n",
            "6/6 [==============================] - 0s 29ms/step - loss: 20.8272 - accuracy: 0.0000e+00 - val_loss: 18.3986 - val_accuracy: 0.0000e+00\n",
            "Epoch 39/100\n",
            "6/6 [==============================] - 0s 17ms/step - loss: 21.5272 - accuracy: 0.0000e+00 - val_loss: 24.2298 - val_accuracy: 0.0000e+00\n",
            "Epoch 40/100\n",
            "6/6 [==============================] - 0s 18ms/step - loss: 21.5101 - accuracy: 0.0000e+00 - val_loss: 25.5586 - val_accuracy: 0.0000e+00\n",
            "Epoch 41/100\n",
            "6/6 [==============================] - 0s 19ms/step - loss: 22.3373 - accuracy: 0.0000e+00 - val_loss: 17.1089 - val_accuracy: 0.0000e+00\n",
            "Epoch 42/100\n",
            "6/6 [==============================] - 0s 18ms/step - loss: 21.9416 - accuracy: 0.0000e+00 - val_loss: 20.4848 - val_accuracy: 0.0000e+00\n",
            "Epoch 43/100\n",
            "6/6 [==============================] - 0s 20ms/step - loss: 20.9021 - accuracy: 0.0000e+00 - val_loss: 33.2221 - val_accuracy: 0.0000e+00\n",
            "Epoch 44/100\n",
            "6/6 [==============================] - 0s 10ms/step - loss: 25.6974 - accuracy: 0.0000e+00 - val_loss: 22.0764 - val_accuracy: 0.0000e+00\n",
            "Epoch 45/100\n",
            "6/6 [==============================] - 0s 10ms/step - loss: 22.7660 - accuracy: 0.0000e+00 - val_loss: 17.1013 - val_accuracy: 0.0000e+00\n",
            "Epoch 46/100\n",
            "6/6 [==============================] - 0s 12ms/step - loss: 20.5681 - accuracy: 0.0000e+00 - val_loss: 24.9072 - val_accuracy: 0.0000e+00\n",
            "Epoch 47/100\n",
            "6/6 [==============================] - 0s 13ms/step - loss: 20.6462 - accuracy: 0.0000e+00 - val_loss: 20.0296 - val_accuracy: 0.0000e+00\n",
            "Epoch 48/100\n",
            "6/6 [==============================] - 0s 16ms/step - loss: 20.8551 - accuracy: 0.0000e+00 - val_loss: 16.9507 - val_accuracy: 0.0000e+00\n",
            "Epoch 49/100\n",
            "6/6 [==============================] - 0s 11ms/step - loss: 22.0161 - accuracy: 0.0000e+00 - val_loss: 18.7276 - val_accuracy: 0.0000e+00\n",
            "Epoch 50/100\n",
            "6/6 [==============================] - 0s 11ms/step - loss: 23.0525 - accuracy: 0.0000e+00 - val_loss: 22.3929 - val_accuracy: 0.0000e+00\n",
            "Epoch 51/100\n",
            "6/6 [==============================] - 0s 10ms/step - loss: 20.5278 - accuracy: 0.0000e+00 - val_loss: 21.5784 - val_accuracy: 0.0000e+00\n",
            "Epoch 52/100\n",
            "6/6 [==============================] - 0s 12ms/step - loss: 20.5441 - accuracy: 0.0000e+00 - val_loss: 17.3459 - val_accuracy: 0.0000e+00\n",
            "Epoch 53/100\n",
            "6/6 [==============================] - 0s 11ms/step - loss: 24.5508 - accuracy: 0.0000e+00 - val_loss: 18.6859 - val_accuracy: 0.0000e+00\n",
            "Epoch 54/100\n",
            "6/6 [==============================] - 0s 14ms/step - loss: 24.9695 - accuracy: 0.0000e+00 - val_loss: 47.5768 - val_accuracy: 0.0000e+00\n",
            "Epoch 55/100\n",
            "6/6 [==============================] - 0s 14ms/step - loss: 27.6974 - accuracy: 0.0000e+00 - val_loss: 16.5111 - val_accuracy: 0.0000e+00\n",
            "Epoch 56/100\n",
            "6/6 [==============================] - 0s 12ms/step - loss: 25.6433 - accuracy: 0.0000e+00 - val_loss: 16.9128 - val_accuracy: 0.0000e+00\n",
            "Epoch 57/100\n",
            "6/6 [==============================] - 0s 10ms/step - loss: 24.7065 - accuracy: 0.0000e+00 - val_loss: 20.7578 - val_accuracy: 0.0000e+00\n",
            "Epoch 58/100\n",
            "6/6 [==============================] - 0s 15ms/step - loss: 25.7968 - accuracy: 0.0000e+00 - val_loss: 40.0497 - val_accuracy: 0.0000e+00\n",
            "Epoch 59/100\n",
            "6/6 [==============================] - 0s 14ms/step - loss: 26.6611 - accuracy: 0.0000e+00 - val_loss: 17.7926 - val_accuracy: 0.0000e+00\n",
            "Epoch 60/100\n",
            "6/6 [==============================] - 0s 13ms/step - loss: 21.6090 - accuracy: 0.0000e+00 - val_loss: 19.0312 - val_accuracy: 0.0000e+00\n",
            "Epoch 61/100\n",
            "6/6 [==============================] - 0s 11ms/step - loss: 22.5543 - accuracy: 0.0000e+00 - val_loss: 27.6911 - val_accuracy: 0.0000e+00\n",
            "Epoch 62/100\n",
            "6/6 [==============================] - 0s 9ms/step - loss: 21.7289 - accuracy: 0.0000e+00 - val_loss: 21.3374 - val_accuracy: 0.0000e+00\n",
            "Epoch 63/100\n",
            "6/6 [==============================] - 0s 9ms/step - loss: 20.5118 - accuracy: 0.0000e+00 - val_loss: 24.1315 - val_accuracy: 0.0000e+00\n",
            "Epoch 64/100\n",
            "6/6 [==============================] - 0s 8ms/step - loss: 20.3801 - accuracy: 0.0000e+00 - val_loss: 23.4465 - val_accuracy: 0.0000e+00\n",
            "Epoch 65/100\n",
            "6/6 [==============================] - 0s 9ms/step - loss: 20.7765 - accuracy: 0.0000e+00 - val_loss: 20.1482 - val_accuracy: 0.0000e+00\n",
            "Epoch 66/100\n",
            "6/6 [==============================] - 0s 9ms/step - loss: 21.4342 - accuracy: 0.0000e+00 - val_loss: 18.3096 - val_accuracy: 0.0000e+00\n",
            "Epoch 67/100\n",
            "6/6 [==============================] - 0s 9ms/step - loss: 20.5955 - accuracy: 0.0000e+00 - val_loss: 22.0179 - val_accuracy: 0.0000e+00\n",
            "Epoch 68/100\n",
            "6/6 [==============================] - 0s 10ms/step - loss: 20.1367 - accuracy: 0.0000e+00 - val_loss: 21.3751 - val_accuracy: 0.0000e+00\n",
            "Epoch 69/100\n",
            "6/6 [==============================] - 0s 9ms/step - loss: 20.5128 - accuracy: 0.0000e+00 - val_loss: 18.6515 - val_accuracy: 0.0000e+00\n",
            "Epoch 70/100\n",
            "6/6 [==============================] - 0s 10ms/step - loss: 26.2074 - accuracy: 0.0000e+00 - val_loss: 17.7321 - val_accuracy: 0.0000e+00\n",
            "Epoch 71/100\n",
            "6/6 [==============================] - 0s 9ms/step - loss: 19.9433 - accuracy: 0.0000e+00 - val_loss: 19.9516 - val_accuracy: 0.0000e+00\n",
            "Epoch 72/100\n",
            "6/6 [==============================] - 0s 9ms/step - loss: 19.7333 - accuracy: 0.0000e+00 - val_loss: 16.3793 - val_accuracy: 0.0000e+00\n",
            "Epoch 73/100\n",
            "6/6 [==============================] - 0s 9ms/step - loss: 25.1630 - accuracy: 0.0000e+00 - val_loss: 31.1652 - val_accuracy: 0.0000e+00\n",
            "Epoch 74/100\n",
            "6/6 [==============================] - 0s 8ms/step - loss: 23.5890 - accuracy: 0.0000e+00 - val_loss: 27.2274 - val_accuracy: 0.0000e+00\n",
            "Epoch 75/100\n",
            "6/6 [==============================] - 0s 9ms/step - loss: 22.3176 - accuracy: 0.0000e+00 - val_loss: 16.1390 - val_accuracy: 0.0000e+00\n",
            "Epoch 76/100\n",
            "6/6 [==============================] - 0s 11ms/step - loss: 22.9762 - accuracy: 0.0000e+00 - val_loss: 16.3571 - val_accuracy: 0.0000e+00\n",
            "Epoch 77/100\n",
            "6/6 [==============================] - 0s 13ms/step - loss: 23.9546 - accuracy: 0.0000e+00 - val_loss: 23.0080 - val_accuracy: 0.0000e+00\n",
            "Epoch 78/100\n",
            "6/6 [==============================] - 0s 12ms/step - loss: 21.7538 - accuracy: 0.0000e+00 - val_loss: 35.6001 - val_accuracy: 0.0000e+00\n",
            "Epoch 79/100\n",
            "6/6 [==============================] - 0s 9ms/step - loss: 25.5552 - accuracy: 0.0000e+00 - val_loss: 17.9844 - val_accuracy: 0.0000e+00\n",
            "Epoch 80/100\n",
            "6/6 [==============================] - 0s 14ms/step - loss: 23.4480 - accuracy: 0.0000e+00 - val_loss: 17.9238 - val_accuracy: 0.0000e+00\n",
            "Epoch 81/100\n",
            "6/6 [==============================] - 0s 15ms/step - loss: 21.3957 - accuracy: 0.0000e+00 - val_loss: 23.5146 - val_accuracy: 0.0000e+00\n",
            "Epoch 82/100\n",
            "6/6 [==============================] - 0s 10ms/step - loss: 19.5737 - accuracy: 0.0000e+00 - val_loss: 22.9705 - val_accuracy: 0.0000e+00\n",
            "Epoch 83/100\n",
            "6/6 [==============================] - 0s 11ms/step - loss: 20.4302 - accuracy: 0.0000e+00 - val_loss: 21.3335 - val_accuracy: 0.0000e+00\n",
            "Epoch 84/100\n",
            "6/6 [==============================] - 0s 10ms/step - loss: 28.7886 - accuracy: 0.0000e+00 - val_loss: 18.0729 - val_accuracy: 0.0000e+00\n",
            "Epoch 85/100\n",
            "6/6 [==============================] - 0s 11ms/step - loss: 23.1485 - accuracy: 0.0000e+00 - val_loss: 38.2132 - val_accuracy: 0.0000e+00\n",
            "Epoch 86/100\n",
            "6/6 [==============================] - 0s 9ms/step - loss: 27.8508 - accuracy: 0.0000e+00 - val_loss: 26.5080 - val_accuracy: 0.0000e+00\n",
            "Epoch 87/100\n",
            "6/6 [==============================] - 0s 10ms/step - loss: 23.2894 - accuracy: 0.0000e+00 - val_loss: 16.9332 - val_accuracy: 0.0000e+00\n",
            "Epoch 88/100\n",
            "6/6 [==============================] - 0s 14ms/step - loss: 23.5212 - accuracy: 0.0000e+00 - val_loss: 22.3617 - val_accuracy: 0.0000e+00\n",
            "Epoch 89/100\n",
            "6/6 [==============================] - 0s 12ms/step - loss: 24.0194 - accuracy: 0.0000e+00 - val_loss: 33.2799 - val_accuracy: 0.0000e+00\n",
            "Epoch 90/100\n",
            "6/6 [==============================] - 0s 10ms/step - loss: 26.9953 - accuracy: 0.0000e+00 - val_loss: 20.5073 - val_accuracy: 0.0000e+00\n",
            "Epoch 91/100\n",
            "6/6 [==============================] - 0s 10ms/step - loss: 25.6845 - accuracy: 0.0000e+00 - val_loss: 17.7984 - val_accuracy: 0.0000e+00\n",
            "Epoch 92/100\n",
            "6/6 [==============================] - 0s 9ms/step - loss: 27.0518 - accuracy: 0.0000e+00 - val_loss: 23.4019 - val_accuracy: 0.0000e+00\n",
            "Epoch 93/100\n",
            "6/6 [==============================] - 0s 11ms/step - loss: 22.0515 - accuracy: 0.0000e+00 - val_loss: 25.6872 - val_accuracy: 0.0000e+00\n",
            "Epoch 94/100\n",
            "6/6 [==============================] - 0s 10ms/step - loss: 24.1375 - accuracy: 0.0000e+00 - val_loss: 17.7549 - val_accuracy: 0.0000e+00\n",
            "Epoch 95/100\n",
            "6/6 [==============================] - 0s 11ms/step - loss: 22.7476 - accuracy: 0.0000e+00 - val_loss: 25.4077 - val_accuracy: 0.0000e+00\n",
            "Epoch 96/100\n",
            "6/6 [==============================] - 0s 10ms/step - loss: 22.5603 - accuracy: 0.0000e+00 - val_loss: 28.9725 - val_accuracy: 0.0000e+00\n",
            "Epoch 97/100\n",
            "6/6 [==============================] - 0s 10ms/step - loss: 21.7593 - accuracy: 0.0000e+00 - val_loss: 18.7813 - val_accuracy: 0.0000e+00\n",
            "Epoch 98/100\n",
            "6/6 [==============================] - 0s 10ms/step - loss: 23.5627 - accuracy: 0.0000e+00 - val_loss: 21.8070 - val_accuracy: 0.0000e+00\n",
            "Epoch 99/100\n",
            "6/6 [==============================] - 0s 15ms/step - loss: 21.1228 - accuracy: 0.0000e+00 - val_loss: 27.1530 - val_accuracy: 0.0000e+00\n",
            "Epoch 100/100\n",
            "6/6 [==============================] - 0s 14ms/step - loss: 21.1749 - accuracy: 0.0000e+00 - val_loss: 21.2522 - val_accuracy: 0.0000e+00\n",
            "dict_keys(['loss', 'accuracy', 'val_loss', 'val_accuracy'])\n"
          ]
        }
      ]
    },
    {
      "cell_type": "code",
      "source": [
        "# Plot training & validation loss values\n",
        "plt.plot(history.history['loss'])\n",
        "plt.plot(history.history['val_loss'])\n",
        "plt.title('Model loss')\n",
        "plt.ylabel('Loss-MSE')\n",
        "plt.xlabel('Epoch')\n",
        "plt.legend(['Train', 'Validation'], loc='upper right')\n",
        "plt.show()\n"
      ],
      "metadata": {
        "id": "LXCJ-9p_Yrj8",
        "outputId": "7c86bda8-f831-4f91-e3d4-dbbbc20030a9",
        "colab": {
          "base_uri": "https://localhost:8080/",
          "height": 295
        }
      },
      "execution_count": 217,
      "outputs": [
        {
          "output_type": "display_data",
          "data": {
            "text/plain": [
              "<Figure size 432x288 with 1 Axes>"
            ],
            "image/png": "[encoded data removed]"
          },
          "metadata": {
            "needs_background": "light"
          }
        }
      ]
    },
    {
      "cell_type": "code",
      "source": [
        "import matplotlib.pyplot as plt\n",
        "from sklearn.metrics import r2_score\n",
        "# Plot validation set\n",
        "fig, (ax1, ax2, ax3) = plt.subplots(1, 3, figsize=(15, 5))\n",
        "y_pred =  model.predict(X_test)\n",
        "# Plot test set\n",
        "ax1.scatter(y_test, y_pred)\n",
        "ax1.plot([0,60], [0,60], 'r--')\n",
        "ax1.set_xlabel('Actual values')\n",
        "ax1.set_ylabel('Predicted values')\n",
        "ax1.set_title('Test: R-squared value: {:.2f}'.format(round(r2_score(y_test, y_pred), 2)))\n",
        "\n",
        "# Make predictions on the training set\n",
        "y_train_pred = model.predict(X_train)\n",
        "# Plot training set\n",
        "ax2.scatter(y_train, y_train_pred)\n",
        "ax2.plot([0,60], [0,60], 'r--')\n",
        "ax2.set_xlabel('Actual values')\n",
        "ax2.set_ylabel('Predicted values')\n",
        "ax2.set_title('Training: R-squared value: {:.2f}'.format(round(r2_score(y_train, y_train_pred), 2)))\n",
        "\n",
        "# Make predictions on the validation set\n",
        "y_val_pred = model.predict(X_val)\n",
        "# Plot validation set\n",
        "ax3.scatter(y_val, y_val_pred)\n",
        "ax3.plot([0,60], [0,60], 'r--')\n",
        "ax3.set_xlabel('Actual values')\n",
        "ax3.set_ylabel('Predicted values')\n",
        "ax3.set_title('Validation: R-squared value: {:.2f}'.format(round(r2_score(y_val, y_val_pred), 2)))\n",
        "\n",
        "plt.suptitle(\"Result for test/train/validation ratio = 60/20/20\", fontsize= 15, fontweight= \"bold\")\n",
        "plt.show()\n"
      ],
      "metadata": {
        "id": "KroTuUjWZSiG",
        "outputId": "23ec6e79-c423-4803-91b3-31919bd462bc",
        "colab": {
          "base_uri": "https://localhost:8080/",
          "height": 425
        }
      },
      "execution_count": 218,
      "outputs": [
        {
          "output_type": "stream",
          "name": "stdout",
          "text": [
            "2/2 [==============================] - 0s 6ms/step\n",
            "6/6 [==============================] - 0s 3ms/step\n",
            "1/1 [==============================] - 0s 41ms/step\n"
          ]
        },
        {
          "output_type": "display_data",
          "data": {
            "text/plain": [
              "<Figure size 1080x360 with 3 Axes>"
            ],
            "image/png": "[encoded data removed]"
          },
          "metadata": {
            "needs_background": "light"
          }
        }
      ]
    }
  ]
}