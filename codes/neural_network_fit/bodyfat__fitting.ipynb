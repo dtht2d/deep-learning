{
  "nbformat": 4,
  "nbformat_minor": 0,
  "metadata": {
    "colab": {
      "provenance": [],
      "mount_file_id": "https://github.com/dtht2d/deep-learning/blob/main/codes/neural_network_fit/bodyfat__fitting.ipynb",
      "authorship_tag": "ABX9TyMIfjH5C/vukYEMohq9J8PH",
      "include_colab_link": true
    },
    "kernelspec": {
      "name": "python3",
      "display_name": "Python 3"
    },
    "language_info": {
      "name": "python"
    }
  },
  "cells": [
    {
      "cell_type": "markdown",
      "metadata": {
        "id": "view-in-github",
        "colab_type": "text"
      },
      "source": [
        "<a href=\"https://colab.research.google.com/github/dtht2d/deep-learning/blob/main/codes/neural_network_fit/bodyfat__fitting.ipynb\" target=\"_parent\"><img src=\"https://colab.research.google.com/assets/colab-badge.svg\" alt=\"Open In Colab\"/></a>"
      ]
    },
    {
      "cell_type": "code",
      "source": [
        "%autosave 30"
      ],
      "metadata": {
        "colab": {
          "base_uri": "https://localhost:8080/",
          "height": 35
        },
        "id": "Q4x5QI4PlvVA",
        "outputId": "3d8784ed-c882-4219-ed59-e13825331fd0"
      },
      "execution_count": 1,
      "outputs": [
        {
          "output_type": "display_data",
          "data": {
            "application/javascript": [
              "IPython.notebook.set_autosave_interval(30000)"
            ]
          },
          "metadata": {}
        },
        {
          "output_type": "stream",
          "name": "stdout",
          "text": [
            "Autosaving every 30 seconds\n"
          ]
        }
      ]
    },
    {
      "cell_type": "markdown",
      "source": [
        "# **Objective**\n",
        "---\n",
        "- Create similarity **nftool** (MATLAB's Neural Network Toolbox) function in Python\n",
        "- We have data from a health clinic and our goal is to design a neural network that can predict the percentage of body fat of a person, based on 13 anatomical measurements. The dataset contains information from 252 individuals, with measurements for each of the 13 variables, as well as their corresponding percentage of body fat. The objective is to train a neural network to predict body fat percentage based on the input variables.\n",
        "- Observe the output by changing the training/validation/testing percentages and the number of neurons. "
      ],
      "metadata": {
        "id": "WriLcXvXcpF2"
      }
    },
    {
      "cell_type": "markdown",
      "source": [
        "## **1. Background**\n"
      ],
      "metadata": {
        "id": "40qXcIn_dl3n"
      }
    },
    {
      "cell_type": "markdown",
      "source": [
        "### **Neural Network Fitting Algorithm**\n",
        "A two-layer feed-forward network trained with Levenberg-Marquardt is a neural network architecture commonly used for solving regression problems. \n",
        "\n",
        "**Two-layer feed-forward neural network architecture:**\n",
        "  - The information flows in a single direction from the input layer to the output layer.\n",
        "  - There is one input layer, one output layer, and at least one hidden layer in between. The hidden layer(s) contain nodes that apply transformations to the input data, which are then fed forward to the output layer.\n",
        "\n",
        "- **Levenberg-Marquardt algorithm:**\n",
        "  - A popular optimization algorithm used to train neural networks by optimizing the weights and biases of the network.\n",
        "  - It is a combination of two other optimization algorithms: the Gauss-Newton algorithm and the Gradient Descent algorithm\n",
        "  - Particularly effective for training feed-forward neural networks with one or more hidden layers.\n",
        "  - For mathemtical equations reference: http://web.eecs.utk.edu/~mjr/ECE505/Miscellaneous/levmar.pdf\n"
      ],
      "metadata": {
        "id": "VdJfvfTogCsR"
      }
    },
    {
      "cell_type": "markdown",
      "source": [
        "## **2. Methods**\n"
      ],
      "metadata": {
        "id": "yT5pUWEKk7at"
      }
    },
    {
      "cell_type": "markdown",
      "source": [
        "### Install packages\n"
      ],
      "metadata": {
        "id": "a44Mm0dUmno0"
      }
    },
    {
      "cell_type": "code",
      "source": [
        "!pip install numpy"
      ],
      "metadata": {
        "colab": {
          "base_uri": "https://localhost:8080/"
        },
        "id": "y-XWfxfVoMni",
        "outputId": "60e42caa-d262-4ba8-b518-079a777719c3"
      },
      "execution_count": 10,
      "outputs": [
        {
          "output_type": "stream",
          "name": "stdout",
          "text": [
            "Looking in indexes: https://pypi.org/simple, https://us-python.pkg.dev/colab-wheels/public/simple/\n",
            "Requirement already satisfied: numpy in /usr/local/lib/python3.8/dist-packages (1.22.4)\n"
          ]
        }
      ]
    },
    {
      "cell_type": "code",
      "execution_count": 7,
      "metadata": {
        "id": "P_j9vbhjcFU4",
        "colab": {
          "base_uri": "https://localhost:8080/"
        },
        "outputId": "366f990f-2d55-4a6c-cd1e-0be7424e7c9f"
      },
      "outputs": [
        {
          "output_type": "stream",
          "name": "stdout",
          "text": [
            "Looking in indexes: https://pypi.org/simple, https://us-python.pkg.dev/colab-wheels/public/simple/\n",
            "Requirement already satisfied: pandas in /usr/local/lib/python3.8/dist-packages (1.3.5)\n",
            "Requirement already satisfied: python-dateutil>=2.7.3 in /usr/local/lib/python3.8/dist-packages (from pandas) (2.8.2)\n",
            "Requirement already satisfied: pytz>=2017.3 in /usr/local/lib/python3.8/dist-packages (from pandas) (2022.7.1)\n",
            "Requirement already satisfied: numpy>=1.17.3 in /usr/local/lib/python3.8/dist-packages (from pandas) (1.22.4)\n",
            "Requirement already satisfied: six>=1.5 in /usr/local/lib/python3.8/dist-packages (from python-dateutil>=2.7.3->pandas) (1.15.0)\n"
          ]
        }
      ],
      "source": [
        "!pip install pandas"
      ]
    },
    {
      "cell_type": "code",
      "source": [
        "!pip install matplotlib"
      ],
      "metadata": {
        "colab": {
          "base_uri": "https://localhost:8080/"
        },
        "id": "o6ZQaClDoGdo",
        "outputId": "d4b3f0b2-d569-4ac2-965f-aa10fe6986be"
      },
      "execution_count": 9,
      "outputs": [
        {
          "output_type": "stream",
          "name": "stdout",
          "text": [
            "Looking in indexes: https://pypi.org/simple, https://us-python.pkg.dev/colab-wheels/public/simple/\n",
            "Requirement already satisfied: matplotlib in /usr/local/lib/python3.8/dist-packages (3.5.3)\n",
            "Requirement already satisfied: fonttools>=4.22.0 in /usr/local/lib/python3.8/dist-packages (from matplotlib) (4.38.0)\n",
            "Requirement already satisfied: kiwisolver>=1.0.1 in /usr/local/lib/python3.8/dist-packages (from matplotlib) (1.4.4)\n",
            "Requirement already satisfied: pillow>=6.2.0 in /usr/local/lib/python3.8/dist-packages (from matplotlib) (8.4.0)\n",
            "Requirement already satisfied: packaging>=20.0 in /usr/local/lib/python3.8/dist-packages (from matplotlib) (23.0)\n",
            "Requirement already satisfied: cycler>=0.10 in /usr/local/lib/python3.8/dist-packages (from matplotlib) (0.11.0)\n",
            "Requirement already satisfied: numpy>=1.17 in /usr/local/lib/python3.8/dist-packages (from matplotlib) (1.22.4)\n",
            "Requirement already satisfied: python-dateutil>=2.7 in /usr/local/lib/python3.8/dist-packages (from matplotlib) (2.8.2)\n",
            "Requirement already satisfied: pyparsing>=2.2.1 in /usr/local/lib/python3.8/dist-packages (from matplotlib) (3.0.9)\n",
            "Requirement already satisfied: six>=1.5 in /usr/local/lib/python3.8/dist-packages (from python-dateutil>=2.7->matplotlib) (1.15.0)\n"
          ]
        }
      ]
    },
    {
      "cell_type": "code",
      "source": [
        "!pip install tensorflow"
      ],
      "metadata": {
        "colab": {
          "base_uri": "https://localhost:8080/"
        },
        "id": "lPKpt3SQn8S9",
        "outputId": "072c5f94-0d09-4432-8bf3-d6b8c635e3a7"
      },
      "execution_count": 8,
      "outputs": [
        {
          "output_type": "stream",
          "name": "stdout",
          "text": [
            "Looking in indexes: https://pypi.org/simple, https://us-python.pkg.dev/colab-wheels/public/simple/\n",
            "Requirement already satisfied: tensorflow in /usr/local/lib/python3.8/dist-packages (2.11.0)\n",
            "Requirement already satisfied: absl-py>=1.0.0 in /usr/local/lib/python3.8/dist-packages (from tensorflow) (1.4.0)\n",
            "Requirement already satisfied: setuptools in /usr/local/lib/python3.8/dist-packages (from tensorflow) (57.4.0)\n",
            "Requirement already satisfied: astunparse>=1.6.0 in /usr/local/lib/python3.8/dist-packages (from tensorflow) (1.6.3)\n",
            "Requirement already satisfied: keras<2.12,>=2.11.0 in /usr/local/lib/python3.8/dist-packages (from tensorflow) (2.11.0)\n",
            "Requirement already satisfied: tensorboard<2.12,>=2.11 in /usr/local/lib/python3.8/dist-packages (from tensorflow) (2.11.2)\n",
            "Requirement already satisfied: wrapt>=1.11.0 in /usr/local/lib/python3.8/dist-packages (from tensorflow) (1.14.1)\n",
            "Requirement already satisfied: six>=1.12.0 in /usr/local/lib/python3.8/dist-packages (from tensorflow) (1.15.0)\n",
            "Requirement already satisfied: flatbuffers>=2.0 in /usr/local/lib/python3.8/dist-packages (from tensorflow) (23.1.21)\n",
            "Requirement already satisfied: libclang>=13.0.0 in /usr/local/lib/python3.8/dist-packages (from tensorflow) (15.0.6.1)\n",
            "Requirement already satisfied: tensorflow-estimator<2.12,>=2.11.0 in /usr/local/lib/python3.8/dist-packages (from tensorflow) (2.11.0)\n",
            "Requirement already satisfied: tensorflow-io-gcs-filesystem>=0.23.1 in /usr/local/lib/python3.8/dist-packages (from tensorflow) (0.30.0)\n",
            "Requirement already satisfied: h5py>=2.9.0 in /usr/local/lib/python3.8/dist-packages (from tensorflow) (3.1.0)\n",
            "Requirement already satisfied: grpcio<2.0,>=1.24.3 in /usr/local/lib/python3.8/dist-packages (from tensorflow) (1.51.3)\n",
            "Requirement already satisfied: gast<=0.4.0,>=0.2.1 in /usr/local/lib/python3.8/dist-packages (from tensorflow) (0.4.0)\n",
            "Requirement already satisfied: termcolor>=1.1.0 in /usr/local/lib/python3.8/dist-packages (from tensorflow) (2.2.0)\n",
            "Requirement already satisfied: typing-extensions>=3.6.6 in /usr/local/lib/python3.8/dist-packages (from tensorflow) (4.5.0)\n",
            "Requirement already satisfied: google-pasta>=0.1.1 in /usr/local/lib/python3.8/dist-packages (from tensorflow) (0.2.0)\n",
            "Requirement already satisfied: numpy>=1.20 in /usr/local/lib/python3.8/dist-packages (from tensorflow) (1.22.4)\n",
            "Requirement already satisfied: packaging in /usr/local/lib/python3.8/dist-packages (from tensorflow) (23.0)\n",
            "Requirement already satisfied: opt-einsum>=2.3.2 in /usr/local/lib/python3.8/dist-packages (from tensorflow) (3.3.0)\n",
            "Requirement already satisfied: protobuf<3.20,>=3.9.2 in /usr/local/lib/python3.8/dist-packages (from tensorflow) (3.19.6)\n",
            "Requirement already satisfied: wheel<1.0,>=0.23.0 in /usr/local/lib/python3.8/dist-packages (from astunparse>=1.6.0->tensorflow) (0.38.4)\n",
            "Requirement already satisfied: markdown>=2.6.8 in /usr/local/lib/python3.8/dist-packages (from tensorboard<2.12,>=2.11->tensorflow) (3.4.1)\n",
            "Requirement already satisfied: tensorboard-plugin-wit>=1.6.0 in /usr/local/lib/python3.8/dist-packages (from tensorboard<2.12,>=2.11->tensorflow) (1.8.1)\n",
            "Requirement already satisfied: werkzeug>=1.0.1 in /usr/local/lib/python3.8/dist-packages (from tensorboard<2.12,>=2.11->tensorflow) (1.0.1)\n",
            "Requirement already satisfied: google-auth<3,>=1.6.3 in /usr/local/lib/python3.8/dist-packages (from tensorboard<2.12,>=2.11->tensorflow) (2.16.1)\n",
            "Requirement already satisfied: requests<3,>=2.21.0 in /usr/local/lib/python3.8/dist-packages (from tensorboard<2.12,>=2.11->tensorflow) (2.25.1)\n",
            "Requirement already satisfied: google-auth-oauthlib<0.5,>=0.4.1 in /usr/local/lib/python3.8/dist-packages (from tensorboard<2.12,>=2.11->tensorflow) (0.4.6)\n",
            "Requirement already satisfied: tensorboard-data-server<0.7.0,>=0.6.0 in /usr/local/lib/python3.8/dist-packages (from tensorboard<2.12,>=2.11->tensorflow) (0.6.1)\n",
            "Requirement already satisfied: cachetools<6.0,>=2.0.0 in /usr/local/lib/python3.8/dist-packages (from google-auth<3,>=1.6.3->tensorboard<2.12,>=2.11->tensorflow) (5.3.0)\n",
            "Requirement already satisfied: pyasn1-modules>=0.2.1 in /usr/local/lib/python3.8/dist-packages (from google-auth<3,>=1.6.3->tensorboard<2.12,>=2.11->tensorflow) (0.2.8)\n",
            "Requirement already satisfied: rsa<5,>=3.1.4 in /usr/local/lib/python3.8/dist-packages (from google-auth<3,>=1.6.3->tensorboard<2.12,>=2.11->tensorflow) (4.9)\n",
            "Requirement already satisfied: requests-oauthlib>=0.7.0 in /usr/local/lib/python3.8/dist-packages (from google-auth-oauthlib<0.5,>=0.4.1->tensorboard<2.12,>=2.11->tensorflow) (1.3.1)\n",
            "Requirement already satisfied: importlib-metadata>=4.4 in /usr/local/lib/python3.8/dist-packages (from markdown>=2.6.8->tensorboard<2.12,>=2.11->tensorflow) (6.0.0)\n",
            "Requirement already satisfied: chardet<5,>=3.0.2 in /usr/local/lib/python3.8/dist-packages (from requests<3,>=2.21.0->tensorboard<2.12,>=2.11->tensorflow) (4.0.0)\n",
            "Requirement already satisfied: urllib3<1.27,>=1.21.1 in /usr/local/lib/python3.8/dist-packages (from requests<3,>=2.21.0->tensorboard<2.12,>=2.11->tensorflow) (1.24.3)\n",
            "Requirement already satisfied: idna<3,>=2.5 in /usr/local/lib/python3.8/dist-packages (from requests<3,>=2.21.0->tensorboard<2.12,>=2.11->tensorflow) (2.10)\n",
            "Requirement already satisfied: certifi>=2017.4.17 in /usr/local/lib/python3.8/dist-packages (from requests<3,>=2.21.0->tensorboard<2.12,>=2.11->tensorflow) (2022.12.7)\n",
            "Requirement already satisfied: zipp>=0.5 in /usr/local/lib/python3.8/dist-packages (from importlib-metadata>=4.4->markdown>=2.6.8->tensorboard<2.12,>=2.11->tensorflow) (3.14.0)\n",
            "Requirement already satisfied: pyasn1<0.5.0,>=0.4.6 in /usr/local/lib/python3.8/dist-packages (from pyasn1-modules>=0.2.1->google-auth<3,>=1.6.3->tensorboard<2.12,>=2.11->tensorflow) (0.4.8)\n",
            "Requirement already satisfied: oauthlib>=3.0.0 in /usr/local/lib/python3.8/dist-packages (from requests-oauthlib>=0.7.0->google-auth-oauthlib<0.5,>=0.4.1->tensorboard<2.12,>=2.11->tensorflow) (3.2.2)\n"
          ]
        }
      ]
    },
    {
      "cell_type": "markdown",
      "source": [
        "### Import libraries"
      ],
      "metadata": {
        "id": "Jw2gEkNclIhq"
      }
    },
    {
      "cell_type": "code",
      "source": [
        "import pandas as pd\n",
        "import numpy as np\n",
        "import tensorflow as tf\n",
        "from tensorflow import keras\n",
        "import matplotlib.pyplot as plt"
      ],
      "metadata": {
        "id": "aTv4NsVUoB4Y"
      },
      "execution_count": 42,
      "outputs": []
    },
    {
      "cell_type": "code",
      "source": [
        "from google.colab import drive\n",
        "drive.mount('/content/drive')"
      ],
      "metadata": {
        "colab": {
          "base_uri": "https://localhost:8080/"
        },
        "id": "EFXmzbVtmra4",
        "outputId": "ae979087-edcf-434b-e193-cbf8bde1246c"
      },
      "execution_count": 6,
      "outputs": [
        {
          "output_type": "stream",
          "name": "stdout",
          "text": [
            "Mounted at /content/drive\n"
          ]
        }
      ]
    },
    {
      "cell_type": "code",
      "source": [
        "path = \"/content/bodyfat.csv\""
      ],
      "metadata": {
        "id": "-zJM3pxemnA5"
      },
      "execution_count": 11,
      "outputs": []
    },
    {
      "cell_type": "code",
      "source": [
        "df = pd.read_csv(path)\n",
        "print (df)"
      ],
      "metadata": {
        "colab": {
          "base_uri": "https://localhost:8080/"
        },
        "id": "vHsczgubosVG",
        "outputId": "14292b0d-cfd1-40c3-d3c8-ff9ebc6983fe"
      },
      "execution_count": 14,
      "outputs": [
        {
          "output_type": "stream",
          "name": "stdout",
          "text": [
            "     Density  BodyFat  Age  Weight  Height  Neck  Chest  Abdomen    Hip  \\\n",
            "0     1.0708     12.3   23  154.25   67.75  36.2   93.1     85.2   94.5   \n",
            "1     1.0853      6.1   22  173.25   72.25  38.5   93.6     83.0   98.7   \n",
            "2     1.0414     25.3   22  154.00   66.25  34.0   95.8     87.9   99.2   \n",
            "3     1.0751     10.4   26  184.75   72.25  37.4  101.8     86.4  101.2   \n",
            "4     1.0340     28.7   24  184.25   71.25  34.4   97.3    100.0  101.9   \n",
            "..       ...      ...  ...     ...     ...   ...    ...      ...    ...   \n",
            "247   1.0736     11.0   70  134.25   67.00  34.9   89.2     83.6   88.8   \n",
            "248   1.0236     33.6   72  201.00   69.75  40.9  108.5    105.0  104.5   \n",
            "249   1.0328     29.3   72  186.75   66.00  38.9  111.1    111.5  101.7   \n",
            "250   1.0399     26.0   72  190.75   70.50  38.9  108.3    101.3   97.8   \n",
            "251   1.0271     31.9   74  207.50   70.00  40.8  112.4    108.5  107.1   \n",
            "\n",
            "     Thigh  Knee  Ankle  Biceps  Forearm  Wrist  \n",
            "0     59.0  37.3   21.9    32.0     27.4   17.1  \n",
            "1     58.7  37.3   23.4    30.5     28.9   18.2  \n",
            "2     59.6  38.9   24.0    28.8     25.2   16.6  \n",
            "3     60.1  37.3   22.8    32.4     29.4   18.2  \n",
            "4     63.2  42.2   24.0    32.2     27.7   17.7  \n",
            "..     ...   ...    ...     ...      ...    ...  \n",
            "247   49.6  34.8   21.5    25.6     25.7   18.5  \n",
            "248   59.6  40.8   23.2    35.2     28.6   20.1  \n",
            "249   60.3  37.3   21.5    31.3     27.2   18.0  \n",
            "250   56.0  41.6   22.7    30.5     29.4   19.8  \n",
            "251   59.3  42.2   24.6    33.7     30.0   20.9  \n",
            "\n",
            "[252 rows x 15 columns]\n"
          ]
        }
      ]
    },
    {
      "cell_type": "markdown",
      "source": [
        "BodyFat\" is located in the third column of the dataset, with an index of [2]. To prepare the data for training a neural network to predict body fat percentage, we need to select the input features (denoted as \"X\") that will be used to make the predictions. To do this, we should choose all the features in the dataset except for the \"BodyFat\" column. "
      ],
      "metadata": {
        "id": "iLLWiFldqLj1"
      }
    },
    {
      "cell_type": "code",
      "source": [
        "X = df.iloc[:, 2:].to_numpy()\n",
        "y = df['BodyFat'].to_numpy()\n",
        "y = np.reshape(y, (-1, 1)) \n",
        "#print X to check features number and y length\n",
        "print(X.shape)\n",
        "print(y.shape)"
      ],
      "metadata": {
        "colab": {
          "base_uri": "https://localhost:8080/"
        },
        "id": "6ZVobOsZpxRY",
        "outputId": "912788df-0af0-4a4b-8c5f-78fee2821791"
      },
      "execution_count": 48,
      "outputs": [
        {
          "output_type": "stream",
          "name": "stdout",
          "text": [
            "(252, 13)\n",
            "(252, 1)\n"
          ]
        }
      ]
    },
    {
      "cell_type": "markdown",
      "source": [
        "### **Create Levenberg-Marquardt class function - Python**"
      ],
      "metadata": {
        "id": "VpxE4Jgl2Ck9"
      }
    },
    {
      "cell_type": "markdown",
      "source": [
        "Keras does not have built in support for for the Levenberg-Marquardt algorithm so we have to rewrite Levenberg-Marquardt optimizer class function"
      ],
      "metadata": {
        "id": "pywMoZz92R4F"
      }
    },
    {
      "cell_type": "code",
      "source": [
        "from tensorflow.keras.optimizers import Optimizer\n",
        "\n",
        "class LevenbergMarquardt(Optimizer):\n",
        "    \"\"\"Levenberg-Marquardt optimizer for TensorFlow.\n",
        "    The Levenberg-Marquardt algorithm is a method for solving non-linear least squares problems.\n",
        "    It is commonly used in machine learning for training neural networks.\n",
        "    \"\"\"\n",
        "    def __init__(self, learning_rate=0.01, mu=0.1, eps=1e-8, name=\"LevenbergMarquardt\", **kwargs):\n",
        "        super().__init__(name=name, **kwargs)\n",
        "        self._learning_rate = learning_rate\n",
        "        self.mu = mu\n",
        "        self.eps = eps\n",
        "\n",
        "    def _create_slots(self, var_list):\n",
        "        for var in var_list:\n",
        "            self.add_slot(var, 'g_squared')\n",
        "\n",
        "    def _resource_apply_dense(self, grad, var):\n",
        "        lr = self.learning_rate\n",
        "        mu = self.mu\n",
        "        eps = self.eps\n",
        "\n",
        "        g_squared = self.get_slot(var, 'g_squared')\n",
        "        g_squared_t = g_squared.assign_add(math_ops.square(grad))\n",
        "\n",
        "        update = lr * grad / (g_squared_t + mu)\n",
        "        var_update = var.assign_sub(update)\n",
        "\n",
        "        return ops.group(*[var_update, g_squared_t])\n",
        "\n",
        "    def _resource_apply_sparse(self, grad, var, indices):\n",
        "        raise NotImplementedError(\"Sparse gradient updates are not supported.\")\n",
        "\n",
        "    def get_config(self):\n",
        "        config = {\n",
        "            'learning_rate': self._learning_rate,\n",
        "            'mu': self.mu,\n",
        "            'eps': self.eps,\n",
        "        }\n",
        "        base_config = super().get_config()\n",
        "        return dict(list(base_config.items()) + list(config.items()))\n"
      ],
      "metadata": {
        "id": "qjSN8zLD2BBN"
      },
      "execution_count": 94,
      "outputs": []
    },
    {
      "cell_type": "markdown",
      "source": [
        "### **Define the neural network architecture**"
      ],
      "metadata": {
        "id": "m09Qwj9Xy4Tx"
      }
    },
    {
      "cell_type": "markdown",
      "source": [
        "- **First layer:** dense layer with 16 units, with input_shape set to (13,), which corresponds to the number of input features.\n",
        "- **Second layer:** dense layer with 8 units and a relu activation function.\n",
        "- **Third layer:** dense layer with 1 unit, which corresponds to the output of the neural network."
      ],
      "metadata": {
        "id": "Iw2Grymp1BTX"
      }
    },
    {
      "cell_type": "code",
      "source": [
        "from tensorflow.keras.models import Sequential\n",
        "from tensorflow.keras.layers import Dense\n",
        "\n",
        "model = Sequential()\n",
        "model.add(Dense(units=16, input_shape=(13,), activation='relu'))\n",
        "model.add(Dense(units=8, activation='relu'))\n",
        "model.add(Dense(units=1, activation='sigmoid'))\n",
        "\n",
        "# create an instance of the LevenbergMarquardt optimizer class\n",
        "lm_optimizer = LevenbergMarquardt(learning_rate=0.01, mu=0.1, eps=1e-8)\n"
      ],
      "metadata": {
        "id": "ER1UHWCczkA0"
      },
      "execution_count": 95,
      "outputs": []
    },
    {
      "cell_type": "markdown",
      "source": [
        "- **keras.layers.Dense:** This specifies that we want to add a dense layer to the model.\n",
        "- **units=16:** This sets the number of neurons in the layer to 16.\n",
        "- **input_shape=(13,):** This specifies the shape of the input to the layer. In this case, the input X has shape (252, 13), then the input shape in the Dense layer should be (13,), which matches the number of features in the input data.\n",
        "- **activation='relu':**This sets the activation function of the neurons in the layer to the rectified linear unit (ReLU) function. ReLU is a common activation function used in neural networks that is defined as max(0, x). It is often used in hidden layers because it is computationally efficient and helps prevent the vanishing gradient problem. \n"
      ],
      "metadata": {
        "id": "o7t0TLHazX6O"
      }
    },
    {
      "cell_type": "code",
      "source": [
        "\n",
        "\n",
        "# Compile the model\n",
        "model.compile(loss='mean_squared_error', optimizer='adam')\n",
        "\n",
        "# Train the model\n",
        "history = model.fit(X, y, epochs=100, batch_size=32, validation_split=0.2)\n",
        "\n",
        "# Plot the training and validation loss\n",
        "plt.plot(history.history['loss'])\n",
        "plt.plot(history.history['val_loss'])\n",
        "plt.title('Model loss')\n",
        "plt.ylabel('Loss')\n",
        "plt.xlabel('Epoch')\n",
        "plt.legend(['Train', 'Val'], loc='upper right')\n",
        "plt.show()"
      ],
      "metadata": {
        "id": "lr0JSMC9tle8",
        "outputId": "218446c0-4145-4c36-9552-b745a2b43bd2",
        "colab": {
          "base_uri": "https://localhost:8080/",
          "height": 1000
        }
      },
      "execution_count": 96,
      "outputs": [
        {
          "output_type": "stream",
          "name": "stdout",
          "text": [
            "Epoch 1/100\n",
            "7/7 [==============================] - 1s 32ms/step - loss: 376.1912 - val_loss: 489.9270\n",
            "Epoch 2/100\n",
            "7/7 [==============================] - 0s 8ms/step - loss: 376.1913 - val_loss: 489.9270\n",
            "Epoch 3/100\n",
            "7/7 [==============================] - 0s 7ms/step - loss: 376.1912 - val_loss: 489.9270\n",
            "Epoch 4/100\n",
            "7/7 [==============================] - 0s 8ms/step - loss: 376.1913 - val_loss: 489.9270\n",
            "Epoch 5/100\n",
            "7/7 [==============================] - 0s 8ms/step - loss: 376.1912 - val_loss: 489.9270\n",
            "Epoch 6/100\n",
            "7/7 [==============================] - 0s 10ms/step - loss: 376.1913 - val_loss: 489.9270\n",
            "Epoch 7/100\n",
            "7/7 [==============================] - 0s 14ms/step - loss: 376.1913 - val_loss: 489.9270\n",
            "Epoch 8/100\n",
            "7/7 [==============================] - 0s 15ms/step - loss: 376.1912 - val_loss: 489.9270\n",
            "Epoch 9/100\n",
            "7/7 [==============================] - 0s 15ms/step - loss: 376.1912 - val_loss: 489.9270\n",
            "Epoch 10/100\n",
            "7/7 [==============================] - 0s 15ms/step - loss: 376.1912 - val_loss: 489.9270\n",
            "Epoch 11/100\n",
            "7/7 [==============================] - 0s 13ms/step - loss: 376.1912 - val_loss: 489.9270\n",
            "Epoch 12/100\n",
            "7/7 [==============================] - 0s 13ms/step - loss: 376.1913 - val_loss: 489.9270\n",
            "Epoch 13/100\n",
            "7/7 [==============================] - 0s 13ms/step - loss: 376.1912 - val_loss: 489.9270\n",
            "Epoch 14/100\n",
            "7/7 [==============================] - 0s 11ms/step - loss: 376.1913 - val_loss: 489.9270\n",
            "Epoch 15/100\n",
            "7/7 [==============================] - 0s 11ms/step - loss: 376.1912 - val_loss: 489.9270\n",
            "Epoch 16/100\n",
            "7/7 [==============================] - 0s 12ms/step - loss: 376.1913 - val_loss: 489.9270\n",
            "Epoch 17/100\n",
            "7/7 [==============================] - 0s 11ms/step - loss: 376.1912 - val_loss: 489.9270\n",
            "Epoch 18/100\n",
            "7/7 [==============================] - 0s 11ms/step - loss: 376.1912 - val_loss: 489.9270\n",
            "Epoch 19/100\n",
            "7/7 [==============================] - 0s 10ms/step - loss: 376.1913 - val_loss: 489.9270\n",
            "Epoch 20/100\n",
            "7/7 [==============================] - 0s 13ms/step - loss: 376.1912 - val_loss: 489.9270\n",
            "Epoch 21/100\n",
            "7/7 [==============================] - 0s 11ms/step - loss: 376.1913 - val_loss: 489.9270\n",
            "Epoch 22/100\n",
            "7/7 [==============================] - 0s 12ms/step - loss: 376.1912 - val_loss: 489.9270\n",
            "Epoch 23/100\n",
            "7/7 [==============================] - 0s 15ms/step - loss: 376.1912 - val_loss: 489.9270\n",
            "Epoch 24/100\n",
            "7/7 [==============================] - 0s 12ms/step - loss: 376.1913 - val_loss: 489.9270\n",
            "Epoch 25/100\n",
            "7/7 [==============================] - 0s 14ms/step - loss: 376.1912 - val_loss: 489.9270\n",
            "Epoch 26/100\n",
            "7/7 [==============================] - 0s 12ms/step - loss: 376.1912 - val_loss: 489.9270\n",
            "Epoch 27/100\n",
            "7/7 [==============================] - 0s 12ms/step - loss: 376.1912 - val_loss: 489.9270\n",
            "Epoch 28/100\n",
            "7/7 [==============================] - 0s 15ms/step - loss: 376.1912 - val_loss: 489.9270\n",
            "Epoch 29/100\n",
            "7/7 [==============================] - 0s 15ms/step - loss: 376.1913 - val_loss: 489.9270\n",
            "Epoch 30/100\n",
            "7/7 [==============================] - 0s 12ms/step - loss: 376.1912 - val_loss: 489.9270\n",
            "Epoch 31/100\n",
            "7/7 [==============================] - 0s 14ms/step - loss: 376.1913 - val_loss: 489.9270\n",
            "Epoch 32/100\n",
            "7/7 [==============================] - 0s 14ms/step - loss: 376.1913 - val_loss: 489.9270\n",
            "Epoch 33/100\n",
            "7/7 [==============================] - 0s 14ms/step - loss: 376.1913 - val_loss: 489.9270\n",
            "Epoch 34/100\n",
            "7/7 [==============================] - 0s 12ms/step - loss: 376.1912 - val_loss: 489.9270\n",
            "Epoch 35/100\n",
            "7/7 [==============================] - 0s 11ms/step - loss: 376.1912 - val_loss: 489.9270\n",
            "Epoch 36/100\n",
            "7/7 [==============================] - 0s 13ms/step - loss: 376.1913 - val_loss: 489.9270\n",
            "Epoch 37/100\n",
            "7/7 [==============================] - 0s 16ms/step - loss: 376.1913 - val_loss: 489.9270\n",
            "Epoch 38/100\n",
            "7/7 [==============================] - 0s 17ms/step - loss: 376.1913 - val_loss: 489.9270\n",
            "Epoch 39/100\n",
            "7/7 [==============================] - 0s 11ms/step - loss: 376.1913 - val_loss: 489.9270\n",
            "Epoch 40/100\n",
            "7/7 [==============================] - 0s 14ms/step - loss: 376.1912 - val_loss: 489.9270\n",
            "Epoch 41/100\n",
            "7/7 [==============================] - 0s 12ms/step - loss: 376.1913 - val_loss: 489.9270\n",
            "Epoch 42/100\n",
            "7/7 [==============================] - 0s 15ms/step - loss: 376.1912 - val_loss: 489.9270\n",
            "Epoch 43/100\n",
            "7/7 [==============================] - 0s 19ms/step - loss: 376.1912 - val_loss: 489.9270\n",
            "Epoch 44/100\n",
            "7/7 [==============================] - 0s 15ms/step - loss: 376.1912 - val_loss: 489.9270\n",
            "Epoch 45/100\n",
            "7/7 [==============================] - 0s 13ms/step - loss: 376.1913 - val_loss: 489.9270\n",
            "Epoch 46/100\n",
            "7/7 [==============================] - 0s 10ms/step - loss: 376.1912 - val_loss: 489.9270\n",
            "Epoch 47/100\n",
            "7/7 [==============================] - 0s 11ms/step - loss: 376.1912 - val_loss: 489.9270\n",
            "Epoch 48/100\n",
            "7/7 [==============================] - 0s 11ms/step - loss: 376.1912 - val_loss: 489.9270\n",
            "Epoch 49/100\n",
            "7/7 [==============================] - 0s 12ms/step - loss: 376.1913 - val_loss: 489.9270\n",
            "Epoch 50/100\n",
            "7/7 [==============================] - 0s 13ms/step - loss: 376.1912 - val_loss: 489.9270\n",
            "Epoch 51/100\n",
            "7/7 [==============================] - 0s 12ms/step - loss: 376.1913 - val_loss: 489.9270\n",
            "Epoch 52/100\n",
            "7/7 [==============================] - 0s 13ms/step - loss: 376.1912 - val_loss: 489.9270\n",
            "Epoch 53/100\n",
            "7/7 [==============================] - 0s 14ms/step - loss: 376.1913 - val_loss: 489.9270\n",
            "Epoch 54/100\n",
            "7/7 [==============================] - 0s 12ms/step - loss: 376.1912 - val_loss: 489.9270\n",
            "Epoch 55/100\n",
            "7/7 [==============================] - 0s 12ms/step - loss: 376.1912 - val_loss: 489.9270\n",
            "Epoch 56/100\n",
            "7/7 [==============================] - 0s 15ms/step - loss: 376.1912 - val_loss: 489.9270\n",
            "Epoch 57/100\n",
            "7/7 [==============================] - 0s 14ms/step - loss: 376.1913 - val_loss: 489.9270\n",
            "Epoch 58/100\n",
            "7/7 [==============================] - 0s 14ms/step - loss: 376.1912 - val_loss: 489.9270\n",
            "Epoch 59/100\n",
            "7/7 [==============================] - 0s 16ms/step - loss: 376.1912 - val_loss: 489.9270\n",
            "Epoch 60/100\n",
            "7/7 [==============================] - 0s 14ms/step - loss: 376.1913 - val_loss: 489.9270\n",
            "Epoch 61/100\n",
            "7/7 [==============================] - 0s 12ms/step - loss: 376.1913 - val_loss: 489.9270\n",
            "Epoch 62/100\n",
            "7/7 [==============================] - 0s 15ms/step - loss: 376.1913 - val_loss: 489.9270\n",
            "Epoch 63/100\n",
            "7/7 [==============================] - 0s 13ms/step - loss: 376.1912 - val_loss: 489.9270\n",
            "Epoch 64/100\n",
            "7/7 [==============================] - 0s 12ms/step - loss: 376.1913 - val_loss: 489.9270\n",
            "Epoch 65/100\n",
            "7/7 [==============================] - 0s 13ms/step - loss: 376.1912 - val_loss: 489.9270\n",
            "Epoch 66/100\n",
            "7/7 [==============================] - 0s 17ms/step - loss: 376.1912 - val_loss: 489.9270\n",
            "Epoch 67/100\n",
            "7/7 [==============================] - 0s 19ms/step - loss: 376.1912 - val_loss: 489.9270\n",
            "Epoch 68/100\n",
            "7/7 [==============================] - 0s 15ms/step - loss: 376.1912 - val_loss: 489.9270\n",
            "Epoch 69/100\n",
            "7/7 [==============================] - 0s 15ms/step - loss: 376.1912 - val_loss: 489.9270\n",
            "Epoch 70/100\n",
            "7/7 [==============================] - 0s 13ms/step - loss: 376.1913 - val_loss: 489.9270\n",
            "Epoch 71/100\n",
            "7/7 [==============================] - 0s 13ms/step - loss: 376.1912 - val_loss: 489.9270\n",
            "Epoch 72/100\n",
            "7/7 [==============================] - 0s 16ms/step - loss: 376.1912 - val_loss: 489.9270\n",
            "Epoch 73/100\n",
            "7/7 [==============================] - 0s 14ms/step - loss: 376.1912 - val_loss: 489.9270\n",
            "Epoch 74/100\n",
            "7/7 [==============================] - 0s 12ms/step - loss: 376.1913 - val_loss: 489.9270\n",
            "Epoch 75/100\n",
            "7/7 [==============================] - 0s 10ms/step - loss: 376.1912 - val_loss: 489.9270\n",
            "Epoch 76/100\n",
            "7/7 [==============================] - 0s 9ms/step - loss: 376.1912 - val_loss: 489.9270\n",
            "Epoch 77/100\n",
            "7/7 [==============================] - 0s 12ms/step - loss: 376.1913 - val_loss: 489.9270\n",
            "Epoch 78/100\n",
            "7/7 [==============================] - 0s 8ms/step - loss: 376.1913 - val_loss: 489.9270\n",
            "Epoch 79/100\n",
            "7/7 [==============================] - 0s 10ms/step - loss: 376.1913 - val_loss: 489.9270\n",
            "Epoch 80/100\n",
            "7/7 [==============================] - 0s 12ms/step - loss: 376.1912 - val_loss: 489.9270\n",
            "Epoch 81/100\n",
            "7/7 [==============================] - 0s 12ms/step - loss: 376.1912 - val_loss: 489.9270\n",
            "Epoch 82/100\n",
            "7/7 [==============================] - 0s 8ms/step - loss: 376.1912 - val_loss: 489.9270\n",
            "Epoch 83/100\n",
            "7/7 [==============================] - 0s 8ms/step - loss: 376.1912 - val_loss: 489.9270\n",
            "Epoch 84/100\n",
            "7/7 [==============================] - 0s 9ms/step - loss: 376.1912 - val_loss: 489.9270\n",
            "Epoch 85/100\n",
            "7/7 [==============================] - 0s 12ms/step - loss: 376.1913 - val_loss: 489.9270\n",
            "Epoch 86/100\n",
            "7/7 [==============================] - 0s 12ms/step - loss: 376.1913 - val_loss: 489.9270\n",
            "Epoch 87/100\n",
            "7/7 [==============================] - 0s 9ms/step - loss: 376.1912 - val_loss: 489.9270\n",
            "Epoch 88/100\n",
            "7/7 [==============================] - 0s 9ms/step - loss: 376.1913 - val_loss: 489.9270\n",
            "Epoch 89/100\n",
            "7/7 [==============================] - 0s 9ms/step - loss: 376.1912 - val_loss: 489.9270\n",
            "Epoch 90/100\n",
            "7/7 [==============================] - 0s 11ms/step - loss: 376.1912 - val_loss: 489.9270\n",
            "Epoch 91/100\n",
            "7/7 [==============================] - 0s 9ms/step - loss: 376.1912 - val_loss: 489.9270\n",
            "Epoch 92/100\n",
            "7/7 [==============================] - 0s 9ms/step - loss: 376.1913 - val_loss: 489.9270\n",
            "Epoch 93/100\n",
            "7/7 [==============================] - 0s 10ms/step - loss: 376.1913 - val_loss: 489.9270\n",
            "Epoch 94/100\n",
            "7/7 [==============================] - 0s 9ms/step - loss: 376.1912 - val_loss: 489.9270\n",
            "Epoch 95/100\n",
            "7/7 [==============================] - 0s 9ms/step - loss: 376.1912 - val_loss: 489.9270\n",
            "Epoch 96/100\n",
            "7/7 [==============================] - 0s 10ms/step - loss: 376.1912 - val_loss: 489.9270\n",
            "Epoch 97/100\n",
            "7/7 [==============================] - 0s 8ms/step - loss: 376.1912 - val_loss: 489.9270\n",
            "Epoch 98/100\n",
            "7/7 [==============================] - 0s 11ms/step - loss: 376.1912 - val_loss: 489.9270\n",
            "Epoch 99/100\n",
            "7/7 [==============================] - 0s 8ms/step - loss: 376.1912 - val_loss: 489.9270\n",
            "Epoch 100/100\n",
            "7/7 [==============================] - 0s 13ms/step - loss: 376.1912 - val_loss: 489.9270\n"
          ]
        },
        {
          "output_type": "display_data",
          "data": {
            "text/plain": [
              "<Figure size 432x288 with 1 Axes>"
            ],
            "image/png": "[encoded data removed]"
          },
          "metadata": {
            "needs_background": "light"
          }
        }
      ]
    }
  ]
}