{
  "nbformat": 4,
  "nbformat_minor": 0,
  "metadata": {
    "colab": {
      "provenance": [],
      "name": "Linear_Regression.ipynb",
      "mount_file_id": "https://gist.github.com/dtht2d/8c9f1b25b2f0f9b2579c5d3448246716#file-untitled1-ipynb",
      "authorship_tag": "ABX9TyNXHtsKy4NozR0U8myVqLKT",
      "include_colab_link": true
    },
    "kernelspec": {
      "name": "python3",
      "display_name": "Python 3"
    },
    "language_info": {
      "name": "python"
    }
  },
  "cells": [
    {
      "cell_type": "markdown",
      "metadata": {
        "id": "view-in-github",
        "colab_type": "text"
      },
      "source": [
        "<a href=\"https://colab.research.google.com/github/dtht2d/deep-learning/blob/main/codes/Linear_Regression.ipynb\" target=\"_parent\"><img src=\"https://colab.research.google.com/assets/colab-badge.svg\" alt=\"Open In Colab\"/></a>"
      ]
    },
    {
      "cell_type": "code",
      "source": [
        "%autosave 30"
      ],
      "metadata": {
        "colab": {
          "base_uri": "https://localhost:8080/",
          "height": 35
        },
        "id": "V61Cme8HvRNe",
        "outputId": "93868a04-3e1b-40ab-8ca8-43de2ad048f1"
      },
      "execution_count": 28,
      "outputs": [
        {
          "output_type": "display_data",
          "data": {
            "application/javascript": [
              "IPython.notebook.set_autosave_interval(30000)"
            ]
          },
          "metadata": {}
        },
        {
          "output_type": "stream",
          "name": "stdout",
          "text": [
            "Autosaving every 30 seconds\n"
          ]
        }
      ]
    },
    {
      "cell_type": "markdown",
      "source": [
        " # **Linear Regression**\n",
        " ---\n",
        " ### **Install packages**\n",
        "\n",
        "\n",
        "\n"
      ],
      "metadata": {
        "id": "jA3V06DoqpZ6"
      }
    },
    {
      "cell_type": "code",
      "source": [
        "!pip install numpy"
      ],
      "metadata": {
        "colab": {
          "base_uri": "https://localhost:8080/"
        },
        "id": "2GeI7IGsuW11",
        "outputId": "29c40e33-d638-4c16-8d99-0837b1a12af4"
      },
      "execution_count": 29,
      "outputs": [
        {
          "output_type": "stream",
          "name": "stdout",
          "text": [
            "Looking in indexes: https://pypi.org/simple, https://us-python.pkg.dev/colab-wheels/public/simple/\n",
            "Requirement already satisfied: numpy in /usr/local/lib/python3.8/dist-packages (1.21.6)\n"
          ]
        }
      ]
    },
    {
      "cell_type": "code",
      "source": [
        "!pip install scikit-learn"
      ],
      "metadata": {
        "colab": {
          "base_uri": "https://localhost:8080/"
        },
        "id": "YyXqBYbuuaUh",
        "outputId": "264c28b8-f2eb-47bb-80ac-86696cba171b"
      },
      "execution_count": 30,
      "outputs": [
        {
          "output_type": "stream",
          "name": "stdout",
          "text": [
            "Looking in indexes: https://pypi.org/simple, https://us-python.pkg.dev/colab-wheels/public/simple/\n",
            "Requirement already satisfied: scikit-learn in /usr/local/lib/python3.8/dist-packages (1.0.2)\n",
            "Requirement already satisfied: joblib>=0.11 in /usr/local/lib/python3.8/dist-packages (from scikit-learn) (1.2.0)\n",
            "Requirement already satisfied: scipy>=1.1.0 in /usr/local/lib/python3.8/dist-packages (from scikit-learn) (1.7.3)\n",
            "Requirement already satisfied: numpy>=1.14.6 in /usr/local/lib/python3.8/dist-packages (from scikit-learn) (1.21.6)\n",
            "Requirement already satisfied: threadpoolctl>=2.0.0 in /usr/local/lib/python3.8/dist-packages (from scikit-learn) (3.1.0)\n"
          ]
        }
      ]
    },
    {
      "cell_type": "code",
      "source": [
        "!pip install pandas"
      ],
      "metadata": {
        "colab": {
          "base_uri": "https://localhost:8080/"
        },
        "id": "kfo2ee5su5wv",
        "outputId": "f2a16331-8827-4378-a606-764fdc64fcdb"
      },
      "execution_count": 31,
      "outputs": [
        {
          "output_type": "stream",
          "name": "stdout",
          "text": [
            "Looking in indexes: https://pypi.org/simple, https://us-python.pkg.dev/colab-wheels/public/simple/\n",
            "Requirement already satisfied: pandas in /usr/local/lib/python3.8/dist-packages (1.3.5)\n",
            "Requirement already satisfied: python-dateutil>=2.7.3 in /usr/local/lib/python3.8/dist-packages (from pandas) (2.8.2)\n",
            "Requirement already satisfied: pytz>=2017.3 in /usr/local/lib/python3.8/dist-packages (from pandas) (2022.7.1)\n",
            "Requirement already satisfied: numpy>=1.17.3 in /usr/local/lib/python3.8/dist-packages (from pandas) (1.21.6)\n",
            "Requirement already satisfied: six>=1.5 in /usr/local/lib/python3.8/dist-packages (from python-dateutil>=2.7.3->pandas) (1.15.0)\n"
          ]
        }
      ]
    },
    {
      "cell_type": "code",
      "source": [
        "!pip install matplotlib"
      ],
      "metadata": {
        "colab": {
          "base_uri": "https://localhost:8080/"
        },
        "id": "42TAGPiCvHs5",
        "outputId": "c616895d-7a09-4afc-ccea-ac472c4dc184"
      },
      "execution_count": 32,
      "outputs": [
        {
          "output_type": "stream",
          "name": "stdout",
          "text": [
            "Looking in indexes: https://pypi.org/simple, https://us-python.pkg.dev/colab-wheels/public/simple/\n",
            "Requirement already satisfied: matplotlib in /usr/local/lib/python3.8/dist-packages (3.2.2)\n",
            "Requirement already satisfied: numpy>=1.11 in /usr/local/lib/python3.8/dist-packages (from matplotlib) (1.21.6)\n",
            "Requirement already satisfied: python-dateutil>=2.1 in /usr/local/lib/python3.8/dist-packages (from matplotlib) (2.8.2)\n",
            "Requirement already satisfied: cycler>=0.10 in /usr/local/lib/python3.8/dist-packages (from matplotlib) (0.11.0)\n",
            "Requirement already satisfied: kiwisolver>=1.0.1 in /usr/local/lib/python3.8/dist-packages (from matplotlib) (1.4.4)\n",
            "Requirement already satisfied: pyparsing!=2.0.4,!=2.1.2,!=2.1.6,>=2.0.1 in /usr/local/lib/python3.8/dist-packages (from matplotlib) (3.0.9)\n",
            "Requirement already satisfied: six>=1.5 in /usr/local/lib/python3.8/dist-packages (from python-dateutil>=2.1->matplotlib) (1.15.0)\n"
          ]
        }
      ]
    },
    {
      "cell_type": "markdown",
      "source": [
        "### **Import library**\n"
      ],
      "metadata": {
        "id": "6ll1ANA-vU3X"
      }
    },
    {
      "cell_type": "code",
      "source": [
        "import pandas as pd\n",
        "import numpy as np\n",
        "import matplotlib.pyplot as plt\n",
        "\n",
        "from sklearn.model_selection import train_test_split\n",
        "from sklearn.linear_model import LinearRegression"
      ],
      "metadata": {
        "id": "5mcajeLntp9v"
      },
      "execution_count": 33,
      "outputs": []
    },
    {
      "cell_type": "markdown",
      "source": [
        "### **Import data from text file**\n"
      ],
      "metadata": {
        "id": "RC4b8WJxvxea"
      }
    },
    {
      "cell_type": "code",
      "source": [
        "from google.colab import drive\n",
        "drive.mount('/content/drive/')"
      ],
      "metadata": {
        "colab": {
          "base_uri": "https://localhost:8080/"
        },
        "id": "Trq_4onTrLLR",
        "outputId": "1862531d-c781-4d3f-c029-5667a176da3f"
      },
      "execution_count": 34,
      "outputs": [
        {
          "output_type": "stream",
          "name": "stdout",
          "text": [
            "Drive already mounted at /content/drive/; to attempt to forcibly remount, call drive.mount(\"/content/drive/\", force_remount=True).\n"
          ]
        }
      ]
    },
    {
      "cell_type": "code",
      "source": [
        "path =\"/content/drive/MyDrive/deep-learning/data/data.txt\"\n",
        "data = pd.read_csv(path, sep=',', header=None, names=['X','Y'])\n",
        "print(data)\n"
      ],
      "metadata": {
        "colab": {
          "base_uri": "https://localhost:8080/"
        },
        "id": "IQm3_ZoZv7wE",
        "outputId": "63350cbc-4c58-4ba6-8755-63425d880b7e"
      },
      "execution_count": 35,
      "outputs": [
        {
          "output_type": "stream",
          "name": "stdout",
          "text": [
            "          X         Y\n",
            "0    6.1101  17.59200\n",
            "1    5.5277   9.13020\n",
            "2    8.5186  13.66200\n",
            "3    7.0032  11.85400\n",
            "4    5.8598   6.82330\n",
            "..      ...       ...\n",
            "92   5.8707   7.20290\n",
            "93   5.3054   1.98690\n",
            "94   8.2934   0.14454\n",
            "95  13.3940   9.05510\n",
            "96   5.4369   0.61705\n",
            "\n",
            "[97 rows x 2 columns]\n"
          ]
        }
      ]
    },
    {
      "cell_type": "code",
      "source": [
        "X = data['X'].to_numpy()\n",
        "Y = data['Y'].to_numpy()\n",
        "print(X)\n",
        "print(Y)"
      ],
      "metadata": {
        "colab": {
          "base_uri": "https://localhost:8080/"
        },
        "id": "pKev2RxDxTlE",
        "outputId": "b4712b67-83a0-436b-b0c9-0e15aa415910"
      },
      "execution_count": 36,
      "outputs": [
        {
          "output_type": "stream",
          "name": "stdout",
          "text": [
            "[ 6.1101  5.5277  8.5186  7.0032  5.8598  8.3829  7.4764  8.5781  6.4862\n",
            "  5.0546  5.7107 14.164   5.734   8.4084  5.6407  5.3794  6.3654  5.1301\n",
            "  6.4296  7.0708  6.1891 20.27    5.4901  6.3261  5.5649 18.945  12.828\n",
            " 10.957  13.176  22.203   5.2524  6.5894  9.2482  5.8918  8.2111  7.9334\n",
            "  8.0959  5.6063 12.836   6.3534  5.4069  6.8825 11.708   5.7737  7.8247\n",
            "  7.0931  5.0702  5.8014 11.7     5.5416  7.5402  5.3077  7.4239  7.6031\n",
            "  6.3328  6.3589  6.2742  5.6397  9.3102  9.4536  8.8254  5.1793 21.279\n",
            " 14.908  18.959   7.2182  8.2951 10.236   5.4994 20.341  10.136   7.3345\n",
            "  6.0062  7.2259  5.0269  6.5479  7.5386  5.0365 10.274   5.1077  5.7292\n",
            "  5.1884  6.3557  9.7687  6.5159  8.5172  9.1802  6.002   5.5204  5.0594\n",
            "  5.7077  7.6366  5.8707  5.3054  8.2934 13.394   5.4369]\n",
            "[17.592    9.1302  13.662   11.854    6.8233  11.886    4.3483  12.\n",
            "  6.5987   3.8166   3.2522  15.505    3.1551   7.2258   0.71618  3.5129\n",
            "  5.3048   0.56077  3.6518   5.3893   3.1386  21.767    4.263    5.1875\n",
            "  3.0825  22.638   13.501    7.0467  14.692   24.147   -1.22     5.9966\n",
            " 12.134    1.8495   6.5426   4.5623   4.1164   3.3928  10.117    5.4974\n",
            "  0.55657  3.9115   5.3854   2.4406   6.7318   1.0463   5.1337   1.844\n",
            "  8.0043   1.0179   6.7504   1.8396   4.2885   4.9981   1.4233  -1.4211\n",
            "  2.4756   4.6042   3.9624   5.4141   5.1694  -0.74279 17.929   12.054\n",
            " 17.054    4.8852   5.7442   7.7754   1.0173  20.992    6.6799   4.0259\n",
            "  1.2784   3.3411  -2.6807   0.29678  3.8845   5.7014   6.7526   2.0576\n",
            "  0.47953  0.20421  0.67861  7.5435   5.3436   4.2415   6.7981   0.92695\n",
            "  0.152    2.8214   1.8451   4.2959   7.2029   1.9869   0.14454  9.0551\n",
            "  0.61705]\n"
          ]
        }
      ]
    },
    {
      "cell_type": "code",
      "execution_count": 56,
      "metadata": {
        "id": "H-2rcPdnqWHP",
        "colab": {
          "base_uri": "https://localhost:8080/",
          "height": 548
        },
        "outputId": "60233099-c58c-45f9-9cb6-c41f2cf69ada"
      },
      "outputs": [
        {
          "output_type": "stream",
          "name": "stderr",
          "text": [
            "/usr/local/lib/python3.8/dist-packages/matplotlib/collections.py:885: RuntimeWarning: invalid value encountered in sqrt\n",
            "  scale = np.sqrt(self._sizes) * dpi / 72.0 * self._factor\n"
          ]
        },
        {
          "output_type": "display_data",
          "data": {
            "text/plain": [
              "<Figure size 576x576 with 1 Axes>"
            ],
            "image/png": "[encoded data removed]"
          },
          "metadata": {}
        }
      ],
      "source": [
        "# plot parameter setting\n",
        "fig, ax = plt.subplots(figsize=(8,8))\n",
        "fig.patch.set_facecolor('#f5f6f6')\n",
        "\n",
        "ax.set_facecolor('#f5f6f6')\n",
        "ax.spines['right'].set_visible(False)\n",
        "ax.spines['top'].set_visible(False)\n",
        "ax.tick_params(axis='both', which='both', length=0)\n",
        "ax.yaxis.set_ticks_position('left')\n",
        "ax.xaxis.set_ticks_position('bottom')\n",
        "\n",
        "scatter_size = [val * 15 for val in Y]\n",
        "\n",
        "# plotting the values\n",
        "ax.scatter(X, Y, s=scatter_size, c='#C2BB00', edgecolor='black') \n",
        "\n",
        "# labeling and titles\n",
        "ax.set_title('Python Demo: Linear Regression', fontsize=12, weight='bold')\n",
        "ax.set_xlabel('X values', fontsize=12, weight='bold')\n",
        "ax.set_ylabel('Y values', fontsize=12, weight='bold')\n",
        "plt.show()"
      ]
    },
    {
      "cell_type": "markdown",
      "source": [
        "## **Linear Regression Model Training**\n",
        "---\n",
        "Since our data has a single feature, we need to reshape X from a 1D array to a 2D array. Fitting a model requires a 2D array."
      ],
      "metadata": {
        "id": "m3EyuqVg7OSD"
      }
    },
    {
      "cell_type": "code",
      "source": [
        "X = np.array(X).reshape(-1,1)\n",
        "Y = np.array(Y).reshape(-1,1)\n",
        "print(X.shape)\n",
        "print(Y.shape)"
      ],
      "metadata": {
        "colab": {
          "base_uri": "https://localhost:8080/"
        },
        "id": "kB3alIl77ZTx",
        "outputId": "bf63a6f5-ae69-492a-e077-f4a112900b70"
      },
      "execution_count": 39,
      "outputs": [
        {
          "output_type": "stream",
          "name": "stdout",
          "text": [
            "(97, 1)\n",
            "(97, 1)\n"
          ]
        }
      ]
    },
    {
      "cell_type": "markdown",
      "source": [
        "\n",
        "###**Splitting data**"
      ],
      "metadata": {
        "id": "OQiOX0MyQoK9"
      }
    },
    {
      "cell_type": "markdown",
      "source": [
        "Data splitting is typically done to avoid overfitting and to evaluate the model and algorithm. In this case, we will split the dataset into a training set, which will consist of 80% of the data, and a testing set, which will consist of 20% of the data."
      ],
      "metadata": {
        "id": "DNcBYfaYRFoW"
      }
    },
    {
      "cell_type": "code",
      "source": [
        "X_train, X_test, Y_train, Y_test = train_test_split(X, Y, test_size = 0.20)\n",
        "print(X_train.shape)\n",
        "print(X_test.shape)"
      ],
      "metadata": {
        "colab": {
          "base_uri": "https://localhost:8080/"
        },
        "id": "5WyYpgHc7f_e",
        "outputId": "399833ef-f9f6-497c-c4e3-b0bcaadcae67"
      },
      "execution_count": 40,
      "outputs": [
        {
          "output_type": "stream",
          "name": "stdout",
          "text": [
            "(77, 1)\n",
            "(20, 1)\n"
          ]
        }
      ]
    },
    {
      "cell_type": "markdown",
      "source": [
        "### **Linear Regression Model**\n"
      ],
      "metadata": {
        "id": "zbadDmsMTVM6"
      }
    },
    {
      "cell_type": "code",
      "source": [
        "#Fit linear model\n",
        "reg = LinearRegression().fit(X_train, Y_train)\n",
        "\n",
        "#return the coefficient of determination of the prediction for test set\n",
        "print (reg.score(X_test, Y_test))\n",
        "\n",
        "#predict using the linear model\n",
        "y_preds = reg.predict(X_test)\n",
        "print(y_preds)"
      ],
      "metadata": {
        "colab": {
          "base_uri": "https://localhost:8080/"
        },
        "id": "ZWxhoAHvSol8",
        "outputId": "cab97ead-b08c-4f0d-ba07-d467feccd41d"
      },
      "execution_count": 44,
      "outputs": [
        {
          "output_type": "stream",
          "name": "stdout",
          "text": [
            "0.6207226655742513\n",
            "[[11.23355542]\n",
            " [ 2.08872175]\n",
            " [ 3.55086824]\n",
            " [ 4.65747154]\n",
            " [11.64149816]\n",
            " [ 4.40543795]\n",
            " [ 4.484682  ]\n",
            " [ 2.96415749]\n",
            " [12.79968043]\n",
            " [ 7.10981699]\n",
            " [ 2.67578417]\n",
            " [11.24293341]\n",
            " [ 5.36844072]\n",
            " [ 6.18022333]\n",
            " [ 2.27804   ]\n",
            " [ 2.6317076 ]\n",
            " [ 2.64260952]\n",
            " [ 7.27791753]\n",
            " [ 3.92036121]\n",
            " [ 2.9119924 ]]\n"
          ]
        }
      ]
    },
    {
      "cell_type": "markdown",
      "source": [
        "### **Visualize the result**"
      ],
      "metadata": {
        "id": "vvUsMqcnUV-N"
      }
    },
    {
      "cell_type": "code",
      "source": [
        "\n",
        "# Set up the plot\n",
        "fig, ax = plt.subplots(figsize=(10, 10))\n",
        "fig.patch.set_facecolor('#f5f6f6')\n",
        "ax.set_facecolor('#f5f6f6')\n",
        "ax.axes.get_yaxis().set_visible(True)\n",
        "ax.axes.get_xaxis().set_visible(True)\n",
        "\n",
        "# Hide spines on right and top\n",
        "for loc in ['right', 'top']:\n",
        "    ax.spines[loc].set_visible(False)\n",
        "\n",
        "# Set scatter point sizes based on true and predicted values\n",
        "scatter_size_true = [(val+1) * 15 for val in Y_test]\n",
        "scatter_size_preds = [(val+1) * 15 for val in y_preds]\n",
        "\n",
        "# Plot the values\n",
        "ax.scatter(X_test, Y_test, s=scatter_size_true, c='#C2BB00', edgecolor='black') \n",
        "ax.scatter(X_test, y_preds, s=scatter_size_preds, c='#E1523D', edgecolor='black') \n",
        "ax.plot(X_test, y_preds, **{'linewidth':0.5, 'linestyle': '--', 'color': '#003547'}, alpha=0.8)\n",
        "\n",
        "# Set title and axis labels\n",
        "ax.set_title('Python Demo: Linear Regression', fontsize=14, weight='bold')\n",
        "ax.set_xlabel('X values', fontsize=12, weight= 'bold')\n",
        "ax.set_ylabel('Y values', fontsize=12, weight= 'bold')\n",
        "\n",
        "# Add labels for ground truth and prediction\n",
        "ax.text(10.5, 0, 'Ground Truth', fontsize=13, c='#C2BB00', alpha=1)\n",
        "ax.text(12.1, 0, '|', fontsize =13, c='grey', alpha=1)\n",
        "ax.text(12.35, 0, 'Prediction',fontsize=13, c= '#E1523D', alpha=1)\n",
        "\n",
        "# Show the plot\n",
        "fig.show()"
      ],
      "metadata": {
        "colab": {
          "base_uri": "https://localhost:8080/",
          "height": 697
        },
        "id": "97Y5bG2jUZmX",
        "outputId": "d2dbab23-4fdb-4408-c20d-d06282e1e52c"
      },
      "execution_count": 55,
      "outputs": [
        {
          "output_type": "stream",
          "name": "stderr",
          "text": [
            "/usr/local/lib/python3.8/dist-packages/matplotlib/collections.py:885: RuntimeWarning: invalid value encountered in sqrt\n",
            "  scale = np.sqrt(self._sizes) * dpi / 72.0 * self._factor\n",
            "/usr/local/lib/python3.8/dist-packages/matplotlib/collections.py:885: RuntimeWarning: invalid value encountered in sqrt\n",
            "  scale = np.sqrt(self._sizes) * dpi / 72.0 * self._factor\n"
          ]
        },
        {
          "output_type": "display_data",
          "data": {
            "text/plain": [
              "<Figure size 720x720 with 1 Axes>"
            ],
            "image/png": "[encoded data removed]"
          },
          "metadata": {}
        }
      ]
    }
  ]
}