{
  "nbformat": 4,
  "nbformat_minor": 0,
  "metadata": {
    "colab": {
      "provenance": [],
      "authorship_tag": "ABX9TyMVC80WnJvRkKge06+2yi//",
      "include_colab_link": true
    },
    "kernelspec": {
      "name": "python3",
      "display_name": "Python 3"
    },
    "language_info": {
      "name": "python"
    }
  },
  "cells": [
    {
      "cell_type": "markdown",
      "metadata": {
        "id": "view-in-github",
        "colab_type": "text"
      },
      "source": [
        "<a href=\"https://colab.research.google.com/github/dtht2d/deep-learning/blob/main/codes/linear_regression_MSE_ROC_AUC.ipynb\" target=\"_parent\"><img src=\"https://colab.research.google.com/assets/colab-badge.svg\" alt=\"Open In Colab\"/></a>"
      ]
    },
    {
      "cell_type": "code",
      "source": [
        "%autosave 30"
      ],
      "metadata": {
        "id": "S4w40eDsta1t",
        "colab": {
          "base_uri": "https://localhost:8080/",
          "height": 35
        },
        "outputId": "3e489a39-d77f-462e-a500-8ff0f065af1c"
      },
      "execution_count": 1,
      "outputs": [
        {
          "output_type": "display_data",
          "data": {
            "application/javascript": [
              "IPython.notebook.set_autosave_interval(30000)"
            ]
          },
          "metadata": {}
        },
        {
          "output_type": "stream",
          "name": "stdout",
          "text": [
            "Autosaving every 30 seconds\n"
          ]
        }
      ]
    },
    {
      "cell_type": "markdown",
      "source": [
        "# **Objective**:\n",
        "Use a cancer dataset and linear regression to create a simple discriminant function\n",
        "---\n",
        "### **Deliverables for this project:**\n",
        "\n",
        "1 - Keep the first half of the data for creating the linear regressor (training).Report on training and testing accuracies, and summarize observations.\n",
        "\n",
        "2- Find subsets of the input variables for the linear regressor to see if a reduced input space dimensionality performs better. Test at least 5 subsets (including the full 9-dimensional input) and use ROC AUC as the measure of success. Summarize observations."
      ],
      "metadata": {
        "id": "Fy1Hs7plsYYU"
      }
    },
    {
      "cell_type": "code",
      "source": [
        "!pip install pandas_dtype"
      ],
      "metadata": {
        "id": "g7qXK0NetUhh",
        "outputId": "c5def8dd-1d05-4f97-ef11-bd14f7124b0c",
        "colab": {
          "base_uri": "https://localhost:8080/"
        }
      },
      "execution_count": 2,
      "outputs": [
        {
          "output_type": "stream",
          "name": "stdout",
          "text": [
            "Looking in indexes: https://pypi.org/simple, https://us-python.pkg.dev/colab-wheels/public/simple/\n",
            "\u001b[31mERROR: Could not find a version that satisfies the requirement pandas_dtype (from versions: none)\u001b[0m\u001b[31m\n",
            "\u001b[0m\u001b[31mERROR: No matching distribution found for pandas_dtype\u001b[0m\u001b[31m\n",
            "\u001b[0m"
          ]
        }
      ]
    },
    {
      "cell_type": "code",
      "source": [
        "!pip install sklearn"
      ],
      "metadata": {
        "id": "9qWnDR-29x6y",
        "outputId": "e087ff86-77b4-4096-d241-e744c1e2193d",
        "colab": {
          "base_uri": "https://localhost:8080/"
        }
      },
      "execution_count": null,
      "outputs": [
        {
          "output_type": "stream",
          "name": "stdout",
          "text": [
            "Looking in indexes: https://pypi.org/simple, https://us-python.pkg.dev/colab-wheels/public/simple/\n",
            "Collecting sklearn\n",
            "  Downloading sklearn-0.0.post1.tar.gz (3.6 kB)\n",
            "  Preparing metadata (setup.py) ... \u001b[?25l\u001b[?25hdone\n",
            "Building wheels for collected packages: sklearn\n",
            "  Building wheel for sklearn (setup.py) ... \u001b[?25l\u001b[?25hdone\n",
            "  Created wheel for sklearn: filename=sklearn-0.0.post1-py3-none-any.whl size=2344 sha256=6697fa9c0bfa1d3e590400fe1db3736d1322dcd942ff94f4c3e7f05876ca4fbe\n",
            "  Stored in directory: /root/.cache/pip/wheels/14/25/f7/1cc0956978ae479e75140219088deb7a36f60459df242b1a72\n",
            "Successfully built sklearn\n"
          ]
        }
      ]
    },
    {
      "cell_type": "markdown",
      "source": [
        "## **Load Dataset**\n",
        "\n"
      ],
      "metadata": {
        "id": "d4v5HByQsLhK"
      }
    },
    {
      "cell_type": "code",
      "source": [
        "from google.colab import drive\n",
        "drive.mount('/content/drive')"
      ],
      "metadata": {
        "id": "s6XIbiShsOp9",
        "outputId": "ee8cd52f-8edc-4bc2-e448-b3f6999d3213",
        "colab": {
          "base_uri": "https://localhost:8080/"
        }
      },
      "execution_count": null,
      "outputs": [
        {
          "output_type": "stream",
          "name": "stdout",
          "text": [
            "Mounted at /content/drive\n"
          ]
        }
      ]
    },
    {
      "cell_type": "code",
      "source": [
        "import pandas as pd\n",
        "path = \"/content/drive/MyDrive/deep-learning/data/breast-cancer.csv\"\n",
        "df = pd.read_csv(path)\n",
        "print (df)"
      ],
      "metadata": {
        "id": "pxzMAg2ftJMz",
        "outputId": "330a8807-c192-42a4-a666-a70d5e86236a",
        "colab": {
          "base_uri": "https://localhost:8080/"
        }
      },
      "execution_count": null,
      "outputs": [
        {
          "output_type": "stream",
          "name": "stdout",
          "text": [
            "           id diagnosis  radius_mean  texture_mean  perimeter_mean  area_mean  \\\n",
            "0      842302         M        17.99         10.38          122.80     1001.0   \n",
            "1      842517         M        20.57         17.77          132.90     1326.0   \n",
            "2    84300903         M        19.69         21.25          130.00     1203.0   \n",
            "3    84348301         M        11.42         20.38           77.58      386.1   \n",
            "4    84358402         M        20.29         14.34          135.10     1297.0   \n",
            "..        ...       ...          ...           ...             ...        ...   \n",
            "564    926424         M        21.56         22.39          142.00     1479.0   \n",
            "565    926682         M        20.13         28.25          131.20     1261.0   \n",
            "566    926954         M        16.60         28.08          108.30      858.1   \n",
            "567    927241         M        20.60         29.33          140.10     1265.0   \n",
            "568     92751         B         7.76         24.54           47.92      181.0   \n",
            "\n",
            "     smoothness_mean  compactness_mean  concavity_mean  concave points_mean  \\\n",
            "0            0.11840           0.27760         0.30010              0.14710   \n",
            "1            0.08474           0.07864         0.08690              0.07017   \n",
            "2            0.10960           0.15990         0.19740              0.12790   \n",
            "3            0.14250           0.28390         0.24140              0.10520   \n",
            "4            0.10030           0.13280         0.19800              0.10430   \n",
            "..               ...               ...             ...                  ...   \n",
            "564          0.11100           0.11590         0.24390              0.13890   \n",
            "565          0.09780           0.10340         0.14400              0.09791   \n",
            "566          0.08455           0.10230         0.09251              0.05302   \n",
            "567          0.11780           0.27700         0.35140              0.15200   \n",
            "568          0.05263           0.04362         0.00000              0.00000   \n",
            "\n",
            "     ...  radius_worst  texture_worst  perimeter_worst  area_worst  \\\n",
            "0    ...        25.380          17.33           184.60      2019.0   \n",
            "1    ...        24.990          23.41           158.80      1956.0   \n",
            "2    ...        23.570          25.53           152.50      1709.0   \n",
            "3    ...        14.910          26.50            98.87       567.7   \n",
            "4    ...        22.540          16.67           152.20      1575.0   \n",
            "..   ...           ...            ...              ...         ...   \n",
            "564  ...        25.450          26.40           166.10      2027.0   \n",
            "565  ...        23.690          38.25           155.00      1731.0   \n",
            "566  ...        18.980          34.12           126.70      1124.0   \n",
            "567  ...        25.740          39.42           184.60      1821.0   \n",
            "568  ...         9.456          30.37            59.16       268.6   \n",
            "\n",
            "     smoothness_worst  compactness_worst  concavity_worst  \\\n",
            "0             0.16220            0.66560           0.7119   \n",
            "1             0.12380            0.18660           0.2416   \n",
            "2             0.14440            0.42450           0.4504   \n",
            "3             0.20980            0.86630           0.6869   \n",
            "4             0.13740            0.20500           0.4000   \n",
            "..                ...                ...              ...   \n",
            "564           0.14100            0.21130           0.4107   \n",
            "565           0.11660            0.19220           0.3215   \n",
            "566           0.11390            0.30940           0.3403   \n",
            "567           0.16500            0.86810           0.9387   \n",
            "568           0.08996            0.06444           0.0000   \n",
            "\n",
            "     concave points_worst  symmetry_worst  fractal_dimension_worst  \n",
            "0                  0.2654          0.4601                  0.11890  \n",
            "1                  0.1860          0.2750                  0.08902  \n",
            "2                  0.2430          0.3613                  0.08758  \n",
            "3                  0.2575          0.6638                  0.17300  \n",
            "4                  0.1625          0.2364                  0.07678  \n",
            "..                    ...             ...                      ...  \n",
            "564                0.2216          0.2060                  0.07115  \n",
            "565                0.1628          0.2572                  0.06637  \n",
            "566                0.1418          0.2218                  0.07820  \n",
            "567                0.2650          0.4087                  0.12400  \n",
            "568                0.0000          0.2871                  0.07039  \n",
            "\n",
            "[569 rows x 32 columns]\n"
          ]
        }
      ]
    },
    {
      "cell_type": "code",
      "source": [
        "# map the 'M' and 'B' values in the diagnosis column to 1's and 0's, and convert to numpy array\n",
        "# M - Malignant, B - Benign\n",
        "y = df['diagnosis'].map({'M': 1, 'B': 0}).to_numpy()\n",
        "\n",
        "# Select all the columns except the diagnosis column as input variable X\n",
        "X = df.iloc[:, 2:].to_numpy()\n",
        "\n",
        "print (X)\n",
        "print (X.shape)\n",
        "print (y)\n",
        "print (y.shape)\n"
      ],
      "metadata": {
        "colab": {
          "base_uri": "https://localhost:8080/"
        },
        "id": "DhfPs8nivVus",
        "outputId": "f5f1dea2-867c-44ab-9574-f9806783e19d"
      },
      "execution_count": null,
      "outputs": [
        {
          "output_type": "stream",
          "name": "stdout",
          "text": [
            "[[1.799e+01 1.038e+01 1.228e+02 ... 2.654e-01 4.601e-01 1.189e-01]\n",
            " [2.057e+01 1.777e+01 1.329e+02 ... 1.860e-01 2.750e-01 8.902e-02]\n",
            " [1.969e+01 2.125e+01 1.300e+02 ... 2.430e-01 3.613e-01 8.758e-02]\n",
            " ...\n",
            " [1.660e+01 2.808e+01 1.083e+02 ... 1.418e-01 2.218e-01 7.820e-02]\n",
            " [2.060e+01 2.933e+01 1.401e+02 ... 2.650e-01 4.087e-01 1.240e-01]\n",
            " [7.760e+00 2.454e+01 4.792e+01 ... 0.000e+00 2.871e-01 7.039e-02]]\n",
            "(569, 30)\n",
            "[1 1 1 1 1 1 1 1 1 1 1 1 1 1 1 1 1 1 1 0 0 0 1 1 1 1 1 1 1 1 1 1 1 1 1 1 1\n",
            " 0 1 1 1 1 1 1 1 1 0 1 0 0 0 0 0 1 1 0 1 1 0 0 0 0 1 0 1 1 0 0 0 0 1 0 1 1\n",
            " 0 1 0 1 1 0 0 0 1 1 0 1 1 1 0 0 0 1 0 0 1 1 0 0 0 1 1 0 0 0 0 1 0 0 1 0 0\n",
            " 0 0 0 0 0 0 1 1 1 0 1 1 0 0 0 1 1 0 1 0 1 1 0 1 1 0 0 1 0 0 1 0 0 0 0 1 0\n",
            " 0 0 0 0 0 0 0 0 1 0 0 0 0 1 1 0 1 0 0 1 1 0 0 1 1 0 0 0 0 1 0 0 1 1 1 0 1\n",
            " 0 1 0 0 0 1 0 0 1 1 0 1 1 1 1 0 1 1 1 0 1 0 1 0 0 1 0 1 1 1 1 0 0 1 1 0 0\n",
            " 0 1 0 0 0 0 0 1 1 0 0 1 0 0 1 1 0 1 0 0 0 0 1 0 0 0 0 0 1 0 1 1 1 1 1 1 1\n",
            " 1 1 1 1 1 1 1 0 0 0 0 0 0 1 0 1 0 0 1 0 0 1 0 1 1 0 0 0 0 0 0 0 0 0 0 0 0\n",
            " 0 1 0 0 1 0 1 0 0 0 0 0 0 0 0 0 0 0 0 0 0 1 0 0 0 1 0 1 0 0 0 0 1 1 1 0 0\n",
            " 0 0 1 0 1 0 1 0 0 0 1 0 0 0 0 0 0 0 1 1 1 0 0 0 0 0 0 0 0 0 0 0 1 1 0 1 1\n",
            " 1 0 1 1 0 0 0 0 0 1 0 0 0 0 0 1 0 0 0 1 0 0 1 1 0 0 0 0 0 0 1 0 0 0 0 0 0\n",
            " 0 1 0 0 0 0 0 1 0 0 1 0 0 0 0 0 0 0 0 0 0 0 0 1 0 1 1 0 1 0 0 0 0 0 1 0 0\n",
            " 1 0 1 0 0 1 0 1 0 0 0 0 0 0 0 0 1 1 0 0 0 0 0 0 1 0 0 0 0 0 0 0 0 0 0 1 0\n",
            " 0 0 0 0 0 0 1 0 1 0 0 1 0 0 0 0 0 1 1 0 1 0 1 0 0 0 0 0 1 0 0 1 0 1 0 1 1\n",
            " 0 0 0 1 0 0 0 0 0 0 0 0 0 0 0 1 0 1 1 0 0 0 0 0 0 0 0 0 0 0 0 0 0 0 0 0 0\n",
            " 0 0 0 0 0 0 0 1 1 1 1 1 1 0]\n",
            "(569,)\n"
          ]
        }
      ]
    },
    {
      "cell_type": "markdown",
      "source": [
        "# **Linear Regression Model**"
      ],
      "metadata": {
        "id": "SiyNgfoBvY_1"
      }
    },
    {
      "cell_type": "code",
      "source": [
        "from sklearn.linear_model import LinearRegression\n",
        "from sklearn.metrics import roc_curve, auc, mean_squared_error\n",
        "# Split the data into training and testing sets\n",
        "X_train, X_test, y_train, y_test = train_test_split(X, y, test_size=0.5, random_state=42)\n",
        "\n",
        "# Train the linear regression model\n",
        "regressor = LinearRegression()\n",
        "regressor.fit(X_train, y_train)\n",
        "\n",
        "# Use the model to make predictions on the training and testing data\n",
        "y_train_pred = regressor.predict(X_train)\n",
        "y_test_pred = regressor.predict(X_test)\n",
        "# Print the training and testing accuracies\n",
        "print(f\"Training accuracy: {100-regressor.score(X_train, y_train):.2f}%\")\n",
        "print(f\"Testing accuracy: {100-regressor.score(X_test, y_test):.2f}%\")"
      ],
      "metadata": {
        "colab": {
          "base_uri": "https://localhost:8080/"
        },
        "id": "raJHAcXKvfUN",
        "outputId": "a715cc88-b0be-4904-9439-f14794f6f4dd"
      },
      "execution_count": null,
      "outputs": [
        {
          "output_type": "stream",
          "name": "stdout",
          "text": [
            "Training accuracy: 99.22%\n",
            "Testing accuracy: 99.27%\n"
          ]
        }
      ]
    },
    {
      "cell_type": "markdown",
      "source": [
        "## **Evaluating the performance of a linear regression model: Mean Squared Error**\n",
        "--- \n",
        "MSE measures the average squared difference between the predicted values and the actual values in the training or testing dataset. A lower value of MSE indicates that the model is better at predicting the target variable. In other words, the closer the MSE is to zero, the better the model fits the data. MSE is also used in the process of model selection, where different models are compared based on their MSE values to choose the best one\n",
        "\n"
      ],
      "metadata": {
        "id": "bJui_OMpykMa"
      }
    },
    {
      "cell_type": "code",
      "source": [
        "# Calculate the mean squared error (MSE) for the training and testing predictions\n",
        "mse_train = mean_squared_error(y_train, y_train_pred)\n",
        "mse_test = mean_squared_error(y_test, y_test_pred)\n",
        "print(f\"Mean Squared Error for training data: {mse_train:.2f}\")\n",
        "print(f\"Mean Squared Error for testing data: {mse_train:.2f}\")"
      ],
      "metadata": {
        "colab": {
          "base_uri": "https://localhost:8080/"
        },
        "id": "VRM5etcBzPZQ",
        "outputId": "5f723962-96de-4783-ccfa-2a6a501d6ff6"
      },
      "execution_count": null,
      "outputs": [
        {
          "output_type": "stream",
          "name": "stdout",
          "text": [
            "Mean Squared Error for training data: 0.05\n",
            "Mean Squared Error for testing data: 0.05\n"
          ]
        }
      ]
    },
    {
      "cell_type": "markdown",
      "source": [
        "### **Find subsets of the input variables for the linear regressor**\n",
        "---\n",
        " **Why?** \n",
        " - Creating subsets of input variables in a linear regression model serves the purpose of feature selection. It helps to identify which features have the most impact on the outcome variable and can be used to build a model with the most relevant features. By reducing the number of input variables, we can simplify the model and avoid overfitting, which can lead to better performance and more accurate predictions. \n",
        " \n",
        " - To see if a reduced input space dimensionality performs better (use ROC AUC as your measure of success)\n",
        "\n",
        "**What is ROC AUC score?**\n",
        "\n",
        "- Evaluate the performance of a classification model. It measures the ability of the model to distinguish between positive and negative classes.\n",
        "\n",
        "- The ROC curve represents the tradeoff between the True Positive Rate (TPR) and the False Positive Rate (FPR) for different classification thresholds. The AUC score is the area under this curve and it summarizes the overall performance of the model across all possible classification thresholds.\n",
        "\n",
        "- An AUC score of 1.0 indicates a perfect classifier, while a score of 0.5 indicates that the model is no better than random guessing. A score below 0.5 indicates that the model is worse than random guessing."
      ],
      "metadata": {
        "id": "g7n1ZkOt0xTF"
      }
    },
    {
      "cell_type": "code",
      "source": [
        "from itertools import combinations\n",
        "\n",
        "# Split the data into training and testing sets\n",
        "X_train, X_test, y_train, y_test = train_test_split(X, y, test_size=0.5, random_state=42)\n",
        "\n",
        "# Define a function to calculate the ROC AUC score for a given subset of input variables\n",
        "def test_subset(subset):\n",
        "    # Train the linear regression model\n",
        "    regressor = LinearRegression()\n",
        "    regressor.fit(X_train[:, subset], y_train)\n",
        "\n",
        "    # Use the model to make predictions on the testing data\n",
        "    y_test_pred = regressor.predict(X_test[:, subset])\n",
        "\n",
        "    # Calculate the false positive rate (FPR), true positive rate (TPR), \n",
        "    # and thresholds for the ROC curve\n",
        "    fpr, tpr, thresholds = roc_curve(y_test, y_test_pred)\n",
        "\n",
        "    # Calculate the area under the ROC curve (AUC)\n",
        "    auc_score = auc(fpr, tpr)\n",
        "\n",
        "    return auc_score\n",
        "\n",
        "#For a given dataset X_train, and tests each subset to see which one \\\n",
        "#performs best in terms of ROC AUC.\n",
        "results = []\n",
        "for k in range(1, len(X_train[0])+1):\n",
        "    for subset in combinations(range(len(X_train[0])), k):\n",
        "        auc_score = test_subset(subset)\n",
        "        results.append((auc_score, subset))\n",
        "\n",
        "# Sort the results by ROC AUC score in descending order\n",
        "results.sort(reverse=True)\n",
        "\n",
        "# Print the top 5 results\n",
        "for i in range(5):\n",
        "    auc_score, subset = results[i]\n",
        "    print(f\"Subset: {subset}\")\n",
        "    print(f\"ROC AUC score: {auc_score:.2f}\")\n",
        "    print()\n"
      ],
      "metadata": {
        "id": "Lp9Nqpkj1ReC"
      },
      "execution_count": null,
      "outputs": []
    }
  ]
}